{
 "cells": [
  {
   "cell_type": "code",
   "execution_count": 1,
   "id": "bfe2edb3",
   "metadata": {},
   "outputs": [
    {
     "data": {
      "text/html": [
       "\n",
       "<style>\n",
       "div.container{width:85% !important;}\n",
       "div.cell.code_cell.rendered{width:100%;}\n",
       "div.input_prompt{padding:0px;}\n",
       "div.CodeMirror {font-family:Consolas; font-size:12pt;}\n",
       "div.output {font-size:12pt; font-weight:bold;}\n",
       "div.input {font-family:Consolas; font-size:12pt;}\n",
       "div.prompt {min-width:70px;}\n",
       "div#toc-wrapper{padding-top:120px;}\n",
       "div.text_cell_render ul li{font-size:12pt;padding:5px;}\n",
       "table.dataframe{font-size:12px;}\n",
       "</style>\n"
      ],
      "text/plain": [
       "<IPython.core.display.HTML object>"
      ]
     },
     "metadata": {},
     "output_type": "display_data"
    }
   ],
   "source": [
    "from IPython.display import display, HTML\n",
    "display(HTML(\"\"\"\n",
    "<style>\n",
    "div.container{width:85% !important;}\n",
    "div.cell.code_cell.rendered{width:100%;}\n",
    "div.input_prompt{padding:0px;}\n",
    "div.CodeMirror {font-family:Consolas; font-size:12pt;}\n",
    "div.output {font-size:12pt; font-weight:bold;}\n",
    "div.input {font-family:Consolas; font-size:12pt;}\n",
    "div.prompt {min-width:70px;}\n",
    "div#toc-wrapper{padding-top:120px;}\n",
    "div.text_cell_render ul li{font-size:12pt;padding:5px;}\n",
    "table.dataframe{font-size:12px;}\n",
    "</style>\n",
    "\"\"\"))"
   ]
  },
  {
   "cell_type": "markdown",
   "id": "178e0a29",
   "metadata": {},
   "source": [
    "- 2013년이후 전국 아파트분양가격\n",
    "- 공공데이터 포털에 있는 데이터를 Pandas의 melt, concat, transpose와 같은 reshape 기능을 활용해 분석\n",
    "- groupby, pivot_table, info, describe, value_counts등을 통한 데이터 요약과 분석\n",
    "- 이를 통해 전혀 다른 두 데이터의 정제와 병합, 수치형 데이터의 차이를 이해하고 다양한 그래프로 시각화(barplot, lineplot, scatterplot, lmplot, swarmplot, histplot)"
   ]
  },
  {
   "cell_type": "markdown",
   "id": "16c3f078",
   "metadata": {},
   "source": [
    "# 1. 패키지로드 & 한글설정 & 경고메세지 ignore"
   ]
  },
  {
   "cell_type": "code",
   "execution_count": 2,
   "id": "3ba97b03",
   "metadata": {},
   "outputs": [
    {
     "ename": "NameError",
     "evalue": "name 'warnings' is not defined",
     "output_type": "error",
     "traceback": [
      "\u001b[1;31m---------------------------------------------------------------------------\u001b[0m",
      "\u001b[1;31mNameError\u001b[0m                                 Traceback (most recent call last)",
      "Cell \u001b[1;32mIn[2], line 18\u001b[0m\n\u001b[0;32m     13\u001b[0m plt\u001b[38;5;241m.\u001b[39mrc(\u001b[38;5;124m'\u001b[39m\u001b[38;5;124maxes\u001b[39m\u001b[38;5;124m'\u001b[39m, unicode_minus\u001b[38;5;241m=\u001b[39m\u001b[38;5;28;01mFalse\u001b[39;00m) \u001b[38;5;66;03m# 축의 - 깨짐 방지\u001b[39;00m\n\u001b[0;32m     15\u001b[0m \u001b[38;5;66;03m# 다른 폰트를 기본 폰트로 하려면\u001b[39;00m\n\u001b[0;32m     16\u001b[0m  \n\u001b[0;32m     17\u001b[0m \u001b[38;5;66;03m# warning(경고) 안보이게\u001b[39;00m\n\u001b[1;32m---> 18\u001b[0m \u001b[43mwarnings\u001b[49m\u001b[38;5;241m.\u001b[39mfilterwarnings(action\u001b[38;5;241m=\u001b[39m\u001b[38;5;124m'\u001b[39m\u001b[38;5;124mignore\u001b[39m\u001b[38;5;124m'\u001b[39m)\n",
      "\u001b[1;31mNameError\u001b[0m: name 'warnings' is not defined"
     ]
    }
   ],
   "source": [
    "# 패키지 import\n",
    "import matplotlib.pyplot as plt\n",
    "import seaborn as sns\n",
    "import pandas as pd\n",
    "import numpy as np\n",
    "\n",
    "# 시각화의 선명도를 높임\n",
    "%config InlineBackend.figure_format = \"retina\"\n",
    "\n",
    "# 한글설정\n",
    "sns.set(style='white', rc={'figure.figsize':(12,3)})\n",
    "plt.rc('font', family='Malgun Gothic') # 윈도우즈\n",
    "plt.rc('axes', unicode_minus=False) # 축의 - 깨짐 방지\n",
    "\n",
    "# 다른 폰트를 기본 폰트로 하려면\n",
    " \n",
    "# warning(경고) 안보이게\n",
    "warnings.filterwarnings(action='ignore')"
   ]
  },
  {
   "cell_type": "markdown",
   "id": "96b75a9b",
   "metadata": {},
   "source": [
    "# 2. 데이터 다운로드\n",
    "- https://www.data.go.kr 에서 \"아파트 분양 가격\"을 검색한 csv 다운로드"
   ]
  },
  {
   "cell_type": "markdown",
   "id": "30764742",
   "metadata": {},
   "source": [
    "## (1) 2013년9월부터 2015년8월까지 데이터는 df_first 변수에 담아 탐색"
   ]
  },
  {
   "cell_type": "code",
   "execution_count": null,
   "id": "2f5ec101",
   "metadata": {
    "scrolled": true
   },
   "outputs": [],
   "source": []
  },
  {
   "cell_type": "code",
   "execution_count": null,
   "id": "b89bfe88",
   "metadata": {},
   "outputs": [],
   "source": []
  },
  {
   "cell_type": "code",
   "execution_count": null,
   "id": "276be3e9",
   "metadata": {},
   "outputs": [],
   "source": []
  },
  {
   "cell_type": "code",
   "execution_count": null,
   "id": "3d69fce3",
   "metadata": {},
   "outputs": [],
   "source": []
  },
  {
   "cell_type": "code",
   "execution_count": null,
   "id": "191f6f07",
   "metadata": {},
   "outputs": [],
   "source": []
  },
  {
   "cell_type": "markdown",
   "id": "fe75932d",
   "metadata": {},
   "source": [
    "- color map 참조 : https://matplotlib.org/stable/users/explain/colors/colormaps.html"
   ]
  },
  {
   "cell_type": "code",
   "execution_count": null,
   "id": "e622cc0b",
   "metadata": {},
   "outputs": [],
   "source": []
  },
  {
   "cell_type": "code",
   "execution_count": null,
   "id": "74c3e542",
   "metadata": {},
   "outputs": [],
   "source": []
  },
  {
   "cell_type": "code",
   "execution_count": null,
   "id": "5fd9b209",
   "metadata": {},
   "outputs": [],
   "source": []
  },
  {
   "cell_type": "markdown",
   "id": "4c4e038f",
   "metadata": {},
   "source": [
    "## (2) 이후 데이터는 df_last 변수에 담아 탐색"
   ]
  },
  {
   "cell_type": "code",
   "execution_count": null,
   "id": "75811c05",
   "metadata": {},
   "outputs": [],
   "source": []
  },
  {
   "cell_type": "code",
   "execution_count": null,
   "id": "bd5b5c4a",
   "metadata": {},
   "outputs": [],
   "source": []
  },
  {
   "cell_type": "code",
   "execution_count": null,
   "id": "75dbd653",
   "metadata": {},
   "outputs": [],
   "source": [
    "# 데이터 요약하기\n"
   ]
  },
  {
   "cell_type": "markdown",
   "id": "acb1afe8",
   "metadata": {},
   "source": [
    "# 3. df_last의 데이터 결측치를 확인하고 대체 고민"
   ]
  },
  {
   "cell_type": "code",
   "execution_count": null,
   "id": "ee058f9d",
   "metadata": {},
   "outputs": [],
   "source": [
    "# 열별 결측치 갯수\n"
   ]
  },
  {
   "cell_type": "code",
   "execution_count": null,
   "id": "f787fc47",
   "metadata": {},
   "outputs": [],
   "source": [
    "# 열별 결측치를 제외한 갯수\n"
   ]
  },
  {
   "cell_type": "code",
   "execution_count": null,
   "id": "5bc5097f",
   "metadata": {},
   "outputs": [],
   "source": [
    "# '분양가격(제곱미터)' 컬럼의 결측치 갯수와 결측치가 아닌 갯수, 전체 데이터 수"
   ]
  },
  {
   "cell_type": "code",
   "execution_count": null,
   "id": "89348ac9",
   "metadata": {},
   "outputs": [],
   "source": []
  },
  {
   "cell_type": "markdown",
   "id": "e5aa5e7c",
   "metadata": {},
   "source": [
    "# 4. df_last 데이셋에 평당분양가격컬럼 추가\n",
    "\n",
    "## (1) astype('float')나 pd.to_numeric() 사용\n",
    "## (2) 6,222 => 6222 수정, space가 저장된 경우 nan으로 수정하는 함수를 apply나 map적용\n",
    "## (3) df_last['분양가격(제곱미터)']*3.3"
   ]
  },
  {
   "cell_type": "code",
   "execution_count": null,
   "id": "313f5574",
   "metadata": {},
   "outputs": [],
   "source": []
  },
  {
   "cell_type": "code",
   "execution_count": null,
   "id": "6f594d0e",
   "metadata": {},
   "outputs": [],
   "source": []
  },
  {
   "cell_type": "code",
   "execution_count": null,
   "id": "7e8297f1",
   "metadata": {},
   "outputs": [],
   "source": []
  },
  {
   "cell_type": "code",
   "execution_count": null,
   "id": "df610376",
   "metadata": {},
   "outputs": [],
   "source": []
  },
  {
   "cell_type": "code",
   "execution_count": null,
   "id": "27337099",
   "metadata": {},
   "outputs": [],
   "source": []
  },
  {
   "cell_type": "code",
   "execution_count": null,
   "id": "259bc310",
   "metadata": {},
   "outputs": [],
   "source": []
  },
  {
   "cell_type": "code",
   "execution_count": null,
   "id": "25d1b18d",
   "metadata": {},
   "outputs": [],
   "source": []
  },
  {
   "cell_type": "code",
   "execution_count": null,
   "id": "a2aaa8e8",
   "metadata": {},
   "outputs": [],
   "source": []
  },
  {
   "cell_type": "code",
   "execution_count": null,
   "id": "9bad51c1",
   "metadata": {},
   "outputs": [],
   "source": []
  },
  {
   "cell_type": "code",
   "execution_count": null,
   "id": "8c42867d",
   "metadata": {},
   "outputs": [],
   "source": []
  },
  {
   "cell_type": "markdown",
   "id": "dbd758fc",
   "metadata": {},
   "source": [
    "### apply\n",
    "- apply(함수, axis) : 1차원, 2차원(axis 지정. axis기본값0)\n",
    "- map(함수) : 1차원\n",
    "- applymap(함수) : 2차원(모든 요소들에 함수를 적용)"
   ]
  },
  {
   "cell_type": "code",
   "execution_count": null,
   "id": "d98335ac",
   "metadata": {},
   "outputs": [],
   "source": [
    "# 콤마가 있는 문자에서 콤마 없애기 방법1\n",
    "temp = '12,523'\n"
   ]
  },
  {
   "cell_type": "code",
   "execution_count": null,
   "id": "33fde7f5",
   "metadata": {},
   "outputs": [],
   "source": [
    "# 콤마가 있는 문자에서 콤마 없애기 방법2\n",
    "temp = '12,523'\n"
   ]
  },
  {
   "cell_type": "code",
   "execution_count": null,
   "id": "1810f399",
   "metadata": {},
   "outputs": [],
   "source": [
    "# 분양가격 컬럼에 콤마(,)가 있는 경우 콤마(,)를 제거('5,123' -> '5123')\n",
    "# 공백문자가 있는 경우 np.nan로 바꾸는 함수\n",
    "def commadrop(row):\n",
    "    pass\n",
    "\n",
    "commadrop(df_last.loc[80]) # 콤마 제외\n",
    "commadrop(df_last.loc[1]) # 그대로\n",
    "commadrop(df_last.loc[28]) # 공백문자의 경우 nan\n",
    "commadrop(df_last.loc[368]) # nan의 경우 nan"
   ]
  },
  {
   "cell_type": "code",
   "execution_count": null,
   "id": "b20a0333",
   "metadata": {},
   "outputs": [],
   "source": [
    "# 공백문자는 결측치로, 콤마는 제거하기를 모든 행에 적용\n"
   ]
  },
  {
   "cell_type": "code",
   "execution_count": null,
   "id": "5f22a6f7",
   "metadata": {},
   "outputs": [],
   "source": []
  },
  {
   "cell_type": "code",
   "execution_count": null,
   "id": "a1e9550a",
   "metadata": {},
   "outputs": [],
   "source": []
  },
  {
   "cell_type": "code",
   "execution_count": null,
   "id": "e7f7f5e7",
   "metadata": {},
   "outputs": [],
   "source": []
  },
  {
   "cell_type": "markdown",
   "id": "5c221dc9",
   "metadata": {},
   "source": [
    "### map"
   ]
  },
  {
   "cell_type": "code",
   "execution_count": null,
   "id": "69aa2030",
   "metadata": {},
   "outputs": [],
   "source": [
    "# 결측치->결측치 return, 공백문자->결측치 return, '3,198' -> 3198 return, '3198'->3198 return,  \n",
    "def commadrop2(price):\n",
    "    pass\n",
    "\n",
    "commadrop2(df_last.loc[80, '분양가격(제곱미터)']) # 콤마제외한 문자를 숫자로 \n",
    "commadrop2(df_last.loc[1, '분양가격(제곱미터)']) # 콤마없는 문자를 숫자로 \n",
    "commadrop2(df_last.loc[28, '분양가격(제곱미터)']) # 공백문자를 nan\n",
    "commadrop2(df_last.loc[368, '분양가격(제곱미터)']) # nan을 nan"
   ]
  },
  {
   "cell_type": "markdown",
   "id": "73c9524d",
   "metadata": {},
   "source": [
    "- apply(함수, axis) : 1차원, 2차원(axis 지정. axis기본값0)\n",
    "- map(함수) : 1차원\n",
    "- applymap(함수) : 2차원(모든 요소들에 함수를 적용)"
   ]
  },
  {
   "cell_type": "code",
   "execution_count": null,
   "id": "b55c6905",
   "metadata": {},
   "outputs": [],
   "source": [
    "#df_last['분양가격(제곱미터)'].apply(commadrop2)\n",
    "#df_last['분양가격(제곱미터)'].map(commadrop2)"
   ]
  },
  {
   "cell_type": "code",
   "execution_count": null,
   "id": "d7c5f5cd",
   "metadata": {},
   "outputs": [],
   "source": []
  },
  {
   "cell_type": "code",
   "execution_count": null,
   "id": "b9405a1b",
   "metadata": {},
   "outputs": [],
   "source": []
  },
  {
   "cell_type": "markdown",
   "id": "f6cc832a",
   "metadata": {},
   "source": [
    "### apply나 map사용 안 하기"
   ]
  },
  {
   "cell_type": "code",
   "execution_count": null,
   "id": "9ea8753b",
   "metadata": {},
   "outputs": [],
   "source": []
  },
  {
   "cell_type": "code",
   "execution_count": null,
   "id": "07214187",
   "metadata": {},
   "outputs": [],
   "source": []
  },
  {
   "cell_type": "code",
   "execution_count": null,
   "id": "1e2977c9",
   "metadata": {},
   "outputs": [],
   "source": []
  },
  {
   "cell_type": "code",
   "execution_count": null,
   "id": "e150f11a",
   "metadata": {},
   "outputs": [],
   "source": []
  },
  {
   "cell_type": "code",
   "execution_count": null,
   "id": "1bc46fe7",
   "metadata": {},
   "outputs": [],
   "source": []
  },
  {
   "cell_type": "code",
   "execution_count": null,
   "id": "4128c301",
   "metadata": {},
   "outputs": [],
   "source": []
  },
  {
   "cell_type": "markdown",
   "id": "b1717019",
   "metadata": {},
   "source": [
    "# 5. df_last 데이터셋에서 전용면적 컬럼을 추가한다\n",
    "- 전용면적 컬럼, 필요없는 컬럼 처리로 메모리 절약"
   ]
  },
  {
   "cell_type": "code",
   "execution_count": null,
   "id": "9b26d030",
   "metadata": {},
   "outputs": [],
   "source": []
  },
  {
   "cell_type": "code",
   "execution_count": null,
   "id": "12ad8bd2",
   "metadata": {},
   "outputs": [],
   "source": []
  },
  {
   "cell_type": "code",
   "execution_count": null,
   "id": "5a3ac31c",
   "metadata": {},
   "outputs": [],
   "source": []
  },
  {
   "cell_type": "markdown",
   "id": "36fd7ef1",
   "metadata": {},
   "source": [
    "# 6. 메모리 사용량을 줄이기 위해 불필요한 컬럼 제거"
   ]
  },
  {
   "cell_type": "code",
   "execution_count": null,
   "id": "f9c90cc6",
   "metadata": {},
   "outputs": [],
   "source": []
  },
  {
   "cell_type": "code",
   "execution_count": null,
   "id": "82fe6a83",
   "metadata": {},
   "outputs": [],
   "source": []
  },
  {
   "cell_type": "code",
   "execution_count": null,
   "id": "6a10954b",
   "metadata": {},
   "outputs": [],
   "source": []
  },
  {
   "cell_type": "code",
   "execution_count": null,
   "id": "79028552",
   "metadata": {},
   "outputs": [],
   "source": [
    "df_last.to_csv('data/df_last.csv', index=False) # 전처리 단계 백업"
   ]
  },
  {
   "cell_type": "markdown",
   "id": "f43a7fab",
   "metadata": {},
   "source": [
    "# 7. 데이터 집계\n",
    "- GroupBy(unstack()함수 이용) vs. pivot_table()\n",
    "- 우선 결측치 대체전 데이터 집계와 시각화를 할 예정"
   ]
  },
  {
   "cell_type": "code",
   "execution_count": null,
   "id": "ef381d24",
   "metadata": {},
   "outputs": [],
   "source": []
  },
  {
   "cell_type": "code",
   "execution_count": null,
   "id": "bced6774",
   "metadata": {},
   "outputs": [],
   "source": []
  },
  {
   "cell_type": "code",
   "execution_count": null,
   "id": "7a76c729",
   "metadata": {},
   "outputs": [],
   "source": []
  },
  {
   "cell_type": "markdown",
   "id": "90d86e20",
   "metadata": {},
   "source": [
    "- df_last.groupby([\"인덱스로사용할컬럼명\"])[\"계산할컬럼명\"].연산함수()\n",
    "- df_last.pivot_table(index=[\"인덱스로사용할컬럼명\"],\n",
    "                    values=[\"계산할컬럼명\"],\n",
    "                    aggfunc=\"연산함수명\")\n",
    "- pd.pivot_table(df_last, index=[\"인덱스로사용할컬럼명\"],\n",
    "                    values=[\"계산할컬럼명\"],\n",
    "                    aggfunc=\"연산함수명\")"
   ]
  },
  {
   "cell_type": "markdown",
   "id": "c458a341",
   "metadata": {},
   "source": [
    "## (1) 지역별 데이터수"
   ]
  },
  {
   "cell_type": "code",
   "execution_count": null,
   "id": "8552acf6",
   "metadata": {},
   "outputs": [],
   "source": []
  },
  {
   "cell_type": "code",
   "execution_count": null,
   "id": "39c36752",
   "metadata": {},
   "outputs": [],
   "source": []
  },
  {
   "cell_type": "code",
   "execution_count": null,
   "id": "2a70fc0d",
   "metadata": {},
   "outputs": [],
   "source": []
  },
  {
   "cell_type": "markdown",
   "id": "18a4d8a5",
   "metadata": {},
   "source": [
    "## (2) 지역별 평당분양가격(평균, 최대값, ... 요약통계량)"
   ]
  },
  {
   "cell_type": "code",
   "execution_count": null,
   "id": "22d03774",
   "metadata": {},
   "outputs": [],
   "source": []
  },
  {
   "cell_type": "code",
   "execution_count": null,
   "id": "1a81f78d",
   "metadata": {},
   "outputs": [],
   "source": []
  },
  {
   "cell_type": "code",
   "execution_count": null,
   "id": "79c82407",
   "metadata": {},
   "outputs": [],
   "source": []
  },
  {
   "cell_type": "markdown",
   "id": "5ae27956",
   "metadata": {},
   "source": [
    "## (3) 전용면적별 평당분양가격(평균)"
   ]
  },
  {
   "cell_type": "code",
   "execution_count": null,
   "id": "7097beda",
   "metadata": {},
   "outputs": [],
   "source": []
  },
  {
   "cell_type": "code",
   "execution_count": null,
   "id": "6c8186ec",
   "metadata": {},
   "outputs": [],
   "source": []
  },
  {
   "cell_type": "code",
   "execution_count": null,
   "id": "f1c18904",
   "metadata": {},
   "outputs": [],
   "source": []
  },
  {
   "cell_type": "markdown",
   "id": "1d6e64ea",
   "metadata": {},
   "source": [
    "## (4) 지역별, 전용면적별 평당분양가격(평균)"
   ]
  },
  {
   "cell_type": "code",
   "execution_count": null,
   "id": "f76dbd45",
   "metadata": {},
   "outputs": [],
   "source": []
  },
  {
   "cell_type": "code",
   "execution_count": null,
   "id": "235b5237",
   "metadata": {},
   "outputs": [],
   "source": []
  },
  {
   "cell_type": "code",
   "execution_count": null,
   "id": "6056db01",
   "metadata": {},
   "outputs": [],
   "source": []
  },
  {
   "cell_type": "markdown",
   "id": "c589f586",
   "metadata": {},
   "source": [
    "## (5) 연도, 지역별 평당분양가격(평균)"
   ]
  },
  {
   "cell_type": "code",
   "execution_count": null,
   "id": "49e6673f",
   "metadata": {},
   "outputs": [],
   "source": []
  },
  {
   "cell_type": "code",
   "execution_count": null,
   "id": "0be17c08",
   "metadata": {},
   "outputs": [],
   "source": []
  },
  {
   "cell_type": "code",
   "execution_count": null,
   "id": "5afa5077",
   "metadata": {},
   "outputs": [],
   "source": []
  },
  {
   "cell_type": "markdown",
   "id": "224132fa",
   "metadata": {},
   "source": [
    "- color map 참조 : https://matplotlib.org/stable/users/explain/colors/colormaps.html"
   ]
  },
  {
   "cell_type": "markdown",
   "id": "238e5e40",
   "metadata": {},
   "source": [
    "# 8. matplotlib으로 시각화(위의 도표)\n",
    "https://www.research.autodesk.com/publications/same-stats-different-graphs/\n",
    "## (1) 지역별 결측치를 제외한 데이터수(line, bar)"
   ]
  },
  {
   "cell_type": "code",
   "execution_count": null,
   "id": "197c7cf0",
   "metadata": {},
   "outputs": [],
   "source": []
  },
  {
   "cell_type": "code",
   "execution_count": null,
   "id": "8a0bfcac",
   "metadata": {},
   "outputs": [],
   "source": []
  },
  {
   "cell_type": "code",
   "execution_count": null,
   "id": "20aaa00e",
   "metadata": {},
   "outputs": [],
   "source": []
  },
  {
   "cell_type": "markdown",
   "id": "69506ded",
   "metadata": {},
   "source": [
    "## (2) 지역별 평당분양가격 (line, bar)"
   ]
  },
  {
   "cell_type": "code",
   "execution_count": null,
   "id": "32169433",
   "metadata": {},
   "outputs": [],
   "source": []
  },
  {
   "cell_type": "code",
   "execution_count": null,
   "id": "aea43d05",
   "metadata": {},
   "outputs": [],
   "source": []
  },
  {
   "cell_type": "code",
   "execution_count": null,
   "id": "74284a26",
   "metadata": {},
   "outputs": [],
   "source": []
  },
  {
   "cell_type": "markdown",
   "id": "6529723b",
   "metadata": {},
   "source": [
    "## (3) 전용면적별 평당분양가격(barplot)"
   ]
  },
  {
   "cell_type": "code",
   "execution_count": null,
   "id": "3389edd5",
   "metadata": {},
   "outputs": [],
   "source": []
  },
  {
   "cell_type": "code",
   "execution_count": null,
   "id": "f65920a8",
   "metadata": {},
   "outputs": [],
   "source": []
  },
  {
   "cell_type": "code",
   "execution_count": null,
   "id": "66767578",
   "metadata": {},
   "outputs": [],
   "source": []
  },
  {
   "cell_type": "markdown",
   "id": "1bc38ca5",
   "metadata": {},
   "source": [
    "## (4) 연도별 평균 평당분양가격(line, bar)"
   ]
  },
  {
   "cell_type": "code",
   "execution_count": null,
   "id": "9b2628f6",
   "metadata": {},
   "outputs": [],
   "source": []
  },
  {
   "cell_type": "code",
   "execution_count": null,
   "id": "bf1be555",
   "metadata": {},
   "outputs": [],
   "source": []
  },
  {
   "cell_type": "code",
   "execution_count": null,
   "id": "99e94e89",
   "metadata": {},
   "outputs": [],
   "source": []
  },
  {
   "cell_type": "markdown",
   "id": "294ea9e9",
   "metadata": {},
   "source": [
    "범례:https://stackoverflow.com/questions/30490740/move-legend-outside-figure-in-seaborn-tsplot"
   ]
  },
  {
   "cell_type": "markdown",
   "id": "d93b1425",
   "metadata": {},
   "source": [
    "# 9. seaborn으로 시각화\n",
    "- 위에서 시각화한 내용을 seaborn으로 시각화"
   ]
  },
  {
   "cell_type": "markdown",
   "id": "ec806076",
   "metadata": {},
   "source": [
    "## (1) 지역별 평당분양가격"
   ]
  },
  {
   "cell_type": "code",
   "execution_count": null,
   "id": "33b511d5",
   "metadata": {},
   "outputs": [],
   "source": []
  },
  {
   "cell_type": "code",
   "execution_count": null,
   "id": "6a65b960",
   "metadata": {},
   "outputs": [],
   "source": []
  },
  {
   "cell_type": "code",
   "execution_count": null,
   "id": "0e363ddc",
   "metadata": {},
   "outputs": [],
   "source": []
  },
  {
   "cell_type": "markdown",
   "id": "4068be54",
   "metadata": {},
   "source": [
    "## (2) 연도별 평당분양가격"
   ]
  },
  {
   "cell_type": "code",
   "execution_count": null,
   "id": "5bab4f21",
   "metadata": {},
   "outputs": [],
   "source": []
  },
  {
   "cell_type": "code",
   "execution_count": null,
   "id": "9c41a517",
   "metadata": {},
   "outputs": [],
   "source": []
  },
  {
   "cell_type": "code",
   "execution_count": null,
   "id": "341abc9b",
   "metadata": {},
   "outputs": [],
   "source": []
  },
  {
   "cell_type": "markdown",
   "id": "b0a31b99",
   "metadata": {},
   "source": [
    "## (3) 그 외 lineplot, relplot, boxplot, violinplot, boxexplot, regplot, swarmplot"
   ]
  },
  {
   "cell_type": "code",
   "execution_count": null,
   "id": "7fcaa21c",
   "metadata": {},
   "outputs": [],
   "source": []
  },
  {
   "cell_type": "code",
   "execution_count": null,
   "id": "5e1348b4",
   "metadata": {},
   "outputs": [],
   "source": []
  },
  {
   "cell_type": "code",
   "execution_count": null,
   "id": "76949394",
   "metadata": {},
   "outputs": [],
   "source": []
  },
  {
   "cell_type": "markdown",
   "id": "6bb653d5",
   "metadata": {},
   "source": [
    "https://stackoverflow.com/questions/30490740/move-legend-outside-figure-in-seaborn-tsplot : 범례사용(교안 20page)"
   ]
  },
  {
   "cell_type": "markdown",
   "id": "22d9c450",
   "metadata": {},
   "source": [
    "# 10. 구조가 다른 df_first와 df_last를 연결 후 분석\n",
    "## (1) concat\n",
    "- new_first :df_first를 [지역명, 연도, 월, 평당분양가격]으로 변환\n",
    "- new_last : df_last를 [지역명, 연도, 월, 평당분양가격]으로 변환\n",
    "                (전용면적이 모든면적인 행만 추출후, 전용면적 열을 삭제)"
   ]
  },
  {
   "cell_type": "code",
   "execution_count": null,
   "id": "2d3a7ec3",
   "metadata": {},
   "outputs": [],
   "source": []
  },
  {
   "cell_type": "code",
   "execution_count": null,
   "id": "eaa26771",
   "metadata": {},
   "outputs": [],
   "source": []
  },
  {
   "cell_type": "code",
   "execution_count": null,
   "id": "09ad7448",
   "metadata": {},
   "outputs": [],
   "source": []
  },
  {
   "cell_type": "markdown",
   "id": "f01cdb5f",
   "metadata": {},
   "source": [
    "## (2) 결측치 대체(연도별, 지역별 중위값)"
   ]
  },
  {
   "cell_type": "code",
   "execution_count": null,
   "id": "d36866f3",
   "metadata": {},
   "outputs": [],
   "source": []
  },
  {
   "cell_type": "code",
   "execution_count": null,
   "id": "6b017d4f",
   "metadata": {},
   "outputs": [],
   "source": []
  },
  {
   "cell_type": "code",
   "execution_count": null,
   "id": "95097956",
   "metadata": {},
   "outputs": [],
   "source": []
  },
  {
   "cell_type": "markdown",
   "id": "8ce08686",
   "metadata": {},
   "source": [
    "## (3) df.csv파일로 출력"
   ]
  },
  {
   "cell_type": "code",
   "execution_count": null,
   "id": "38d5bc1b",
   "metadata": {},
   "outputs": [],
   "source": []
  },
  {
   "cell_type": "code",
   "execution_count": null,
   "id": "179dfade",
   "metadata": {},
   "outputs": [],
   "source": []
  },
  {
   "cell_type": "markdown",
   "id": "0b0ecc84",
   "metadata": {},
   "source": [
    "## (4) 7절부터 9절까지 분석을 한다(전용면적별 분석은 불가)\n",
    "\n",
    "- 지역명별 데이터 갯수는 결측치가 없어서 동일(groupby나 pivot_table등으로 확인)\n",
    "- 지역명별 평당분양가격(groupby, pivot_table, plot, seaborn 연습)\n",
    "- 연도별 지역명별 평당분양가격(groupby, pivot_table, plot, seaborn 연습)\n",
    "\n",
    "### ① 지역명별 데이터 행 갯수 : 결과가 1차원 시리즈"
   ]
  },
  {
   "cell_type": "code",
   "execution_count": null,
   "id": "de2c3711",
   "metadata": {},
   "outputs": [],
   "source": []
  },
  {
   "cell_type": "code",
   "execution_count": null,
   "id": "a078c56a",
   "metadata": {},
   "outputs": [],
   "source": []
  },
  {
   "cell_type": "code",
   "execution_count": null,
   "id": "6cec2307",
   "metadata": {},
   "outputs": [],
   "source": []
  },
  {
   "cell_type": "markdown",
   "id": "aa78dd8f",
   "metadata": {},
   "source": [
    "### ② 지역별 평당분양가격(평균, 최대값, ... 요약통계량)"
   ]
  },
  {
   "cell_type": "code",
   "execution_count": null,
   "id": "3a2b14bc",
   "metadata": {},
   "outputs": [],
   "source": []
  },
  {
   "cell_type": "code",
   "execution_count": null,
   "id": "57a4112b",
   "metadata": {},
   "outputs": [],
   "source": []
  },
  {
   "cell_type": "code",
   "execution_count": null,
   "id": "e080019f",
   "metadata": {},
   "outputs": [],
   "source": [
    "# 지역명당 평당분양가격 시각화(lineplot과 matplotlib의 bar, sns의 barplot)"
   ]
  },
  {
   "cell_type": "markdown",
   "id": "49d274fe",
   "metadata": {},
   "source": [
    "### ③ 연도별 평당분양가격(평균)"
   ]
  },
  {
   "cell_type": "code",
   "execution_count": null,
   "id": "045e8299",
   "metadata": {},
   "outputs": [],
   "source": []
  },
  {
   "cell_type": "code",
   "execution_count": null,
   "id": "b64ac736",
   "metadata": {},
   "outputs": [],
   "source": []
  },
  {
   "cell_type": "code",
   "execution_count": null,
   "id": "10771644",
   "metadata": {},
   "outputs": [],
   "source": [
    "# 연도별 평당분양가격 시각화(lineplot과 matplotlib의 bar, sns의 barplot)"
   ]
  },
  {
   "cell_type": "markdown",
   "id": "2e0c2083",
   "metadata": {},
   "source": [
    "### ④ 연도, 지역별 평당분양가격(평균)"
   ]
  },
  {
   "cell_type": "code",
   "execution_count": null,
   "id": "f0f486f9",
   "metadata": {},
   "outputs": [],
   "source": []
  },
  {
   "cell_type": "code",
   "execution_count": null,
   "id": "1be42fb8",
   "metadata": {},
   "outputs": [],
   "source": []
  },
  {
   "cell_type": "code",
   "execution_count": null,
   "id": "9567d564",
   "metadata": {},
   "outputs": [],
   "source": [
    "# 연도별, 지역별 평당분양가격 시각화(heatmap)"
   ]
  },
  {
   "cell_type": "code",
   "execution_count": null,
   "id": "0984a4f5",
   "metadata": {},
   "outputs": [],
   "source": [
    "# 년도별 평균 평당분양가격의 추이"
   ]
  },
  {
   "cell_type": "code",
   "execution_count": null,
   "id": "271d0ac7",
   "metadata": {},
   "outputs": [],
   "source": [
    "# 위의 그래프가 겹쳐서 작 보이지 않아 분리"
   ]
  },
  {
   "cell_type": "code",
   "execution_count": null,
   "id": "3f725468",
   "metadata": {
    "scrolled": true
   },
   "outputs": [],
   "source": [
    "# 관계형 그래프의 서브플롯을 그리는 함수는 relplot\n",
    "# 범주형 그래프의 서브플롯을 그리는 함수는 catplot"
   ]
  },
  {
   "cell_type": "code",
   "execution_count": null,
   "id": "85ae91b2",
   "metadata": {},
   "outputs": [],
   "source": [
    "# 연도별 평당분양가격의 사분위수\n"
   ]
  },
  {
   "cell_type": "code",
   "execution_count": null,
   "id": "f67501ad",
   "metadata": {},
   "outputs": [],
   "source": [
    "# 연도별 평당분양가격의 사분위수(분포포함 boxenplot)\n"
   ]
  },
  {
   "cell_type": "code",
   "execution_count": null,
   "id": "06049c46",
   "metadata": {},
   "outputs": [],
   "source": [
    "# 연도별 평당분양가격의 사분위수(분포포함 violinplot)\n"
   ]
  },
  {
   "cell_type": "code",
   "execution_count": null,
   "id": "6f1a2133",
   "metadata": {},
   "outputs": [],
   "source": [
    "# 연도에 따른 평당분양가격을 회귀식으로 시각화\n"
   ]
  },
  {
   "cell_type": "code",
   "execution_count": null,
   "id": "21a19b05",
   "metadata": {},
   "outputs": [],
   "source": [
    "# swarmplot은 많은 데이터를 그리기에는 시간이 많이 걸려 5%만 sampling후 그릴 것을 추천\n",
    "# 연도별 평당분양가격 산점도\n",
    " "
   ]
  },
  {
   "cell_type": "code",
   "execution_count": null,
   "id": "8b940d9c",
   "metadata": {},
   "outputs": [],
   "source": [
    "# 분양가격을 hist\n"
   ]
  },
  {
   "cell_type": "code",
   "execution_count": null,
   "id": "ed452295",
   "metadata": {},
   "outputs": [],
   "source": []
  }
 ],
 "metadata": {
  "kernelspec": {
   "display_name": "Python 3 (ipykernel)",
   "language": "python",
   "name": "python3"
  },
  "language_info": {
   "codemirror_mode": {
    "name": "ipython",
    "version": 3
   },
   "file_extension": ".py",
   "mimetype": "text/x-python",
   "name": "python",
   "nbconvert_exporter": "python",
   "pygments_lexer": "ipython3",
   "version": "3.10.9"
  },
  "toc": {
   "base_numbering": 1,
   "nav_menu": {},
   "number_sections": false,
   "sideBar": true,
   "skip_h1_title": false,
   "title_cell": "Table of Contents",
   "title_sidebar": "Contents",
   "toc_cell": false,
   "toc_position": {
    "height": "calc(100% - 180px)",
    "left": "10px",
    "top": "150px",
    "width": "165px"
   },
   "toc_section_display": true,
   "toc_window_display": true
  }
 },
 "nbformat": 4,
 "nbformat_minor": 5
}
