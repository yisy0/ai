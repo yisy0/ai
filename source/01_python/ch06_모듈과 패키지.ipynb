{
 "cells": [
  {
   "cell_type": "code",
   "execution_count": 1,
   "id": "7cb5644c",
   "metadata": {},
   "outputs": [
    {
     "data": {
      "text/html": [
       "\n",
       "<style>\n",
       "div.container{width:100% !important;}\n",
       "div.cell.code_cell.rendered{width:100%;}\n",
       "div.input_prompt{padding:0px;}\n",
       "div.CodeMirror {font-family:Consolas; font-size:22pt;}\n",
       "div.text_cell_render.rendered_html{font-size:18pt;}\n",
       "div.output {font-size:22pt; font-weight:bold;}\n",
       "div.input {font-family:Consolas; font-size:22pt;}\n",
       "div.prompt {min-width:70px;}\n",
       "div#toc-wrapper{padding-top:120px;}\n",
       "div.text_cell_render ul li{font-size:22pt;padding:5px;}\n",
       "table.dataframe{font-size:22px;}\n",
       "</style>\n"
      ],
      "text/plain": [
       "<IPython.core.display.HTML object>"
      ]
     },
     "metadata": {},
     "output_type": "display_data"
    }
   ],
   "source": [
    "from IPython.display import display, HTML\n",
    "display(HTML(\"\"\"\n",
    "<style>\n",
    "div.container{width:100% !important;}\n",
    "div.cell.code_cell.rendered{width:100%;}\n",
    "div.input_prompt{padding:0px;}\n",
    "div.CodeMirror {font-family:Consolas; font-size:22pt;}\n",
    "div.text_cell_render.rendered_html{font-size:18pt;}\n",
    "div.output {font-size:22pt; font-weight:bold;}\n",
    "div.input {font-family:Consolas; font-size:22pt;}\n",
    "div.prompt {min-width:70px;}\n",
    "div#toc-wrapper{padding-top:120px;}\n",
    "div.text_cell_render ul li{font-size:22pt;padding:5px;}\n",
    "table.dataframe{font-size:22px;}\n",
    "</style>\n",
    "\"\"\"))"
   ]
  },
  {
   "cell_type": "markdown",
   "id": "63138528",
   "metadata": {},
   "source": [
    "<b><font size=\"7\" color=\"red\">ch06. 모듈과 패키지</font></b>\n",
    "# 1절 파이썬 표준 모듈 사용\n",
    "- 모듈 : 함수, 변수, 클래스 등을 담고 있는 파이썬 코드 파일(*.py)\n",
    "- python.org : 파이썬 표준 모듈 200여개는 파이썬 인터프리터와 함께 install 됨(sys, re, datetime,time,...)\n",
    "- miniconda는 python.org버전보다 조금 더 많은 모듈을 install\n",
    "- anaconda는 1500개 이상의 패키지 install(정확한 갯수는 버전마다 상이)"
   ]
  },
  {
   "cell_type": "code",
   "execution_count": 7,
   "id": "80e55608",
   "metadata": {},
   "outputs": [
    {
     "data": {
      "text/plain": [
       "'Thu Sep 25 14:43:16 2025'"
      ]
     },
     "execution_count": 7,
     "metadata": {},
     "output_type": "execute_result"
    }
   ],
   "source": [
    "# 1. import 모듈명 : 모듈안의 함수, 클래스, 변수를 모듈명.함수명().. 사용\n",
    "import time\n",
    "time.ctime()"
   ]
  },
  {
   "cell_type": "code",
   "execution_count": 8,
   "id": "d31bb1cd",
   "metadata": {},
   "outputs": [
    {
     "data": {
      "text/plain": [
       "1758778997.278972"
      ]
     },
     "execution_count": 8,
     "metadata": {},
     "output_type": "execute_result"
    }
   ],
   "source": [
    "time.time() # 1970.1.1부터의 초수"
   ]
  },
  {
   "cell_type": "code",
   "execution_count": null,
   "id": "0079c527",
   "metadata": {},
   "outputs": [],
   "source": [
    "del time # time 모듈을 메모리에서 unload"
   ]
  },
  {
   "cell_type": "code",
   "execution_count": null,
   "id": "4a7a1b43",
   "metadata": {},
   "outputs": [],
   "source": [
    "# 2. from 모듈(A) import 함수|클래스|변수(B) : A모듈안의 B만 로드\n",
    "#    from 패키지(A) import 모듈(B) : A패키지안의 B모듈을 로드\n",
    "#    from 패키지(A).모듈명(B) import 함수명(C) : A(패키지)안의 .B 모듈안의 C함수만 로드"
   ]
  },
  {
   "cell_type": "code",
   "execution_count": null,
   "id": "1e8edd4c",
   "metadata": {},
   "outputs": [],
   "source": []
  },
  {
   "cell_type": "code",
   "execution_count": null,
   "id": "cde6efc1",
   "metadata": {},
   "outputs": [],
   "source": []
  },
  {
   "cell_type": "code",
   "execution_count": null,
   "id": "d562f28e",
   "metadata": {},
   "outputs": [],
   "source": []
  },
  {
   "cell_type": "code",
   "execution_count": null,
   "id": "a06d209d",
   "metadata": {},
   "outputs": [],
   "source": []
  },
  {
   "cell_type": "code",
   "execution_count": null,
   "id": "5f9b937e",
   "metadata": {},
   "outputs": [],
   "source": []
  },
  {
   "cell_type": "code",
   "execution_count": null,
   "id": "8deef39c",
   "metadata": {},
   "outputs": [],
   "source": []
  },
  {
   "cell_type": "code",
   "execution_count": null,
   "id": "d6047bc9",
   "metadata": {},
   "outputs": [],
   "source": []
  },
  {
   "cell_type": "code",
   "execution_count": null,
   "id": "37f2b8a1",
   "metadata": {},
   "outputs": [],
   "source": []
  }
 ],
 "metadata": {
  "kernelspec": {
   "display_name": "Python 3 (ipykernel)",
   "language": "python",
   "name": "python3"
  },
  "language_info": {
   "codemirror_mode": {
    "name": "ipython",
    "version": 3
   },
   "file_extension": ".py",
   "mimetype": "text/x-python",
   "name": "python",
   "nbconvert_exporter": "python",
   "pygments_lexer": "ipython3",
   "version": "3.10.9"
  },
  "toc": {
   "base_numbering": 1,
   "nav_menu": {},
   "number_sections": false,
   "sideBar": true,
   "skip_h1_title": false,
   "title_cell": "Table of Contents",
   "title_sidebar": "Contents",
   "toc_cell": false,
   "toc_position": {
    "height": "calc(100% - 180px)",
    "left": "10px",
    "top": "150px",
    "width": "165px"
   },
   "toc_section_display": true,
   "toc_window_display": true
  }
 },
 "nbformat": 4,
 "nbformat_minor": 5
}
