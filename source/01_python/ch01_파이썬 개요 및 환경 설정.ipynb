{
 "cells": [
  {
   "cell_type": "code",
   "execution_count": 1,
   "id": "6df670b8",
   "metadata": {},
   "outputs": [
    {
     "data": {
      "text/html": [
       "\n",
       "<style>\n",
       "div.container{width:90% !important;}\n",
       "div.cell.code_cell.rendered{width:100%;}\n",
       "div.input_prompt{padding:0px;}\n",
       "div.CodeMirror {font-family:Consolas; font-size:22pt;}\n",
       "div.text_cell_render.rendered_html{font-size:22pt;}\n",
       "div.output {font-size:22pt; font-weight:bold;}\n",
       "div.input {font-family:Consolas; font-size:22pt;}\n",
       "div.prompt {min-width:70px;}\n",
       "div#toc-wrapper{padding-top:120px;}\n",
       "div.text_cell_render ul li{font-size:22pt;padding:5px;}\n",
       "table.dataframe{font-size:22px;}\n",
       "</style>\n"
      ],
      "text/plain": [
       "<IPython.core.display.HTML object>"
      ]
     },
     "metadata": {},
     "output_type": "display_data"
    }
   ],
   "source": [
    "from IPython.display import display, HTML\n",
    "display(HTML(\"\"\"\n",
    "<style>\n",
    "div.container{width:90% !important;}\n",
    "div.cell.code_cell.rendered{width:100%;}\n",
    "div.input_prompt{padding:0px;}\n",
    "div.CodeMirror {font-family:Consolas; font-size:22pt;}\n",
    "div.text_cell_render.rendered_html{font-size:22pt;}\n",
    "div.output {font-size:22pt; font-weight:bold;}\n",
    "div.input {font-family:Consolas; font-size:22pt;}\n",
    "div.prompt {min-width:70px;}\n",
    "div#toc-wrapper{padding-top:120px;}\n",
    "div.text_cell_render ul li{font-size:22pt;padding:5px;}\n",
    "table.dataframe{font-size:22px;}\n",
    "</style>\n",
    "\"\"\"))"
   ]
  },
  {
   "cell_type": "markdown",
   "id": "431b704f",
   "metadata": {},
   "source": [
    "<b><font size=\"7\" color=\"red\">ch01. 파이썬 개요 및 환경 설정</font></b>\n",
    "\n",
    "# 1. 마크다운이란?\n",
    "- 코드와 함께 문서화를 할 수 있음\n",
    "- 다양한 문서화 문법 ex. README.md\n",
    "\n",
    "# 2. 주피터 노트북 사용법(큰제목)\n",
    "- shift+Enter : 포커스된 셀이 실행되고, 커서가 다음셀로 이동\n",
    "- alt+Enter : 포커스된 셀이 실행되고, 다음셀이 생성된 후, 다음셀로 이동\n",
    "- ctrl+Enter : 포커스된 셀이 실행되고, 포커스 이동이 없음\n",
    "- Enter : 다시 편집 상태로 돌아감"
   ]
  },
  {
   "cell_type": "code",
   "execution_count": null,
   "id": "2cd29551",
   "metadata": {},
   "outputs": [],
   "source": [
    "# 셀 하나하나에 파이썬 소스 입력 -> 실행"
   ]
  },
  {
   "cell_type": "code",
   "execution_count": 2,
   "id": "5ae85463",
   "metadata": {},
   "outputs": [
    {
     "name": "stdout",
     "output_type": "stream",
     "text": [
      "Hello, Python\n",
      "홍길동\n"
     ]
    }
   ],
   "source": [
    "# print()함수를 이용해서 출력 (블럭잡고 ctrl+/ : 블럭주석 토글)\n",
    "# print('Hello, Python')\n",
    "# print('홍길동')\n",
    "print(\"Hello, Python\\n홍길동\")"
   ]
  },
  {
   "cell_type": "code",
   "execution_count": 3,
   "id": "77cda448",
   "metadata": {},
   "outputs": [
    {
     "name": "stdout",
     "output_type": "stream",
     "text": [
      "27\n",
      "252\n"
     ]
    }
   ],
   "source": [
    "age = 25  # 숫자\n",
    "duration = '2' # 문자\n",
    "print(age + int(duration) )\n",
    "print(str(age) + duration)\n",
    "# view 메뉴 -> toggle line Number 선택"
   ]
  },
  {
   "cell_type": "code",
   "execution_count": null,
   "id": "c528970b",
   "metadata": {},
   "outputs": [],
   "source": [
    "# for i in range(10000000000000000000000000000000000000000000000000000000000000000000):\n",
    "#     print(i)\n",
    "# stop기능\n",
    "# kernel메뉴의 restart"
   ]
  },
  {
   "cell_type": "code",
   "execution_count": 4,
   "id": "08fafef6",
   "metadata": {},
   "outputs": [
    {
     "data": {
      "text/plain": [
       "5"
      ]
     },
     "execution_count": 4,
     "metadata": {},
     "output_type": "execute_result"
    }
   ],
   "source": [
    "print = 5\n",
    "print"
   ]
  },
  {
   "cell_type": "code",
   "execution_count": 5,
   "id": "e0a6680d",
   "metadata": {},
   "outputs": [
    {
     "ename": "TypeError",
     "evalue": "'int' object is not callable",
     "output_type": "error",
     "traceback": [
      "\u001b[1;31m---------------------------------------------------------------------------\u001b[0m",
      "\u001b[1;31mTypeError\u001b[0m                                 Traceback (most recent call last)",
      "Cell \u001b[1;32mIn[5], line 1\u001b[0m\n\u001b[1;32m----> 1\u001b[0m \u001b[38;5;28;43mprint\u001b[39;49m\u001b[43m(\u001b[49m\u001b[38;5;124;43m'\u001b[39;49m\u001b[38;5;124;43mHello\u001b[39;49m\u001b[38;5;124;43m'\u001b[39;49m\u001b[43m)\u001b[49m\n",
      "\u001b[1;31mTypeError\u001b[0m: 'int' object is not callable"
     ]
    }
   ],
   "source": [
    "print('Hello')"
   ]
  },
  {
   "cell_type": "code",
   "execution_count": 6,
   "id": "66e20edc",
   "metadata": {},
   "outputs": [],
   "source": [
    "# 실수로 할당된 print 변수를 삭제1\n",
    "del print\n",
    "# 실수로 할당된 print 변수를 삭제2 : kernel 재시작"
   ]
  },
  {
   "cell_type": "code",
   "execution_count": 7,
   "id": "f7702b3c",
   "metadata": {},
   "outputs": [
    {
     "name": "stdout",
     "output_type": "stream",
     "text": [
      "Hello\n"
     ]
    }
   ],
   "source": [
    "print('Hello')"
   ]
  },
  {
   "cell_type": "markdown",
   "id": "462a3a27",
   "metadata": {},
   "source": [
    "# 3. ESC키 누르고 \n",
    "- dd : 셀삭제\n",
    "- a : 윗셀 추가\n",
    "- b : 아랫셀 추가\n",
    "- m : 마크다운 셀로 변경\n",
    "- y : 코드셀로 변경\n",
    "- h : 핫키(단축키) 안내\n",
    "- o : 해당셀의 실행결과 접기/펴기"
   ]
  },
  {
   "cell_type": "code",
   "execution_count": 8,
   "id": "d7fac3e6",
   "metadata": {},
   "outputs": [
    {
     "name": "stdout",
     "output_type": "stream",
     "text": [
      " D 드라이브의 볼륨: 새 볼륨\n",
      " 볼륨 일련 번호: B2C0-28EF\n",
      "\n",
      " D:\\ai\\source\\01_python 디렉터리\n",
      "\n",
      "2025-09-12  오전 10:50    <DIR>          .\n",
      "2025-09-12  오전 10:50    <DIR>          ..\n",
      "2025-09-11  오후 05:28    <DIR>          .ipynb_checkpoints\n",
      "2025-09-12  오전 10:50             7,901 ch01_파이썬 개요 및 환경 설정.ipynb\n",
      "               1개 파일               7,901 바이트\n",
      "               3개 디렉터리  495,120,904,192 바이트 남음\n"
     ]
    }
   ],
   "source": [
    "# !주피터노트북에서 cmd명령어 수행\n",
    "!dir"
   ]
  },
  {
   "cell_type": "code",
   "execution_count": 9,
   "id": "56de72e7",
   "metadata": {},
   "outputs": [
    {
     "name": "stdout",
     "output_type": "stream",
     "text": [
      " D 드라이브의 볼륨: 새 볼륨\n",
      " 볼륨 일련 번호: B2C0-28EF\n",
      "\n",
      " D:\\ai\\source\\01_python 디렉터리\n",
      "\n",
      "2025-09-12  오전 10:51    <DIR>          .\n",
      "2025-09-12  오전 10:51    <DIR>          ..\n",
      "2025-09-11  오후 05:28    <DIR>          .ipynb_checkpoints\n",
      "2025-09-12  오전 10:51             8,660 ch01_파이썬 개요 및 환경 설정.ipynb\n",
      "               1개 파일               8,660 바이트\n",
      "               3개 디렉터리  495,120,896,000 바이트 남음\n"
     ]
    }
   ],
   "source": [
    "# 매직 명령어(주피터 노트북 자체 명령어)\n",
    "%ls"
   ]
  },
  {
   "cell_type": "code",
   "execution_count": null,
   "id": "84f75aaf",
   "metadata": {},
   "outputs": [],
   "source": []
  },
  {
   "cell_type": "code",
   "execution_count": null,
   "id": "642f1127",
   "metadata": {},
   "outputs": [],
   "source": []
  },
  {
   "cell_type": "code",
   "execution_count": null,
   "id": "75523999",
   "metadata": {},
   "outputs": [],
   "source": []
  },
  {
   "cell_type": "code",
   "execution_count": null,
   "id": "e6c22bfc",
   "metadata": {},
   "outputs": [],
   "source": []
  },
  {
   "cell_type": "code",
   "execution_count": null,
   "id": "695ccebb",
   "metadata": {},
   "outputs": [],
   "source": []
  },
  {
   "cell_type": "code",
   "execution_count": null,
   "id": "ec1bc44d",
   "metadata": {},
   "outputs": [],
   "source": []
  }
 ],
 "metadata": {
  "kernelspec": {
   "display_name": "Python 3 (ipykernel)",
   "language": "python",
   "name": "python3"
  },
  "language_info": {
   "codemirror_mode": {
    "name": "ipython",
    "version": 3
   },
   "file_extension": ".py",
   "mimetype": "text/x-python",
   "name": "python",
   "nbconvert_exporter": "python",
   "pygments_lexer": "ipython3",
   "version": "3.10.9"
  },
  "toc": {
   "base_numbering": 1,
   "nav_menu": {},
   "number_sections": false,
   "sideBar": true,
   "skip_h1_title": false,
   "title_cell": "Table of Contents",
   "title_sidebar": "Contents",
   "toc_cell": false,
   "toc_position": {
    "height": "calc(100% - 180px)",
    "left": "10px",
    "top": "150px",
    "width": "165px"
   },
   "toc_section_display": true,
   "toc_window_display": true
  }
 },
 "nbformat": 4,
 "nbformat_minor": 5
}
