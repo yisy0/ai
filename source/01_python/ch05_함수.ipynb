{
 "cells": [
  {
   "cell_type": "code",
   "execution_count": 52,
   "id": "546318f0",
   "metadata": {},
   "outputs": [
    {
     "data": {
      "text/html": [
       "\n",
       "<style>\n",
       "div.container{width:100% !important;}\n",
       "div.cell.code_cell.rendered{width:100%;}\n",
       "div.input_prompt{padding:0px;}\n",
       "div.CodeMirror {font-family:Consolas; font-size:22pt;}\n",
       "div.text_cell_render.rendered_html{font-size:18pt;}\n",
       "div.output {font-size:22pt; font-weight:bold;}\n",
       "div.input {font-family:Consolas; font-size:22pt;}\n",
       "div.prompt {min-width:70px;}\n",
       "div#toc-wrapper{padding-top:120px;}\n",
       "div.text_cell_render ul li{font-size:22pt;padding:5px;}\n",
       "table.dataframe{font-size:22px;}\n",
       "</style>\n"
      ],
      "text/plain": [
       "<IPython.core.display.HTML object>"
      ]
     },
     "metadata": {},
     "output_type": "display_data"
    }
   ],
   "source": [
    "from IPython.display import display, HTML\n",
    "display(HTML(\"\"\"\n",
    "<style>\n",
    "div.container{width:100% !important;}\n",
    "div.cell.code_cell.rendered{width:100%;}\n",
    "div.input_prompt{padding:0px;}\n",
    "div.CodeMirror {font-family:Consolas; font-size:22pt;}\n",
    "div.text_cell_render.rendered_html{font-size:18pt;}\n",
    "div.output {font-size:22pt; font-weight:bold;}\n",
    "div.input {font-family:Consolas; font-size:22pt;}\n",
    "div.prompt {min-width:70px;}\n",
    "div#toc-wrapper{padding-top:120px;}\n",
    "div.text_cell_render ul li{font-size:22pt;padding:5px;}\n",
    "table.dataframe{font-size:22px;}\n",
    "</style>\n",
    "\"\"\"))"
   ]
  },
  {
   "cell_type": "markdown",
   "id": "108ff7b3",
   "metadata": {},
   "source": [
    "<b><font size=\"7\" color=\"red\">ch05. 함수</font></b>\n",
    "- 반복해서 사용할 코드를 묶어 놓고 그것에 이름을 붙인 것\n",
    "- 오버로딩 불가(같은 이름의 함수는 덮어씀)\n",
    "- 함수 정의\n",
    "```\n",
    "def 함수명([매개변수1, 매개변수2, ..]):\n",
    "    명령어1\n",
    "    명령어2.....\n",
    "```\n",
    "# 1절 함수의 정의 및 사용\n",
    "## 1.1 함수 정의"
   ]
  },
  {
   "cell_type": "code",
   "execution_count": 2,
   "id": "1e082853",
   "metadata": {},
   "outputs": [],
   "source": [
    "def my_message(x, msg): # msg를 x번 출력하는 함수 정의\n",
    "    for i in range(x):\n",
    "        print(i, msg)"
   ]
  },
  {
   "cell_type": "code",
   "execution_count": 3,
   "id": "c8e1eaef",
   "metadata": {},
   "outputs": [
    {
     "name": "stdout",
     "output_type": "stream",
     "text": [
      "0 Hello\n",
      "1 Hello\n",
      "2 Hello\n"
     ]
    }
   ],
   "source": [
    "# 함수 사용 == 함수 호출\n",
    "my_message(3, 'Hello')"
   ]
  },
  {
   "cell_type": "code",
   "execution_count": 4,
   "id": "86aa1da9",
   "metadata": {},
   "outputs": [
    {
     "name": "stdout",
     "output_type": "stream",
     "text": [
      "0 Hello\n",
      "1 Hello\n",
      "0 Python\n",
      "1 Python\n",
      "2 Python\n"
     ]
    }
   ],
   "source": [
    "# 함수 이름 변경\n",
    "my_msg = my_message\n",
    "my_message(2, 'Hello')\n",
    "my_msg(3, 'Python')"
   ]
  },
  {
   "cell_type": "code",
   "execution_count": 5,
   "id": "a91a8e3e",
   "metadata": {},
   "outputs": [
    {
     "data": {
      "text/plain": [
       "(function, function)"
      ]
     },
     "execution_count": 5,
     "metadata": {},
     "output_type": "execute_result"
    }
   ],
   "source": [
    "type(my_msg), type(my_message)"
   ]
  },
  {
   "cell_type": "code",
   "execution_count": 6,
   "id": "56a6773b",
   "metadata": {},
   "outputs": [
    {
     "name": "stdout",
     "output_type": "stream",
     "text": [
      "Hello\n"
     ]
    },
    {
     "ename": "TypeError",
     "evalue": "'int' object is not callable",
     "output_type": "error",
     "traceback": [
      "\u001b[1;31m--------------------------------------------------\u001b[0m",
      "\u001b[1;31mTypeError\u001b[0m        Traceback (most recent call last)",
      "Cell \u001b[1;32mIn[6], line 3\u001b[0m\n\u001b[0;32m      1\u001b[0m \u001b[38;5;28mprint\u001b[39m(\u001b[38;5;124m'\u001b[39m\u001b[38;5;124mHello\u001b[39m\u001b[38;5;124m'\u001b[39m) \u001b[38;5;66;03m# 파이썬 내장 함수(import 하지 않고 사용할 수 있는 함수)\u001b[39;00m\n\u001b[0;32m      2\u001b[0m \u001b[38;5;28mprint\u001b[39m \u001b[38;5;241m=\u001b[39m \u001b[38;5;241m5\u001b[39m\n\u001b[1;32m----> 3\u001b[0m \u001b[38;5;28;43mprint\u001b[39;49m\u001b[43m(\u001b[49m\u001b[38;5;124;43m'\u001b[39;49m\u001b[38;5;124;43mHello\u001b[39;49m\u001b[38;5;124;43m'\u001b[39;49m\u001b[43m)\u001b[49m\n",
      "\u001b[1;31mTypeError\u001b[0m: 'int' object is not callable"
     ]
    }
   ],
   "source": [
    "print('Hello') # 파이썬 내장 함수(import 하지 않고 사용할 수 있는 함수)\n",
    "print = 5\n",
    "print('Hello')"
   ]
  },
  {
   "cell_type": "code",
   "execution_count": 10,
   "id": "bfa3b1b3",
   "metadata": {},
   "outputs": [
    {
     "name": "stdout",
     "output_type": "stream",
     "text": [
      "Hello\n"
     ]
    }
   ],
   "source": [
    "del print\n",
    "print('Hello')"
   ]
  },
  {
   "cell_type": "code",
   "execution_count": 11,
   "id": "cc374e33",
   "metadata": {},
   "outputs": [
    {
     "name": "stdout",
     "output_type": "stream",
     "text": [
      "0 Hello\n",
      "1 Hello\n"
     ]
    }
   ],
   "source": [
    "my_message(2, 'Hello')"
   ]
  },
  {
   "cell_type": "code",
   "execution_count": 12,
   "id": "1b856026",
   "metadata": {},
   "outputs": [
    {
     "name": "stdout",
     "output_type": "stream",
     "text": [
      "0 Hello\n",
      "1 Hello\n"
     ]
    }
   ],
   "source": [
    "my_message = 5\n",
    "my_msg(2, 'Hello')"
   ]
  },
  {
   "cell_type": "code",
   "execution_count": 13,
   "id": "d7a21b3e",
   "metadata": {},
   "outputs": [
    {
     "ename": "TypeError",
     "evalue": "'int' object is not callable",
     "output_type": "error",
     "traceback": [
      "\u001b[1;31m--------------------------------------------------\u001b[0m",
      "\u001b[1;31mTypeError\u001b[0m        Traceback (most recent call last)",
      "Cell \u001b[1;32mIn[13], line 1\u001b[0m\n\u001b[1;32m----> 1\u001b[0m \u001b[43mmy_message\u001b[49m\u001b[43m(\u001b[49m\u001b[38;5;241;43m2\u001b[39;49m\u001b[43m,\u001b[49m\u001b[43m \u001b[49m\u001b[38;5;124;43m'\u001b[39;49m\u001b[38;5;124;43mHello\u001b[39;49m\u001b[38;5;124;43m'\u001b[39;49m\u001b[43m)\u001b[49m\n",
      "\u001b[1;31mTypeError\u001b[0m: 'int' object is not callable"
     ]
    }
   ],
   "source": [
    "my_message(2, 'Hello')"
   ]
  },
  {
   "cell_type": "code",
   "execution_count": 14,
   "id": "aeaaf941",
   "metadata": {},
   "outputs": [
    {
     "ename": "NameError",
     "evalue": "name 'my_message' is not defined",
     "output_type": "error",
     "traceback": [
      "\u001b[1;31m--------------------------------------------------\u001b[0m",
      "\u001b[1;31mNameError\u001b[0m        Traceback (most recent call last)",
      "Cell \u001b[1;32mIn[14], line 2\u001b[0m\n\u001b[0;32m      1\u001b[0m \u001b[38;5;28;01mdel\u001b[39;00m my_message\n\u001b[1;32m----> 2\u001b[0m \u001b[43mmy_message\u001b[49m(\u001b[38;5;241m2\u001b[39m, \u001b[38;5;124m'\u001b[39m\u001b[38;5;124mHello\u001b[39m\u001b[38;5;124m'\u001b[39m)\n",
      "\u001b[1;31mNameError\u001b[0m: name 'my_message' is not defined"
     ]
    }
   ],
   "source": [
    "del my_message # 변수및 함수 제거하여도\n",
    "my_message(2, 'Hello')# 사용자 정의함수, 라이브러리 함수는 사용불가"
   ]
  },
  {
   "cell_type": "code",
   "execution_count": 15,
   "id": "efeb586c",
   "metadata": {},
   "outputs": [],
   "source": [
    "# 함수 중복 정의 불가(오버로딩 불가)\n",
    "def my_hello():\n",
    "    print('Hello Python')\n",
    "    print('Hello world')\n",
    "def my_hello(cnt): # cnt번 출력\n",
    "    for i in range(cnt):\n",
    "        print('Hello, Python', end=\"\\t\")\n",
    "        print('Hello, World')"
   ]
  },
  {
   "cell_type": "code",
   "execution_count": 16,
   "id": "c15913af",
   "metadata": {},
   "outputs": [
    {
     "ename": "TypeError",
     "evalue": "my_hello() missing 1 required positional argument: 'cnt'",
     "output_type": "error",
     "traceback": [
      "\u001b[1;31m--------------------------------------------------\u001b[0m",
      "\u001b[1;31mTypeError\u001b[0m        Traceback (most recent call last)",
      "Cell \u001b[1;32mIn[16], line 1\u001b[0m\n\u001b[1;32m----> 1\u001b[0m \u001b[43mmy_hello\u001b[49m\u001b[43m(\u001b[49m\u001b[43m)\u001b[49m\n",
      "\u001b[1;31mTypeError\u001b[0m: my_hello() missing 1 required positional argument: 'cnt'"
     ]
    }
   ],
   "source": [
    "my_hello()"
   ]
  },
  {
   "cell_type": "code",
   "execution_count": 17,
   "id": "98b821eb",
   "metadata": {},
   "outputs": [
    {
     "name": "stdout",
     "output_type": "stream",
     "text": [
      "Hello, Python\tHello, World\n",
      "Hello, Python\tHello, World\n"
     ]
    }
   ],
   "source": [
    "my_hello(2)"
   ]
  },
  {
   "cell_type": "code",
   "execution_count": 18,
   "id": "543f719e",
   "metadata": {},
   "outputs": [
    {
     "data": {
      "text/plain": [
       "<function __main__.my_hello(cnt)>"
      ]
     },
     "execution_count": 18,
     "metadata": {},
     "output_type": "execute_result"
    }
   ],
   "source": [
    "my_hello"
   ]
  },
  {
   "cell_type": "code",
   "execution_count": 19,
   "id": "16684fd7",
   "metadata": {},
   "outputs": [
    {
     "data": {
      "text/plain": [
       "'__main__'"
      ]
     },
     "execution_count": 19,
     "metadata": {},
     "output_type": "execute_result"
    }
   ],
   "source": [
    "__name__"
   ]
  },
  {
   "cell_type": "code",
   "execution_count": 20,
   "id": "e02f4bb4",
   "metadata": {},
   "outputs": [
    {
     "name": "stdout",
     "output_type": "stream",
     "text": [
      "Hello, Python\tHello, World\n",
      "Hello, Python\tHello, World\n"
     ]
    }
   ],
   "source": [
    "if __name__ == '__main__':\n",
    "    my_hello(2)"
   ]
  },
  {
   "cell_type": "code",
   "execution_count": 1,
   "id": "0ba27184",
   "metadata": {},
   "outputs": [],
   "source": [
    "import ch05 # ch05모듈이 해석되서 메모리 로드"
   ]
  },
  {
   "cell_type": "code",
   "execution_count": 2,
   "id": "1338892a",
   "metadata": {},
   "outputs": [
    {
     "name": "stdout",
     "output_type": "stream",
     "text": [
      "ch05\n",
      "Hello, Python\tHello, World\n",
      "Hello, Python\tHello, World\n",
      "Hello, Python\tHello, World\n"
     ]
    }
   ],
   "source": [
    "ch05.my_hello(3)"
   ]
  },
  {
   "cell_type": "code",
   "execution_count": 4,
   "id": "b234b6bb",
   "metadata": {},
   "outputs": [],
   "source": [
    "from ch05 import my_hello # ch05모듈안의 my_hello만 메모리 로드"
   ]
  },
  {
   "cell_type": "code",
   "execution_count": 5,
   "id": "d68d14b4",
   "metadata": {},
   "outputs": [
    {
     "name": "stdout",
     "output_type": "stream",
     "text": [
      "ch05\n",
      "Hello, Python\tHello, World\n",
      "Hello, Python\tHello, World\n",
      "Hello, Python\tHello, World\n"
     ]
    }
   ],
   "source": [
    "my_hello(3)"
   ]
  },
  {
   "cell_type": "markdown",
   "id": "cb26dff9",
   "metadata": {},
   "source": [
    "## 1.2 docstring"
   ]
  },
  {
   "cell_type": "code",
   "execution_count": 6,
   "id": "5ac0acef",
   "metadata": {},
   "outputs": [],
   "source": [
    "def my_function():\n",
    "    \"\"\"\n",
    "    함수의 첫 라인에 독스트링을 포함할 수 있습니다\n",
    "    독스트링은 함수의 설명서를 달아주는 역할\n",
    "    주석보다 많은 기능(함수 호출시 shift+tab으로 독스트링을 볼 수 있음)\n",
    "    \"\"\"\n",
    "    pass"
   ]
  },
  {
   "cell_type": "code",
   "execution_count": 8,
   "id": "cc296c9f",
   "metadata": {},
   "outputs": [
    {
     "name": "stdout",
     "output_type": "stream",
     "text": [
      "\n",
      "    함수의 첫 라인에 독스트링을 포함할 수 있습니다\n",
      "    독스트링은 함수의 설명서를 달아주는 역할\n",
      "    주석보다 많은 기능(함수 호출시 shift+tab으로 독스트링을 볼 수 있음)\n",
      "    \n"
     ]
    }
   ],
   "source": [
    "print(my_function.__doc__)"
   ]
  },
  {
   "cell_type": "code",
   "execution_count": 9,
   "id": "9db4741b",
   "metadata": {},
   "outputs": [],
   "source": [
    "def fibonacci(n):\n",
    "    '''\n",
    "    매개변수로 들어온 n값 미만의 피보나치 수열을 출력하는 함수\n",
    "    ex. n=10 : 0 1 1 2 3 5 8 \n",
    "       n=100 : 0 1 1 2 3 5 8 13 21 34 55 89\n",
    "    '''\n",
    "    a, b = 0, 1 # 함수 내에 선언한 변수 : 지역변수 (반:전역변수)\n",
    "    while a < n:\n",
    "        print(a, end=' ')\n",
    "        a, b = b, a+b\n",
    "    print() # 개행"
   ]
  },
  {
   "cell_type": "code",
   "execution_count": 13,
   "id": "0cb7c7b6",
   "metadata": {},
   "outputs": [
    {
     "name": "stdout",
     "output_type": "stream",
     "text": [
      "0 1 1 2 3 5 8 13 21 34 55 89 144 233 377 610 987 1597 2584 4181 6765 \n"
     ]
    }
   ],
   "source": [
    "fibonacci(10000)"
   ]
  },
  {
   "cell_type": "code",
   "execution_count": 16,
   "id": "95eb2684",
   "metadata": {},
   "outputs": [
    {
     "ename": "NameError",
     "evalue": "name 'a' is not defined",
     "output_type": "error",
     "traceback": [
      "\u001b[1;31m--------------------------------------------------\u001b[0m",
      "\u001b[1;31mNameError\u001b[0m        Traceback (most recent call last)",
      "Cell \u001b[1;32mIn[16], line 1\u001b[0m\n\u001b[1;32m----> 1\u001b[0m \u001b[43ma\u001b[49m, b\n",
      "\u001b[1;31mNameError\u001b[0m: name 'a' is not defined"
     ]
    }
   ],
   "source": [
    "a, b # 지역변수는 함수내에서만 사용가능"
   ]
  },
  {
   "cell_type": "markdown",
   "id": "f5b1462d",
   "metadata": {},
   "source": [
    "## 1.3 지역변수(local var)와 전역변수(global var)"
   ]
  },
  {
   "cell_type": "code",
   "execution_count": 17,
   "id": "cfcf58ce",
   "metadata": {},
   "outputs": [
    {
     "name": "stdout",
     "output_type": "stream",
     "text": [
      "함수안 : 100\n",
      "함수밖 : 100\n"
     ]
    }
   ],
   "source": [
    "global_var = 100 \n",
    "def func1():\n",
    "    print('함수안 :', global_var)\n",
    "func1()\n",
    "print('함수밖 :', global_var)"
   ]
  },
  {
   "cell_type": "code",
   "execution_count": 18,
   "id": "6cc44e8b",
   "metadata": {},
   "outputs": [
    {
     "name": "stdout",
     "output_type": "stream",
     "text": [
      "함수안 : 200\n"
     ]
    }
   ],
   "source": [
    "def func2():\n",
    "    local_var = 200 # 지역변수(함수내에서 할당)\n",
    "    print('함수안 :', local_var)\n",
    "func2()"
   ]
  },
  {
   "cell_type": "code",
   "execution_count": 20,
   "id": "3f3afb09",
   "metadata": {},
   "outputs": [],
   "source": [
    "# print('함수밖에서 지역변수 :', local_var) # 에러"
   ]
  },
  {
   "cell_type": "code",
   "execution_count": 21,
   "id": "5030e22f",
   "metadata": {},
   "outputs": [
    {
     "name": "stdout",
     "output_type": "stream",
     "text": [
      "지역변수 g_var : 200\n",
      "전역변수 g_var : 100\n"
     ]
    }
   ],
   "source": [
    "g_var = 100 # 전역변수\n",
    "def func3():\n",
    "    g_var = 200 # 지역변수 (함수내에서 할당)\n",
    "    print('지역변수 g_var :', g_var)\n",
    "func3()\n",
    "print('전역변수 g_var :', g_var)"
   ]
  },
  {
   "cell_type": "code",
   "execution_count": 22,
   "id": "c4548b63",
   "metadata": {},
   "outputs": [
    {
     "ename": "UnboundLocalError",
     "evalue": "local variable 'g_var' referenced before assignment",
     "output_type": "error",
     "traceback": [
      "\u001b[1;31m--------------------------------------------------\u001b[0m",
      "\u001b[1;31mUnboundLocalError\u001b[0mTraceback (most recent call last)",
      "Cell \u001b[1;32mIn[22], line 7\u001b[0m\n\u001b[0;32m      5\u001b[0m     \u001b[38;5;28mprint\u001b[39m(\u001b[38;5;124m'\u001b[39m\u001b[38;5;124m지역변수 g_var :\u001b[39m\u001b[38;5;124m'\u001b[39m, g_var)\n\u001b[0;32m      6\u001b[0m     g_var \u001b[38;5;241m=\u001b[39m \u001b[38;5;241m200\u001b[39m \u001b[38;5;66;03m# 지역변수 (함수내에서 할당)\u001b[39;00m\n\u001b[1;32m----> 7\u001b[0m \u001b[43mfunc3\u001b[49m\u001b[43m(\u001b[49m\u001b[43m)\u001b[49m\n\u001b[0;32m      8\u001b[0m \u001b[38;5;28mprint\u001b[39m(\u001b[38;5;124m'\u001b[39m\u001b[38;5;124m전역변수 g_var :\u001b[39m\u001b[38;5;124m'\u001b[39m, g_var)\n",
      "Cell \u001b[1;32mIn[22], line 5\u001b[0m, in \u001b[0;36mfunc3\u001b[1;34m()\u001b[0m\n\u001b[0;32m      4\u001b[0m \u001b[38;5;28;01mdef\u001b[39;00m \u001b[38;5;21mfunc3\u001b[39m():    \n\u001b[1;32m----> 5\u001b[0m     \u001b[38;5;28mprint\u001b[39m(\u001b[38;5;124m'\u001b[39m\u001b[38;5;124m지역변수 g_var :\u001b[39m\u001b[38;5;124m'\u001b[39m, \u001b[43mg_var\u001b[49m)\n\u001b[0;32m      6\u001b[0m     g_var \u001b[38;5;241m=\u001b[39m \u001b[38;5;241m200\u001b[39m\n",
      "\u001b[1;31mUnboundLocalError\u001b[0m: local variable 'g_var' referenced before assignment"
     ]
    }
   ],
   "source": [
    "# 렉시컬 특성 : 변수가 어디서 선언되었는지에 따라 \n",
    "# 변수의 범위가 정해짐(지역vs전역)\n",
    "g_var = 100 # 전역변수\n",
    "def func3():    \n",
    "    print('지역변수 g_var :', g_var)\n",
    "    g_var = 200 # 지역변수 (함수내에서 할당)\n",
    "func3()\n",
    "print('전역변수 g_var :', g_var)"
   ]
  },
  {
   "cell_type": "code",
   "execution_count": 29,
   "id": "2d7ceff8",
   "metadata": {},
   "outputs": [
    {
     "name": "stdout",
     "output_type": "stream",
     "text": [
      "전역변수 g_var : 100\n",
      "전역변수 g_var : 200\n"
     ]
    }
   ],
   "source": [
    "# 렉시컬 특성 \n",
    "g_var = 100 # 전역변수\n",
    "def func3():   \n",
    "    global g_var # 함수내에서의 g_var는 전역변수를 쓰겠다\n",
    "    print('전역변수 g_var :', g_var)\n",
    "    g_var = 200 # 전역변수 g_var에 200할당\n",
    "func3()\n",
    "print('전역변수 g_var :', g_var)"
   ]
  },
  {
   "cell_type": "markdown",
   "id": "f5a46827",
   "metadata": {},
   "source": [
    "## 1.4 값에 의한 호출\n",
    "- 함수에 인수로 전달되는 변수가 스칼라변수(문자, 숫자, 논리형)일 때"
   ]
  },
  {
   "cell_type": "code",
   "execution_count": 32,
   "id": "8354f9f7",
   "metadata": {},
   "outputs": [
    {
     "data": {
      "text/plain": [
       "2187739948848"
      ]
     },
     "execution_count": 32,
     "metadata": {},
     "output_type": "execute_result"
    }
   ],
   "source": [
    "foo = 'a' # 전역변수\n",
    "id(foo)"
   ]
  },
  {
   "cell_type": "code",
   "execution_count": 33,
   "id": "dcefc53c",
   "metadata": {},
   "outputs": [
    {
     "name": "stdout",
     "output_type": "stream",
     "text": [
      "Before : a 의 주소는  2187739948848\n",
      "After : aaa 의 주소는  2187817289008\n"
     ]
    }
   ],
   "source": [
    "def func1(f): # 매개변수는 지역변수\n",
    "    print('Before :', f, '의 주소는 ', id(f))\n",
    "    f = f*3 \n",
    "    print('After :', f, '의 주소는 ', id(f))\n",
    "func1(foo)"
   ]
  },
  {
   "cell_type": "code",
   "execution_count": 34,
   "id": "ca048ed3",
   "metadata": {},
   "outputs": [
    {
     "name": "stdout",
     "output_type": "stream",
     "text": [
      "foo =  a 의 주소는 2187739948848\n"
     ]
    }
   ],
   "source": [
    "print('foo = ', foo, '의 주소는',id(foo))"
   ]
  },
  {
   "cell_type": "markdown",
   "id": "fe4f578d",
   "metadata": {},
   "source": [
    "## 1.5 참조에 의한 호출\n",
    "- 함수에 인수로 전달되는 변수가 리스트, 튜플, 셋, 딕셔너리, 기타 객체일 경우"
   ]
  },
  {
   "cell_type": "code",
   "execution_count": 43,
   "id": "9b0e2716",
   "metadata": {},
   "outputs": [
    {
     "data": {
      "text/plain": [
       "2187852452224"
      ]
     },
     "execution_count": 43,
     "metadata": {},
     "output_type": "execute_result"
    }
   ],
   "source": [
    "L = [1, 2, 3, 4, 5]\n",
    "id(L)"
   ]
  },
  {
   "cell_type": "code",
   "execution_count": 45,
   "id": "1c05cf72",
   "metadata": {},
   "outputs": [
    {
     "name": "stdout",
     "output_type": "stream",
     "text": [
      "Before : [1, 2, 3, 4, 5] 의 주소는  2187852452224\n",
      "After : [1, 2, 3, 4, 5, 6] 의 주소는  2187852452224\n"
     ]
    }
   ],
   "source": [
    "def func2(f): # 매개변수는 지역변수\n",
    "    print('Before :', f, '의 주소는 ', id(f))\n",
    "    f.append(6)\n",
    "    print('After :', f, '의 주소는 ', id(f))\n",
    "func2(L)"
   ]
  },
  {
   "cell_type": "code",
   "execution_count": 37,
   "id": "4f7ed0ef",
   "metadata": {},
   "outputs": [
    {
     "name": "stdout",
     "output_type": "stream",
     "text": [
      "L= [1, 2, 3, 4, 5, 6] 의 주소는 2187852077632\n"
     ]
    }
   ],
   "source": [
    "print('L=', L, '의 주소는', id(L))"
   ]
  },
  {
   "cell_type": "markdown",
   "id": "65c5adb7",
   "metadata": {},
   "source": [
    "# 2절 함수의 실행결과를 반환하는 return"
   ]
  },
  {
   "cell_type": "code",
   "execution_count": 39,
   "id": "f640408b",
   "metadata": {},
   "outputs": [],
   "source": [
    "def fibonacci_print(n):\n",
    "    '매개변수로 들어온 n값 미만의 피보나치 수열을 출력하는 함수'\n",
    "    a, b = 0, 1 # 함수 내에 선언한 변수 : 지역변수 (반:전역변수)\n",
    "    while a < n:\n",
    "        print(a, end=' ') # 출력\n",
    "        a, b = b, a+b\n",
    "    print() # 개행\n",
    "def fibonacci(n):\n",
    "    \"n미만의 피보나치수열을 리스트로 return\"\n",
    "    result = [] # 피보나치수열을 append할 리스트\n",
    "    a, b = 0, 1\n",
    "    while a<n:\n",
    "        result.append(a) # 리스트에 append\n",
    "        a, b = b, a+b\n",
    "    return result"
   ]
  },
  {
   "cell_type": "code",
   "execution_count": 41,
   "id": "34c868b8",
   "metadata": {},
   "outputs": [
    {
     "name": "stdout",
     "output_type": "stream",
     "text": [
      "[0, 1, 1, 2, 3, 5, 8]\n",
      "<class 'list'>\n"
     ]
    }
   ],
   "source": [
    "x = fibonacci(10)\n",
    "print(x)\n",
    "print(type(x))"
   ]
  },
  {
   "cell_type": "code",
   "execution_count": 42,
   "id": "7d766fef",
   "metadata": {},
   "outputs": [
    {
     "name": "stdout",
     "output_type": "stream",
     "text": [
      "0 1 1 2 3 5 8 \n",
      "x= None\n",
      "<class 'NoneType'>\n"
     ]
    }
   ],
   "source": [
    "x = fibonacci_print(10)\n",
    "print('x=',x)\n",
    "print(type(x))"
   ]
  },
  {
   "cell_type": "markdown",
   "id": "0468bec0",
   "metadata": {},
   "source": [
    "### 여러개 값 return\n",
    "- 여러개값을 갖는 튜플로 return"
   ]
  },
  {
   "cell_type": "code",
   "execution_count": 46,
   "id": "166a70dc",
   "metadata": {},
   "outputs": [],
   "source": [
    "def swap(a, b):\n",
    "    '매개변수의 순서를 바꿔서 return'\n",
    "    return b, a # return (b, a)"
   ]
  },
  {
   "cell_type": "code",
   "execution_count": 48,
   "id": "6dc4cba8",
   "metadata": {},
   "outputs": [
    {
     "name": "stdout",
     "output_type": "stream",
     "text": [
      "함수 실행 전 x, y = 5 10\n",
      "함수 실행 후 x, y = 10 5\n"
     ]
    }
   ],
   "source": [
    "x = 5; y = 10\n",
    "print('함수 실행 전 x, y =', x, y)\n",
    "x, y = swap(x, y)\n",
    "print('함수 실행 후 x, y =', x, y)"
   ]
  },
  {
   "cell_type": "markdown",
   "id": "3ef14a88",
   "metadata": {},
   "source": [
    "# 3절 함수의 매개변수 ★\n",
    "## 3.1 기본값을 갖는 매개변수"
   ]
  },
  {
   "cell_type": "code",
   "execution_count": 53,
   "id": "1a21cd29",
   "metadata": {},
   "outputs": [],
   "source": [
    "def make_url(ip, port=80): # 순서인수 > 기본값을갖는매개변수\n",
    "    return \"http://{}:{}\".format(ip, port)"
   ]
  },
  {
   "cell_type": "code",
   "execution_count": 54,
   "id": "e03523c9",
   "metadata": {},
   "outputs": [
    {
     "name": "stdout",
     "output_type": "stream",
     "text": [
      "http://localhost:8090\n",
      "http://www.naver.com:80\n",
      "http://localhost:9090\n"
     ]
    }
   ],
   "source": [
    "print(make_url(\"localhost\", 8090))\n",
    "print(make_url(\"www.naver.com\"))\n",
    "print(make_url(port=9090, ip=\"localhost\"))"
   ]
  },
  {
   "cell_type": "code",
   "execution_count": 56,
   "id": "e5382624",
   "metadata": {},
   "outputs": [],
   "source": [
    "# def make_url(port=80, ip):  # 순서인수 > 기본값을갖는매개변수 순으로 배치\n",
    "#     return \"http://{}:{}\".format(ip, port) 에러남"
   ]
  },
  {
   "cell_type": "markdown",
   "id": "3b64bf14",
   "metadata": {},
   "source": [
    "## 3.2 기본변수를 갖는 매개변수\n",
    "- 기본변수가 스칼라변수(문자, 숫자, 논리형)일 때\n",
    "- 기본변수가 리스트, 셋, 딕셔너리, 기타 객체일 때"
   ]
  },
  {
   "cell_type": "code",
   "execution_count": 58,
   "id": "12924a2d",
   "metadata": {},
   "outputs": [],
   "source": [
    "i = 80\n",
    "# 기본변수가 스칼라변수일 때 : 함수가 정의되는 시점으로 기본값 셋팅\n",
    "def make_url(ip, port=i):\n",
    "    return \"http://{}:{}\".format(ip, port)"
   ]
  },
  {
   "cell_type": "code",
   "execution_count": 61,
   "id": "daab9b2f",
   "metadata": {},
   "outputs": [
    {
     "data": {
      "text/plain": [
       "'http://localhost:80'"
      ]
     },
     "execution_count": 61,
     "metadata": {},
     "output_type": "execute_result"
    }
   ],
   "source": [
    "i = 99999\n",
    "make_url(\"localhost\")"
   ]
  },
  {
   "cell_type": "code",
   "execution_count": 62,
   "id": "749a9f17",
   "metadata": {},
   "outputs": [
    {
     "name": "stdout",
     "output_type": "stream",
     "text": [
      "[10]\n"
     ]
    }
   ],
   "source": [
    "list_ = []\n",
    "# 기본변수가 리스트, 셋, 딕셔너리, 객체일 때 : 함수가 실행되는시점으로 기본값 셋팅\n",
    "def func3(a, L=list_):\n",
    "    L.append(a)\n",
    "    return L\n",
    "print(func3(10))"
   ]
  },
  {
   "cell_type": "code",
   "execution_count": 63,
   "id": "bdbffe95",
   "metadata": {},
   "outputs": [
    {
     "name": "stdout",
     "output_type": "stream",
     "text": [
      "[10, 20]\n"
     ]
    }
   ],
   "source": [
    "print(func3(20))"
   ]
  },
  {
   "cell_type": "code",
   "execution_count": 64,
   "id": "e7d67d6b",
   "metadata": {},
   "outputs": [
    {
     "name": "stdout",
     "output_type": "stream",
     "text": [
      "list_ = [10, 20]\n"
     ]
    }
   ],
   "source": [
    "print(\"list_ =\", list_)"
   ]
  },
  {
   "cell_type": "code",
   "execution_count": 65,
   "id": "de83b0c8",
   "metadata": {},
   "outputs": [
    {
     "name": "stdout",
     "output_type": "stream",
     "text": [
      "[10, 20, 50]\n"
     ]
    }
   ],
   "source": [
    "print(func3(50))"
   ]
  },
  {
   "cell_type": "code",
   "execution_count": 72,
   "id": "ee811bc8",
   "metadata": {},
   "outputs": [
    {
     "name": "stdout",
     "output_type": "stream",
     "text": [
      "[10]\n",
      "[10]\n",
      "[10]\n",
      "[1, 2, 3, 10]\n",
      "[10]\n"
     ]
    }
   ],
   "source": [
    "# 실행할 때마다 L을 공유하는게 싫으면\n",
    "def func3(a, L=None):\n",
    "    if L is None:\n",
    "        L = []\n",
    "    L.append(a)\n",
    "    return L\n",
    "print(func3(10))\n",
    "print(func3(10))\n",
    "print(func3(10))\n",
    "print(func3(10, [1,2,3]))\n",
    "print(func3(10))"
   ]
  },
  {
   "cell_type": "markdown",
   "id": "e296784c",
   "metadata": {},
   "source": [
    "## 3.3 순서인수, 키워드인수\n",
    "- 순서인수 : 함수에 정의된 순서대로 전달방식\n",
    "- 키워드인수 : 인수의 이름을 명시하는 방식\n",
    "- 함수 정의시 순서인수와 키워드인수가 같이 올 때는 순서인수 > 키워드인수 순으로"
   ]
  },
  {
   "cell_type": "code",
   "execution_count": 77,
   "id": "f1ec924e",
   "metadata": {},
   "outputs": [],
   "source": [
    "def func3(a, L=None):\n",
    "    if L is None:\n",
    "        L = []\n",
    "    L.append(a)\n",
    "    return L"
   ]
  },
  {
   "cell_type": "code",
   "execution_count": 81,
   "id": "38c4d8c7",
   "metadata": {},
   "outputs": [
    {
     "name": "stdout",
     "output_type": "stream",
     "text": [
      "[10]\n",
      "[10, 20]\n"
     ]
    }
   ],
   "source": [
    "lst = []\n",
    "print(func3(10, lst))     # 순서인수 : 함수 정의된 순서대로 전달하는 방식\n",
    "print(func3(L=lst, a=20)) # 키워드인수 : 인수의 이름을 명시하여 전달하는 방식"
   ]
  },
  {
   "cell_type": "markdown",
   "id": "802e144e",
   "metadata": {},
   "source": [
    "## 3.4 튜플매개변수를 이용한 가변인수 설정\n",
    "- 가변인수 : 매개변수의 갯수가 가변"
   ]
  },
  {
   "cell_type": "code",
   "execution_count": 86,
   "id": "a4b27eff",
   "metadata": {},
   "outputs": [],
   "source": [
    "# 파이썬은 함수의 중복정의(오버로딩)을 지원하지 않음\n",
    "def add(a, b):\n",
    "    return a+b\n",
    "def add(a, b, c):\n",
    "    return a+b+c"
   ]
  },
  {
   "cell_type": "code",
   "execution_count": 87,
   "id": "82be5710",
   "metadata": {},
   "outputs": [
    {
     "ename": "TypeError",
     "evalue": "add() missing 1 required positional argument: 'c'",
     "output_type": "error",
     "traceback": [
      "\u001b[1;31m--------------------------------------------------\u001b[0m",
      "\u001b[1;31mTypeError\u001b[0m        Traceback (most recent call last)",
      "Cell \u001b[1;32mIn[87], line 1\u001b[0m\n\u001b[1;32m----> 1\u001b[0m \u001b[43madd\u001b[49m\u001b[43m(\u001b[49m\u001b[38;5;241;43m3\u001b[39;49m\u001b[43m,\u001b[49m\u001b[43m \u001b[49m\u001b[38;5;241;43m5\u001b[39;49m\u001b[43m)\u001b[49m\n",
      "\u001b[1;31mTypeError\u001b[0m: add() missing 1 required positional argument: 'c'"
     ]
    }
   ],
   "source": [
    "add(3, 5)"
   ]
  },
  {
   "cell_type": "code",
   "execution_count": 97,
   "id": "c5ea8942",
   "metadata": {},
   "outputs": [],
   "source": [
    "# args앞에 * : args가 튜플로 전달받는다\n",
    "def add(*args):\n",
    "    # print('args =', args)\n",
    "    '전달받은 매개변수들의 합을 return. 매개변수가 없는 경우 0을 return'\n",
    "    sum = 0 # 누적변수\n",
    "    for num in args:\n",
    "        sum += num # sum = sum+num\n",
    "    return sum"
   ]
  },
  {
   "cell_type": "code",
   "execution_count": 100,
   "id": "bcc25ca9",
   "metadata": {},
   "outputs": [
    {
     "name": "stdout",
     "output_type": "stream",
     "text": [
      "0\n",
      "1\n",
      "4\n",
      "25\n"
     ]
    }
   ],
   "source": [
    "print(add())\n",
    "print(add(1))\n",
    "print(add(1, 3))\n",
    "print(add(1, 2, 5, 7, 9, 1))"
   ]
  },
  {
   "cell_type": "code",
   "execution_count": 103,
   "id": "f9b6e98e",
   "metadata": {},
   "outputs": [
    {
     "data": {
      "text/plain": [
       "'Python-web-JavaScript-DBMS'"
      ]
     },
     "execution_count": 103,
     "metadata": {},
     "output_type": "execute_result"
    }
   ],
   "source": [
    "subject = ('Python', 'web', 'JavaScript', 'DBMS')\n",
    "'-'.join(subject)"
   ]
  },
  {
   "cell_type": "code",
   "execution_count": 104,
   "id": "91e1ef6c",
   "metadata": {},
   "outputs": [],
   "source": [
    "# 튜플 매개변수와 일반 매개변수가 같이 있을 때\n",
    "def concat(*subject, sep):\n",
    "    return sep.join(subject)"
   ]
  },
  {
   "cell_type": "code",
   "execution_count": 105,
   "id": "6d3f0b89",
   "metadata": {},
   "outputs": [
    {
     "ename": "TypeError",
     "evalue": "concat() missing 1 required keyword-only argument: 'sep'",
     "output_type": "error",
     "traceback": [
      "\u001b[1;31m--------------------------------------------------\u001b[0m",
      "\u001b[1;31mTypeError\u001b[0m        Traceback (most recent call last)",
      "Cell \u001b[1;32mIn[105], line 1\u001b[0m\n\u001b[1;32m----> 1\u001b[0m \u001b[43mconcat\u001b[49m\u001b[43m(\u001b[49m\u001b[38;5;124;43m'\u001b[39;49m\u001b[38;5;124;43mPython\u001b[39;49m\u001b[38;5;124;43m'\u001b[39;49m\u001b[43m,\u001b[49m\u001b[43m \u001b[49m\u001b[38;5;124;43m'\u001b[39;49m\u001b[38;5;124;43mweb\u001b[39;49m\u001b[38;5;124;43m'\u001b[39;49m\u001b[43m,\u001b[49m\u001b[43m \u001b[49m\u001b[38;5;124;43m'\u001b[39;49m\u001b[38;5;124;43mJavaScript\u001b[39;49m\u001b[38;5;124;43m'\u001b[39;49m\u001b[43m,\u001b[49m\u001b[43m \u001b[49m\u001b[38;5;124;43m'\u001b[39;49m\u001b[38;5;124;43mDBMS\u001b[39;49m\u001b[38;5;124;43m'\u001b[39;49m\u001b[43m,\u001b[49m\u001b[43m \u001b[49m\u001b[38;5;124;43m'\u001b[39;49m\u001b[38;5;124;43m-\u001b[39;49m\u001b[38;5;124;43m'\u001b[39;49m\u001b[43m)\u001b[49m\n",
      "\u001b[1;31mTypeError\u001b[0m: concat() missing 1 required keyword-only argument: 'sep'"
     ]
    }
   ],
   "source": [
    "concat('Python', 'web', 'JavaScript', 'DBMS', '-')"
   ]
  },
  {
   "cell_type": "code",
   "execution_count": 106,
   "id": "a962ca09",
   "metadata": {},
   "outputs": [
    {
     "data": {
      "text/plain": [
       "'Python-web-JavaScript-DBMS'"
      ]
     },
     "execution_count": 106,
     "metadata": {},
     "output_type": "execute_result"
    }
   ],
   "source": [
    "# 해결책1 : 매개변수 이름을 지정해서 호출\n",
    "concat('Python', 'web', 'JavaScript', 'DBMS', sep='-')"
   ]
  },
  {
   "cell_type": "code",
   "execution_count": 112,
   "id": "03dcc53f",
   "metadata": {},
   "outputs": [
    {
     "name": "stdout",
     "output_type": "stream",
     "text": [
      "Python ~ Web ~ JS ~ DBMS ~ -\n",
      "Python-Web-JS-DBMS\n"
     ]
    }
   ],
   "source": [
    "# 해결책2 : 기본값을 갖는 키워드인수 사용\n",
    "def concat(*subject, sep=' ~ '): # 튜플매개변수 > 키워드인수\n",
    "    return sep.join(subject)\n",
    "print(concat('Python', 'Web', 'JS', 'DBMS', '-'))\n",
    "print(concat('Python', 'Web', 'JS', 'DBMS', sep='-'))"
   ]
  },
  {
   "cell_type": "code",
   "execution_count": 114,
   "id": "47bad197",
   "metadata": {},
   "outputs": [
    {
     "name": "stdout",
     "output_type": "stream",
     "text": [
      "python=web=js\n"
     ]
    }
   ],
   "source": [
    "print('python', 'web', 'js', sep='=')"
   ]
  },
  {
   "cell_type": "code",
   "execution_count": 129,
   "id": "b2657248",
   "metadata": {},
   "outputs": [],
   "source": [
    "# 해결책3 : sep을 순서인수로 앞으로 (추천)\n",
    "def concat(sep, *subject):\n",
    "    return sep.join(subject)"
   ]
  },
  {
   "cell_type": "code",
   "execution_count": 116,
   "id": "d3939710",
   "metadata": {},
   "outputs": [
    {
     "data": {
      "text/plain": [
       "'Python~Web~DB~MLDL'"
      ]
     },
     "execution_count": 116,
     "metadata": {},
     "output_type": "execute_result"
    }
   ],
   "source": [
    "concat('~', 'Python', 'Web', 'DB', 'MLDL')"
   ]
  },
  {
   "cell_type": "markdown",
   "id": "12a86e35",
   "metadata": {},
   "source": [
    "## 3.5 딕셔너리 매개변수\n",
    "- 딕셔너리 인수 : 여러개의 키워드 인수를 딕셔너리 형태로 받아서 가변인수로 처리"
   ]
  },
  {
   "cell_type": "code",
   "execution_count": 155,
   "id": "1a4ce909",
   "metadata": {},
   "outputs": [],
   "source": [
    "def func5(**args):\n",
    "    '''딕셔너리 매개변수로 받아 address 키가 없으면 서울시 관악구로 추가하고\n",
    "    키-값을 출력'''\n",
    "    print(args)\n",
    "    print(type(args))\n",
    "    if 'address' not in args: # args에 address 키가 없으면 if문 True\n",
    "        # args['address'] = '서울시 관악구'\n",
    "        # args.update({'address':'서울시 관악구'})\n",
    "        args.update(address='서울시 관악구')\n",
    "    for key, value in args.items():\n",
    "        print(\"{} : {}\".format(key, value))"
   ]
  },
  {
   "cell_type": "code",
   "execution_count": 156,
   "id": "06f5593f",
   "metadata": {},
   "outputs": [
    {
     "name": "stdout",
     "output_type": "stream",
     "text": [
      "{'nam': '홍길동', 'age': 30, 'tel': '010-9999-9999'}\n",
      "<class 'dict'>\n",
      "nam : 홍길동\n",
      "age : 30\n",
      "tel : 010-9999-9999\n",
      "address : 서울시 관악구\n"
     ]
    }
   ],
   "source": [
    "func5(nam='홍길동', \n",
    "      age=30, \n",
    "      tel='010-9999-9999')"
   ]
  },
  {
   "cell_type": "markdown",
   "id": "d41a1eb6",
   "metadata": {},
   "source": [
    "## 3.6 함수 정의시 매개변수의 순서\n",
    "- 순서인수 > 튜플인수(*) > 키워드인수(기본값) > 딕셔너리인수(**)"
   ]
  },
  {
   "cell_type": "code",
   "execution_count": 157,
   "id": "1e9b3bc7",
   "metadata": {},
   "outputs": [],
   "source": [
    "# 순서인수 > 튜플인수 > 딕셔너리인수\n",
    "def func6(a, b, *c, **d):\n",
    "    print('순서인수 a = ', a)\n",
    "    print('순서인수 b = ', b)\n",
    "    print('튜플인수 c = ', c)\n",
    "    print('딕셔너리인수 d = ', d)"
   ]
  },
  {
   "cell_type": "code",
   "execution_count": 162,
   "id": "a4e8a3e9",
   "metadata": {},
   "outputs": [
    {
     "name": "stdout",
     "output_type": "stream",
     "text": [
      "순서인수 a =  10\n",
      "순서인수 b =  20\n",
      "튜플인수 c =  (1, 2, 3, 4, 5, 6, 7, 8, 9, 'a', 'b', True)\n",
      "딕셔너리인수 d =  {'name': '홍', 'age': 30, 'address': '신림'}\n"
     ]
    }
   ],
   "source": [
    "func6(10, 20, 1,2,3,4,5,6,7,8,9,'a','b',True, name='홍', age=30, address='신림')"
   ]
  },
  {
   "cell_type": "code",
   "execution_count": 163,
   "id": "d3996854",
   "metadata": {},
   "outputs": [],
   "source": [
    "# 순서인수 > 튜플인수(*) > 키워드인수(기본값) > 딕셔너리인수(**)\n",
    "def func7(a, b, c, *d, e=10, **f):\n",
    "    print('순서인수 a =', a)\n",
    "    print('순서인수 b =', b)\n",
    "    print('순서인수 c =', c)\n",
    "    print('튜플인수 d =', d)\n",
    "    print('키워드인수(기본값 10) e =', e)\n",
    "    print('딕셔너리인수 f =', f)"
   ]
  },
  {
   "cell_type": "code",
   "execution_count": 167,
   "id": "0fdbdee7",
   "metadata": {},
   "outputs": [
    {
     "name": "stdout",
     "output_type": "stream",
     "text": [
      "순서인수 a = 10\n",
      "순서인수 b = 20\n",
      "순서인수 c = 30\n",
      "튜플인수 d = ()\n",
      "키워드인수(기본값 10) e = 100\n",
      "딕셔너리인수 f = {}\n"
     ]
    }
   ],
   "source": [
    "func7(10, 20, 30, e=100)"
   ]
  },
  {
   "cell_type": "code",
   "execution_count": 166,
   "id": "4d5b0118",
   "metadata": {},
   "outputs": [
    {
     "name": "stdout",
     "output_type": "stream",
     "text": [
      "순서인수 a = 10\n",
      "순서인수 b = 20\n",
      "순서인수 c = 30\n",
      "튜플인수 d = ()\n",
      "키워드인수(기본값 10) e = 10\n",
      "딕셔너리인수 f = {}\n"
     ]
    }
   ],
   "source": [
    "func7(10, 20, 30)"
   ]
  },
  {
   "cell_type": "code",
   "execution_count": 165,
   "id": "30a86651",
   "metadata": {},
   "outputs": [
    {
     "name": "stdout",
     "output_type": "stream",
     "text": [
      "순서인수 a = 10\n",
      "순서인수 b = 20\n",
      "순서인수 c = 30\n",
      "튜플인수 d = (1, 2, 3, 4, 5)\n",
      "키워드인수(기본값 10) e = 100\n",
      "딕셔너리인수 f = {'shape': 'rect', 'width': 20, 'height': 30}\n"
     ]
    }
   ],
   "source": [
    "func7(10, 20, 30, 1,2,3,4,5, e=100, shape='rect', width=20, height=30)"
   ]
  },
  {
   "cell_type": "markdown",
   "id": "7316529d",
   "metadata": {},
   "source": [
    "## 3.7 인수의 언패킹\n",
    "### 튜플인수 언패킹\n",
    "- 언패킹 : 함수 호출시 매개변수 앞에 * 붙임\n",
    "- 패킹 : 함수 정의시 매개변수앞에 * 붙임(튜플매개변수)"
   ]
  },
  {
   "cell_type": "code",
   "execution_count": 173,
   "id": "41ee7dde",
   "metadata": {},
   "outputs": [],
   "source": [
    "def add(*args):\n",
    "#    print(args)\n",
    "    sum = 0\n",
    "    for num in args:\n",
    "        sum += num\n",
    "    return sum"
   ]
  },
  {
   "cell_type": "code",
   "execution_count": 174,
   "id": "52cb18a5",
   "metadata": {},
   "outputs": [
    {
     "data": {
      "text/plain": [
       "6"
      ]
     },
     "execution_count": 174,
     "metadata": {},
     "output_type": "execute_result"
    }
   ],
   "source": [
    "add(1, 2, 3)"
   ]
  },
  {
   "cell_type": "code",
   "execution_count": 177,
   "id": "ad6cb4c0",
   "metadata": {},
   "outputs": [
    {
     "data": {
      "text/plain": [
       "6"
      ]
     },
     "execution_count": 177,
     "metadata": {},
     "output_type": "execute_result"
    }
   ],
   "source": [
    "numbers = (1, 2, 3)\n",
    "add( *numbers )"
   ]
  },
  {
   "cell_type": "markdown",
   "id": "2b880800",
   "metadata": {},
   "source": [
    "### 딕셔너리 인수 언패킹\n",
    "- 언패킹 : 함수 호출시 매개변수 앞에 ** 붙임\n",
    "- 패킹 : 함수 정의시 매개변수앞에 ** 붙임(튜플매개변수)"
   ]
  },
  {
   "cell_type": "code",
   "execution_count": 178,
   "id": "87b423d4",
   "metadata": {},
   "outputs": [],
   "source": [
    "def func8(**data):\n",
    "    print(data)\n",
    "    for item in data.items():\n",
    "        print(item)"
   ]
  },
  {
   "cell_type": "code",
   "execution_count": 180,
   "id": "721d35b7",
   "metadata": {
    "collapsed": true
   },
   "outputs": [
    {
     "name": "stdout",
     "output_type": "stream",
     "text": [
      "{'shape': 'rect', 'width': 40, 'height': 30}\n",
      "('shape', 'rect')\n",
      "('width', 40)\n",
      "('height', 30)\n"
     ]
    }
   ],
   "source": [
    "func8(shape='rect', width=40, height=30)"
   ]
  },
  {
   "cell_type": "code",
   "execution_count": 182,
   "id": "c23d3cfa",
   "metadata": {},
   "outputs": [
    {
     "name": "stdout",
     "output_type": "stream",
     "text": [
      "{'shape': 'rect', 'width': 40, 'height': 30}\n",
      "('shape', 'rect')\n",
      "('width', 40)\n",
      "('height', 30)\n"
     ]
    }
   ],
   "source": [
    "info = {'shape':'rect', 'width':40, 'height':30}\n",
    "func8(**info)"
   ]
  },
  {
   "cell_type": "markdown",
   "id": "a15ddbe3",
   "metadata": {},
   "source": [
    "# 4절 람다식\n",
    "- return 한 줄짜리 작은 익명함수\n",
    "## 4.1 람다식 연습"
   ]
  },
  {
   "cell_type": "code",
   "execution_count": 4,
   "id": "e17b410d",
   "metadata": {},
   "outputs": [
    {
     "name": "stdout",
     "output_type": "stream",
     "text": [
      "8\n",
      "<class 'function'>\n"
     ]
    }
   ],
   "source": [
    "def add(a, b):\n",
    "    return a+b\n",
    "print(add(3, 5))\n",
    "print(type(add))"
   ]
  },
  {
   "cell_type": "code",
   "execution_count": 6,
   "id": "898b4c11",
   "metadata": {},
   "outputs": [
    {
     "name": "stdout",
     "output_type": "stream",
     "text": [
      "8\n",
      "<class 'function'>\n"
     ]
    }
   ],
   "source": [
    "add2 = lambda a, b : a + b\n",
    "print(add2(3, 5))\n",
    "print(type(add2))"
   ]
  },
  {
   "cell_type": "code",
   "execution_count": 13,
   "id": "1e186afc",
   "metadata": {},
   "outputs": [
    {
     "data": {
      "text/plain": [
       "('홀수', '짝수')"
      ]
     },
     "execution_count": 13,
     "metadata": {},
     "output_type": "execute_result"
    }
   ],
   "source": [
    "# ex1. 매개변수로 들어온 값이 짝수인지 홀수인지 return하는 함수를 람다식으로 만들어보세요\n",
    "def even_odd_chk(num):\n",
    "#     if num%2:\n",
    "#         result = \"홀수\"\n",
    "#     else:\n",
    "#         result = \"짝수\"\n",
    "    return \"홀수\" if num%2 else \"짝수\"\n",
    "even_odd_chk1 = lambda num : \"홀수\" if num%2 else \"짝수\"\n",
    "even_odd_chk(5), even_odd_chk1(-4)"
   ]
  },
  {
   "cell_type": "code",
   "execution_count": 17,
   "id": "6c34c13b",
   "metadata": {},
   "outputs": [
    {
     "data": {
      "text/plain": [
       "(4, 4)"
      ]
     },
     "execution_count": 17,
     "metadata": {},
     "output_type": "execute_result"
    }
   ],
   "source": [
    "# ex2. 두 매개변수의 차이를 return하는 함수를 람다식으로 만들어 보세요\n",
    "def diff(a, b):\n",
    "    if a>b:\n",
    "        result = a-b\n",
    "    else:\n",
    "        result = b-a\n",
    "    return result\n",
    "diff = lambda a, b : a-b if a>b else b-a\n",
    "diff(5, 1), diff(1, 5)"
   ]
  },
  {
   "cell_type": "code",
   "execution_count": 20,
   "id": "2ef33f90",
   "metadata": {},
   "outputs": [
    {
     "data": {
      "text/plain": [
       "(1000, 'negative')"
      ]
     },
     "execution_count": 20,
     "metadata": {},
     "output_type": "execute_result"
    }
   ],
   "source": [
    "# ex3. 매개변수로 잔액을 받아, 잔액이 0이상면 잔액을 return, 음수면 'negative'를 return\n",
    "ex3 = lambda balance : balance if balance>=0 else 'negative'\n",
    "ex3(1000), ex3(-100)"
   ]
  },
  {
   "cell_type": "code",
   "execution_count": 23,
   "id": "8f1e0ebf",
   "metadata": {},
   "outputs": [
    {
     "data": {
      "text/plain": [
       "('재시험', '유효하지 않음')"
      ]
     },
     "execution_count": 23,
     "metadata": {},
     "output_type": "execute_result"
    }
   ],
   "source": [
    "# ex4. 점수를 입력받아 80점이상은 'A팀', 60점이상은 'B팀', 60점미만은 '재시험'\n",
    "                     # 100점초과, 0점미만은 '유효하지 않음'을 return\n",
    "def levelChk(score):\n",
    "    if 80<=score<=100:\n",
    "        return 'A팀'\n",
    "    elif 60<=score<80:\n",
    "        return 'B팀'\n",
    "    elif 0<=score<60:\n",
    "        return '재시험'\n",
    "    else:\n",
    "        return '유효하지 않음'\n",
    "ex4 = lambda score : 'A팀' if 80<=score<=100 else \\\n",
    "                     'B팀' if 60<=score<80 else \\\n",
    "                     '재시험' if 0<=score<60 else \\\n",
    "                     '유효하지 않음'\n",
    "levelChk(8), ex4(160)"
   ]
  },
  {
   "cell_type": "code",
   "execution_count": 24,
   "id": "e0d71b94",
   "metadata": {},
   "outputs": [
    {
     "data": {
      "text/plain": [
       "('D학점', '유효하지 않는 점수')"
      ]
     },
     "execution_count": 24,
     "metadata": {},
     "output_type": "execute_result"
    }
   ],
   "source": [
    "# 점수를 입력받아 학점을 return\n",
    "score_grade = lambda score : 'A학점' if 90<=score<=100 else \\\n",
    "                             'B학점' if 80<=score<90 else \\\n",
    "                             'C학점' if 70<=score<80 else \\\n",
    "                             'D학점' if 60<=score<70 else \\\n",
    "                             'F학점' if 0<=score<60 else \\\n",
    "                             '유효하지 않는 점수'\n",
    "score_grade(60), score_grade(120)"
   ]
  },
  {
   "cell_type": "code",
   "execution_count": 27,
   "id": "b78b0177",
   "metadata": {},
   "outputs": [
    {
     "data": {
      "text/plain": [
       "(-1, 2)"
      ]
     },
     "execution_count": 27,
     "metadata": {},
     "output_type": "execute_result"
    }
   ],
   "source": [
    "# ex5 safe_index함수를 람다식으로\n",
    "def safe_index(lst, item, start=0):\n",
    "    return lst.index(item, start) if item in lst[start:] else -1\n",
    "#     if item in lst[start:]:\n",
    "#         return lst.index(item, start) # start번째부터 item이 있는 index를 반환\n",
    "#     else:\n",
    "#         return -1\n",
    "ex5 = lambda lst, item, start=0 : lst.index(item, start) if item in lst[start:] else \\\n",
    "                                  -1\n",
    "i = 3\n",
    "lst = [i, 2, 3]\n",
    "safe_index(lst, 4), ex5(lst, 3, 1)"
   ]
  },
  {
   "cell_type": "code",
   "execution_count": 37,
   "id": "600e124a",
   "metadata": {},
   "outputs": [
    {
     "data": {
      "text/plain": [
       "[25, 15, 100, 4.0]"
      ]
     },
     "execution_count": 37,
     "metadata": {},
     "output_type": "execute_result"
    }
   ],
   "source": [
    "# 람다식을 list에 들어갈 수 있음\n",
    "add = lambda a, b : a + b\n",
    "sub = lambda a, b : a - b\n",
    "mul = lambda a, b : a * b\n",
    "div = lambda a, b : a / b if b else '두번째 인자가 0이면 못 나눠요'\n",
    "operations = [add, sub, mul, div] # 사칙연산 함수들\n",
    "\n",
    "def act_operations(a, b, operations=operations): # a,b의 연산 결과를 return\n",
    "    result = []\n",
    "    for op in operations:\n",
    "        result.append(op(a, b))\n",
    "    return result\n",
    "\n",
    "act_operations(20, 5)"
   ]
  },
  {
   "cell_type": "code",
   "execution_count": 31,
   "id": "9cbee4ec",
   "metadata": {},
   "outputs": [
    {
     "data": {
      "text/plain": [
       "[64, 20]"
      ]
     },
     "execution_count": 31,
     "metadata": {},
     "output_type": "execute_result"
    }
   ],
   "source": [
    "act_operations(8, 2, [lambda x,y : x**y, lambda x,y : 10*x+y])"
   ]
  },
  {
   "cell_type": "code",
   "execution_count": 32,
   "id": "9856c74e",
   "metadata": {},
   "outputs": [
    {
     "data": {
      "text/plain": [
       "53"
      ]
     },
     "execution_count": 32,
     "metadata": {},
     "output_type": "execute_result"
    }
   ],
   "source": [
    "(lambda x,y : 10*x+y)(5,3)"
   ]
  },
  {
   "cell_type": "code",
   "execution_count": 33,
   "id": "58aa31af",
   "metadata": {},
   "outputs": [
    {
     "data": {
      "text/plain": [
       "5"
      ]
     },
     "execution_count": 33,
     "metadata": {},
     "output_type": "execute_result"
    }
   ],
   "source": [
    "operations.append(lambda x, y : x**y)\n",
    "len(operations)"
   ]
  },
  {
   "cell_type": "code",
   "execution_count": 34,
   "id": "70aa3547",
   "metadata": {},
   "outputs": [
    {
     "data": {
      "text/plain": [
       "[10, 6, 16, 4.0, 64]"
      ]
     },
     "execution_count": 34,
     "metadata": {},
     "output_type": "execute_result"
    }
   ],
   "source": [
    "act_operations(8, 2) # 기본값을 갖는 변수(기본 변수)가 리스트면 기본값은 호출할 시점"
   ]
  },
  {
   "cell_type": "markdown",
   "id": "4e7d6c2c",
   "metadata": {},
   "source": [
    "## 4.2 함수의 매개변수(인수)에 람다식 사용\n",
    "- 람다식을 사용하는 곳 : 함수의 매개변수 > return 문\n",
    "### (1) map"
   ]
  },
  {
   "cell_type": "code",
   "execution_count": 44,
   "id": "95c009a2",
   "metadata": {},
   "outputs": [],
   "source": [
    "def map_template(func, L=[]):\n",
    "    result = []\n",
    "    for item in L:\n",
    "        result.append( func(item) )\n",
    "    return result"
   ]
  },
  {
   "cell_type": "code",
   "execution_count": 47,
   "id": "9d088c71",
   "metadata": {},
   "outputs": [
    {
     "data": {
      "text/plain": [
       "[2, 4, 6, 8, 10, 12, 14, 16, 18]"
      ]
     },
     "execution_count": 47,
     "metadata": {},
     "output_type": "execute_result"
    }
   ],
   "source": [
    "list_data = [1,2,3,4,5,6,7,8,9]\n",
    "# def x_2(x):\n",
    "#     return x*2\n",
    "x_2 = lambda x : x*2\n",
    "map_template(x_2, list_data)"
   ]
  },
  {
   "cell_type": "code",
   "execution_count": 50,
   "id": "2a87f635",
   "metadata": {},
   "outputs": [
    {
     "data": {
      "text/plain": [
       "[2, 4, 6, 8, 10, 12, 14, 16, 18]"
      ]
     },
     "execution_count": 50,
     "metadata": {},
     "output_type": "execute_result"
    }
   ],
   "source": [
    "map_template(lambda x:x*2, list_data)"
   ]
  },
  {
   "cell_type": "code",
   "execution_count": 54,
   "id": "615108bd",
   "metadata": {},
   "outputs": [
    {
     "data": {
      "text/plain": [
       "[2, 4, 6, 8, 10, 12, 14, 16, 18]"
      ]
     },
     "execution_count": 54,
     "metadata": {},
     "output_type": "execute_result"
    }
   ],
   "source": [
    "# 리스트 컴프리헨션\n",
    "[item*2 for item in list_data]"
   ]
  },
  {
   "cell_type": "code",
   "execution_count": 56,
   "id": "098ee7a1",
   "metadata": {},
   "outputs": [
    {
     "data": {
      "text/plain": [
       "[2, 4, 6, 8, 10, 12, 14, 16, 18]"
      ]
     },
     "execution_count": 56,
     "metadata": {},
     "output_type": "execute_result"
    }
   ],
   "source": [
    "list(map(lambda x:x*2, list_data))"
   ]
  },
  {
   "cell_type": "code",
   "execution_count": 57,
   "id": "cc363478",
   "metadata": {},
   "outputs": [
    {
     "name": "stdout",
     "output_type": "stream",
     "text": [
      "2 4 6 8 10 12 14 16 18 "
     ]
    }
   ],
   "source": [
    "for data in map(lambda x:x*2, list_data):\n",
    "    print(data, end=' ')"
   ]
  },
  {
   "cell_type": "code",
   "execution_count": 20,
   "id": "cd3598a7",
   "metadata": {},
   "outputs": [
    {
     "name": "stdout",
     "output_type": "stream",
     "text": [
      "5000 5000 6000 1000 5000 5000 6000 1000 "
     ]
    }
   ],
   "source": [
    "'''\n",
    "예제 1. prices = ['5,000', '5000', '6,000', '1000','5,000', '5000', '6,000',\n",
    "'1000’]를 [5000,5000,6000,1000]식으로 바꾸시오\n",
    "'''\n",
    "prices = ['5,000', '5000', '6,000', '1000','5,000', '5000', '6,000','1000']\n",
    "def toint(value):\n",
    "    return int(value.replace(',',''))\n",
    "prices_int = map(lambda value : int(value.replace(',','')), prices)\n",
    "for price in prices_int:\n",
    "    print(price, end=' ')"
   ]
  },
  {
   "cell_type": "code",
   "execution_count": 21,
   "id": "d7dad9e9",
   "metadata": {},
   "outputs": [
    {
     "data": {
      "text/plain": [
       "\"예제2 : members1을 members2로 \\nmembers1 = [{'name':'홍길동', 'birth':'2000-01-01’},\\n            {'name':'신길동', 'birth':'1995-12-18'},]\\n    members2 = [\\n         {'name':'홍길동', 'year':2000, 'month':1,'day':1},\\n        {'name':'신길동', 'year':1995, 'month':12, 'day':18},]\\n\""
      ]
     },
     "execution_count": 21,
     "metadata": {},
     "output_type": "execute_result"
    }
   ],
   "source": [
    "'''예제2 : members1을 members2로 \n",
    "members1 = [{'name':'홍길동', 'birth':'2000-01-01’},\n",
    "            {'name':'신길동', 'birth':'1995-12-18'},]\n",
    "    members2 = [\n",
    "         {'name':'홍길동', 'year':2000, 'month':1,'day':1},\n",
    "        {'name':'신길동', 'year':1995, 'month':12, 'day':18},]\n",
    "'''"
   ]
  },
  {
   "cell_type": "code",
   "execution_count": 22,
   "id": "7192dc29",
   "metadata": {},
   "outputs": [],
   "source": [
    "members1 = [{'name':'홍길동', 'birth':'2000-01-01'},\n",
    "            {'name':'신길동', 'birth':'1995-12-18'},]"
   ]
  },
  {
   "cell_type": "code",
   "execution_count": 23,
   "id": "5317e5a8",
   "metadata": {},
   "outputs": [
    {
     "data": {
      "text/plain": [
       "({'year': 2025, 'month': 1, 'day': 1}, {'year': 1995, 'month': 12, 'day': 12})"
      ]
     },
     "execution_count": 23,
     "metadata": {},
     "output_type": "execute_result"
    }
   ],
   "source": [
    "# '2025-01-01' => {'year':2000, 'month':1,'day':1} \n",
    "def split_date(date):\n",
    "    split_date = date.split('-')\n",
    "    return {\n",
    "        'year': int(split_date[0]),\n",
    "        'month':int(split_date[1]),\n",
    "        'day':int(split_date[2])\n",
    "    }\n",
    "split_date('2025-01-01'), split_date('1995-12-12')"
   ]
  },
  {
   "cell_type": "code",
   "execution_count": 24,
   "id": "34de2bcf",
   "metadata": {},
   "outputs": [
    {
     "data": {
      "text/plain": [
       "({'year': 2025, 'month': 1, 'day': 1}, {'year': 1995, 'month': 12, 'day': 12})"
      ]
     },
     "execution_count": 24,
     "metadata": {},
     "output_type": "execute_result"
    }
   ],
   "source": [
    "# '2025-01-01' => {'year':2000, 'month':1,'day':1} \n",
    "def split_date(date):\n",
    "    return {\n",
    "        'year': int(date.split('-')[0]),\n",
    "        'month':int(date.split('-')[1]),\n",
    "        'day':int(date.split('-')[2])\n",
    "    }\n",
    "split_date('2025-01-01'), split_date('1995-12-12')"
   ]
  },
  {
   "cell_type": "code",
   "execution_count": 25,
   "id": "3a93f000",
   "metadata": {},
   "outputs": [
    {
     "data": {
      "text/plain": [
       "{'year': 2025, 'month': 1, 'day': 1}"
      ]
     },
     "execution_count": 25,
     "metadata": {},
     "output_type": "execute_result"
    }
   ],
   "source": [
    "# {'birth':'2025-01-01'} => {'year':2000, 'month':1,'day':1} \n",
    "def split_date(data):\n",
    "    return {\n",
    "        'year': int(data['birth'].split('-')[0]),\n",
    "        'month':int(data['birth'].split('-')[1]),\n",
    "        'day':int(data['birth'].split('-')[2])\n",
    "    }\n",
    "split_date({'birth':'2025-01-01'})"
   ]
  },
  {
   "cell_type": "code",
   "execution_count": 26,
   "id": "da2f0d3f",
   "metadata": {},
   "outputs": [
    {
     "data": {
      "text/plain": [
       "{'name': '홍길동', 'year': 2000, 'month': 1, 'day': 1}"
      ]
     },
     "execution_count": 26,
     "metadata": {},
     "output_type": "execute_result"
    }
   ],
   "source": [
    "# {'name':'홍길동', 'birth':'2000-01-01’}=>{'name':'홍길동', 'year':2000, 'month':1,'day':1}\n",
    "def member_preprocessing(member):\n",
    "    return {\n",
    "        'name' : member.get('name','이름없음'), #member['name']\n",
    "        'year' : int(member.get('birth').split('-')[0]),\n",
    "        'month': int(member.get('birth').split('-')[1]),\n",
    "        'day'  : int(member.get('birth').split('-')[2]),\n",
    "    }\n",
    "member_preprocessing({'name':'홍길동', 'birth':'2000-01-01'})"
   ]
  },
  {
   "cell_type": "code",
   "execution_count": 27,
   "id": "697df331",
   "metadata": {},
   "outputs": [
    {
     "data": {
      "text/plain": [
       "[{'name': '홍길동', 'year': 2000, 'month': 1, 'day': 1},\n",
       " {'name': '신길동', 'year': 1995, 'month': 12, 'day': 18}]"
      ]
     },
     "execution_count": 27,
     "metadata": {},
     "output_type": "execute_result"
    }
   ],
   "source": [
    "members2 = list(map(lambda member : {\n",
    "                                'name' : member.get('name','이름없음'), \n",
    "                                'year' : int(member.get('birth').split('-')[0]),\n",
    "                                'month': int(member.get('birth').split('-')[1]),\n",
    "                                'day'  : int(member.get('birth').split('-')[2]),\n",
    "                                } , members1 \n",
    "                   )  \n",
    "               )\n",
    "members2"
   ]
  },
  {
   "cell_type": "code",
   "execution_count": 28,
   "id": "02246c5a",
   "metadata": {},
   "outputs": [
    {
     "data": {
      "text/plain": [
       "[{'name': '홍길동', 'birth': '2000-01-01'},\n",
       " {'name': '신길동', 'birth': '1995-12-18'}]"
      ]
     },
     "execution_count": 28,
     "metadata": {},
     "output_type": "execute_result"
    }
   ],
   "source": [
    "'''\n",
    "예제3. members2를 members1로 전환\n",
    "'''\n",
    "members1"
   ]
  },
  {
   "cell_type": "code",
   "execution_count": 29,
   "id": "c5978541",
   "metadata": {},
   "outputs": [
    {
     "data": {
      "text/plain": [
       "'2000-09-09'"
      ]
     },
     "execution_count": 29,
     "metadata": {},
     "output_type": "execute_result"
    }
   ],
   "source": [
    "# {'year':2000, 'month':1,'day':1}  => '2025-01-01'\n",
    "def join_date(data):\n",
    "    return \"{}-{:02}-{:02}\".format(data.get('year'), data.get('month'), data.get('day'))\n",
    "join_date({'year':2000, 'month':9,'day':9})"
   ]
  },
  {
   "cell_type": "code",
   "execution_count": 30,
   "id": "336f799e",
   "metadata": {},
   "outputs": [
    {
     "data": {
      "text/plain": [
       "'2000-09-09'"
      ]
     },
     "execution_count": 30,
     "metadata": {},
     "output_type": "execute_result"
    }
   ],
   "source": [
    "# {'year':2000, 'month':1,'day':1}  => '2025-01-01'\n",
    "def join_date(data):\n",
    "    return \"{year}-{month:02}-{day:02}\".format(**data)\n",
    "join_date({'year':2000, 'month':9,'day':9})"
   ]
  },
  {
   "cell_type": "code",
   "execution_count": 31,
   "id": "94421528",
   "metadata": {},
   "outputs": [
    {
     "data": {
      "text/plain": [
       "{'birth': '2000-09-09'}"
      ]
     },
     "execution_count": 31,
     "metadata": {},
     "output_type": "execute_result"
    }
   ],
   "source": [
    "# {'year':2000, 'month':1,'day':1}  => {'birth':'2025-01-01'}\n",
    "def join_date(data):\n",
    "    return {\"birth\" : \"{year}-{month:02}-{day:02}\".format(**data)}\n",
    "join_date({'year':2000, 'month':9,'day':9})"
   ]
  },
  {
   "cell_type": "code",
   "execution_count": 34,
   "id": "ca78d084",
   "metadata": {},
   "outputs": [
    {
     "data": {
      "text/plain": [
       "{'name': 'hong', 'birth': '2000-01-01'}"
      ]
     },
     "execution_count": 34,
     "metadata": {},
     "output_type": "execute_result"
    }
   ],
   "source": [
    "# {'name':'hong', year':2000, 'month':1,'day':1}  => {'name':'hong',birth':'2025-01-01'}\n",
    "def members_preprocessing(member):\n",
    "    return {\n",
    "        'name': member.get('name'),\n",
    "        'birth':\"{year}-{month:02}-{day:02}\".format(**member)\n",
    "    }\n",
    "members_preprocessing({'name':'hong', 'year':2000, 'month':1,'day':1})"
   ]
  },
  {
   "cell_type": "code",
   "execution_count": 36,
   "id": "0d565d92",
   "metadata": {},
   "outputs": [
    {
     "data": {
      "text/plain": [
       "[{'name': '홍길동', 'birth': '2000-01-01'},\n",
       " {'name': '신길동', 'birth': '1995-12-18'}]"
      ]
     },
     "execution_count": 36,
     "metadata": {},
     "output_type": "execute_result"
    }
   ],
   "source": [
    "list(map(lambda member : {\n",
    "        'name': member.get('name'),\n",
    "        'birth':\"{year}-{month:02}-{day:02}\".format(**member)\n",
    "        }, members2))"
   ]
  },
  {
   "cell_type": "markdown",
   "id": "c4ac24c1",
   "metadata": {},
   "source": [
    "### (2) filter"
   ]
  },
  {
   "cell_type": "code",
   "execution_count": 37,
   "id": "0c9cc479",
   "metadata": {},
   "outputs": [],
   "source": [
    "def filter_template(func, L=[]):\n",
    "    result = []\n",
    "    for item in L:\n",
    "        if func(item):\n",
    "            result.append(item)\n",
    "    return result"
   ]
  },
  {
   "cell_type": "code",
   "execution_count": 38,
   "id": "c8a297c4",
   "metadata": {},
   "outputs": [
    {
     "data": {
      "text/plain": [
       "[1, 3, 5, 7, 9]"
      ]
     },
     "execution_count": 38,
     "metadata": {},
     "output_type": "execute_result"
    }
   ],
   "source": [
    "list_data = [1,2,3,4,5,6,7,8,9]\n",
    "def odd_chk(value):\n",
    "    return value%2!=0\n",
    "#     if value%2:\n",
    "#         return True\n",
    "#     else:\n",
    "#         return False\n",
    "filter_template(lambda value : value%2!=0, list_data)"
   ]
  },
  {
   "cell_type": "code",
   "execution_count": 39,
   "id": "aafbf73f",
   "metadata": {},
   "outputs": [
    {
     "data": {
      "text/plain": [
       "[1, 3, 5, 7, 9]"
      ]
     },
     "execution_count": 39,
     "metadata": {},
     "output_type": "execute_result"
    }
   ],
   "source": [
    "# 리스트컴프리헨션\n",
    "[value for value in list_data if value%2!=0]"
   ]
  },
  {
   "cell_type": "code",
   "execution_count": 41,
   "id": "ff7ed889",
   "metadata": {},
   "outputs": [
    {
     "data": {
      "text/plain": [
       "[1, 3, 5, 7, 9]"
      ]
     },
     "execution_count": 41,
     "metadata": {},
     "output_type": "execute_result"
    }
   ],
   "source": [
    "list(filter(lambda value : value%2!=0, list_data))"
   ]
  },
  {
   "cell_type": "code",
   "execution_count": 43,
   "id": "63b70795",
   "metadata": {},
   "outputs": [
    {
     "data": {
      "text/plain": [
       "[1, 3.0, 100, -2.0]"
      ]
     },
     "execution_count": 43,
     "metadata": {},
     "output_type": "execute_result"
    }
   ],
   "source": [
    "# 예제 : 다음 리스트에서 소수점 이하가 0인 수만 추출하시오(filter/리스트컴프리헨션)\n",
    "L = [1, 1.2, 1.5, 3.0, 10.5, 100, -2.0, -12.2]\n",
    "list(filter(lambda x : x%1==0, L))"
   ]
  },
  {
   "cell_type": "code",
   "execution_count": 44,
   "id": "aa6f1713",
   "metadata": {},
   "outputs": [
    {
     "data": {
      "text/plain": [
       "[1, 3.0, 100, -2.0]"
      ]
     },
     "execution_count": 44,
     "metadata": {},
     "output_type": "execute_result"
    }
   ],
   "source": [
    "[item for item in L if item%1==0]"
   ]
  },
  {
   "cell_type": "markdown",
   "id": "6f40657a",
   "metadata": {},
   "source": [
    "### (3) sort"
   ]
  },
  {
   "cell_type": "code",
   "execution_count": 46,
   "id": "226f0e6a",
   "metadata": {},
   "outputs": [
    {
     "data": {
      "text/plain": [
       "[10, 6, 3, 1]"
      ]
     },
     "execution_count": 46,
     "metadata": {},
     "output_type": "execute_result"
    }
   ],
   "source": [
    "p = [10, 3, 6, 1]\n",
    "p.sort(reverse=True)\n",
    "p"
   ]
  },
  {
   "cell_type": "code",
   "execution_count": 47,
   "id": "e5f6d270",
   "metadata": {},
   "outputs": [
    {
     "data": {
      "text/plain": [
       "[(1, 'one'), (2, 'two'), (3, 'three'), (4, 'four')]"
      ]
     },
     "execution_count": 47,
     "metadata": {},
     "output_type": "execute_result"
    }
   ],
   "source": [
    "# 무조건 0번째 item을 기준으로 오름차순 정렬\n",
    "pairs = [(2, 'two'), (1, 'one'), (3, 'three'), (4, 'four')]\n",
    "pairs.sort()\n",
    "pairs"
   ]
  },
  {
   "cell_type": "code",
   "execution_count": 50,
   "id": "f6a3a8f5",
   "metadata": {},
   "outputs": [
    {
     "data": {
      "text/plain": [
       "[(2, 'two'), (3, 'three'), (1, 'one'), (4, 'four')]"
      ]
     },
     "execution_count": 50,
     "metadata": {},
     "output_type": "execute_result"
    }
   ],
   "source": [
    "# 1번째 item 기준으로 내림차순 정렬\n",
    "pairs.sort(key=lambda data:data[1], reverse=True)\n",
    "pairs"
   ]
  },
  {
   "cell_type": "code",
   "execution_count": 55,
   "id": "589c902b",
   "metadata": {},
   "outputs": [
    {
     "name": "stdout",
     "output_type": "stream",
     "text": [
      "[[1, 100], [9, 9], [10, 200, 2]]\n",
      "[[10, 200, 2], [1, 100], [9, 9]]\n"
     ]
    }
   ],
   "source": [
    "# 0번 item이 큰 순(오름차순)\n",
    "number_2d = [[9,9], [1, 100], [10,200, 2]]\n",
    "number_2d.sort()\n",
    "print(number_2d)\n",
    "# 합이 큰순으로 정렬\n",
    "number_2d.sort(key=lambda items : sum(items), reverse=True)\n",
    "print(number_2d)"
   ]
  },
  {
   "cell_type": "code",
   "execution_count": 57,
   "id": "07030e0e",
   "metadata": {},
   "outputs": [],
   "source": [
    "students = [{'name':'홍', 'score':99},\n",
    "           {'name':'김', 'score':50},\n",
    "           {'name':'박', 'score':77},\n",
    "           {'score':100},]"
   ]
  },
  {
   "cell_type": "code",
   "execution_count": 64,
   "id": "4e4a9bd9",
   "metadata": {},
   "outputs": [
    {
     "data": {
      "text/plain": [
       "'힣'"
      ]
     },
     "execution_count": 64,
     "metadata": {},
     "output_type": "execute_result"
    }
   ],
   "source": [
    "name_select = lambda data : data.get('name', '힣')\n",
    "name_select({ 'score':99})"
   ]
  },
  {
   "cell_type": "code",
   "execution_count": 67,
   "id": "38a3f50d",
   "metadata": {},
   "outputs": [
    {
     "data": {
      "text/plain": [
       "[{'score': 100},\n",
       " {'name': '김', 'score': 50},\n",
       " {'name': '박', 'score': 77},\n",
       " {'name': '홍', 'score': 99}]"
      ]
     },
     "execution_count": 67,
     "metadata": {},
     "output_type": "execute_result"
    }
   ],
   "source": [
    "# students를 name순으로 정렬(ㄱㄴㄷ순)\n",
    "students.sort(key=lambda data : data.get('name', '힣'))\n",
    "students"
   ]
  },
  {
   "cell_type": "code",
   "execution_count": 68,
   "id": "561a18cd",
   "metadata": {},
   "outputs": [
    {
     "data": {
      "text/plain": [
       "[{'score': 100},\n",
       " {'name': '홍', 'score': 99},\n",
       " {'name': '박', 'score': 77},\n",
       " {'name': '김', 'score': 50}]"
      ]
     },
     "execution_count": 68,
     "metadata": {},
     "output_type": "execute_result"
    }
   ],
   "source": [
    "# students를 score 큰 순 정렬\n",
    "students.sort(key=lambda data : data.get('score', 0), reverse=True)\n",
    "students"
   ]
  },
  {
   "cell_type": "code",
   "execution_count": null,
   "id": "5839b737",
   "metadata": {},
   "outputs": [],
   "source": [
    "# 예제 : books 정렬(no, title, price)"
   ]
  },
  {
   "cell_type": "code",
   "execution_count": 85,
   "id": "e6285ff1",
   "metadata": {},
   "outputs": [],
   "source": [
    "books = \\\n",
    "   [{'no':2, 'title':'더트릭컬', 'writer':'폴빠','price':'19,800'},\n",
    "    {'no':1, 'title':'흔한남매', 'writer':'백난도', 'price':'15,120'},\n",
    "    {'no':3, 'title':'단 한 번의 삶', 'writer':'김영하', 'price':'15,120'},\n",
    "    {'no':4, 'title':'가격잘못', 'writer':'홍길동', 'price':'ㅁ'},\n",
    "    {'no':5, 'title':'가격이숫자', 'writer':'백난도', 'price':30200},\n",
    "    {'no':6, 'title':'가격이없음', 'writer':'이길동'},] "
   ]
  },
  {
   "cell_type": "code",
   "execution_count": 86,
   "id": "7aef38c8",
   "metadata": {},
   "outputs": [
    {
     "data": {
      "text/plain": [
       "[{'no': 1, 'title': '흔한남매', 'writer': '백난도', 'price': '15,120'},\n",
       " {'no': 2, 'title': '더트릭컬', 'writer': '폴빠', 'price': '19,800'},\n",
       " {'no': 3, 'title': '단 한 번의 삶', 'writer': '김영하', 'price': '15,120'},\n",
       " {'no': 4, 'title': '가격잘못', 'writer': '홍길동', 'price': 'ㅁ'},\n",
       " {'no': 5, 'title': '가격이숫자', 'writer': '백난도', 'price': 30200},\n",
       " {'no': 6, 'title': '가격이없음', 'writer': '이길동'}]"
      ]
     },
     "execution_count": 86,
     "metadata": {},
     "output_type": "execute_result"
    }
   ],
   "source": [
    "# no기준으로 sort\n",
    "books.sort(key = lambda book : book['no'])\n",
    "books"
   ]
  },
  {
   "cell_type": "code",
   "execution_count": 87,
   "id": "80f4f547",
   "metadata": {},
   "outputs": [
    {
     "data": {
      "text/plain": [
       "[{'no': 5, 'title': '가격이숫자', 'writer': '백난도', 'price': 30200},\n",
       " {'no': 6, 'title': '가격이없음', 'writer': '이길동'},\n",
       " {'no': 4, 'title': '가격잘못', 'writer': '홍길동', 'price': 'ㅁ'},\n",
       " {'no': 3, 'title': '단 한 번의 삶', 'writer': '김영하', 'price': '15,120'},\n",
       " {'no': 2, 'title': '더트릭컬', 'writer': '폴빠', 'price': '19,800'},\n",
       " {'no': 1, 'title': '흔한남매', 'writer': '백난도', 'price': '15,120'}]"
      ]
     },
     "execution_count": 87,
     "metadata": {},
     "output_type": "execute_result"
    }
   ],
   "source": [
    "# title 기준으로 sort\n",
    "books.sort(key = lambda book : book['title'])\n",
    "books"
   ]
  },
  {
   "cell_type": "code",
   "execution_count": 90,
   "id": "81e10c6a",
   "metadata": {},
   "outputs": [
    {
     "ename": "TypeError",
     "evalue": "'<' not supported between instances of 'str' and 'int'",
     "output_type": "error",
     "traceback": [
      "\u001b[1;31m----------------------------------------\u001b[0m",
      "\u001b[1;31mTypeError\u001b[0mTraceback (most recent call last)",
      "Cell \u001b[1;32mIn[90], line 2\u001b[0m\n\u001b[0;32m      1\u001b[0m \u001b[38;5;66;03m# price 기준으로 sort\u001b[39;00m\n\u001b[1;32m----> 2\u001b[0m \u001b[43mbooks\u001b[49m\u001b[38;5;241;43m.\u001b[39;49m\u001b[43msort\u001b[49m\u001b[43m(\u001b[49m\u001b[43mkey\u001b[49m\u001b[43m \u001b[49m\u001b[38;5;241;43m=\u001b[39;49m\u001b[43m \u001b[49m\u001b[38;5;28;43;01mlambda\u001b[39;49;00m\u001b[43m \u001b[49m\u001b[43mbook\u001b[49m\u001b[43m \u001b[49m\u001b[43m:\u001b[49m\u001b[43m \u001b[49m\u001b[43mbook\u001b[49m\u001b[38;5;241;43m.\u001b[39;49m\u001b[43mget\u001b[49m\u001b[43m(\u001b[49m\u001b[38;5;124;43m'\u001b[39;49m\u001b[38;5;124;43mprice\u001b[39;49m\u001b[38;5;124;43m'\u001b[39;49m\u001b[43m,\u001b[49m\u001b[43m \u001b[49m\u001b[38;5;241;43m0\u001b[39;49m\u001b[43m)\u001b[49m\u001b[43m)\u001b[49m\n\u001b[0;32m      3\u001b[0m books\n",
      "\u001b[1;31mTypeError\u001b[0m: '<' not supported between instances of 'str' and 'int'"
     ]
    }
   ],
   "source": [
    "# price 기준으로 sort\n",
    "books.sort(key = lambda book : book.get('price', 0))\n",
    "books"
   ]
  },
  {
   "cell_type": "code",
   "execution_count": 109,
   "id": "274ec406",
   "metadata": {},
   "outputs": [
    {
     "name": "stdout",
     "output_type": "stream",
     "text": [
      "12000 30200 0 0\n"
     ]
    }
   ],
   "source": [
    "# \"30200\"=> 30200, '12,000'=>12000, '5000'=>5000, 'ㅁ'=>0, \"None\"=>0\n",
    "def parse_int(price):\n",
    "    if isinstance(price, str) and price.replace(',','').isdigit():\n",
    "        return int(price.replace(',',''))\n",
    "    elif isinstance(price, int):\n",
    "        return price\n",
    "    else:\n",
    "        return 0\n",
    "def parse_int(price):\n",
    "    if str(price).replace(',','').isdigit():\n",
    "        return int(str(price).replace(',',''))\n",
    "    else:\n",
    "        return 0  \n",
    "parse_int = lambda price : \\\n",
    "            int(price.replace(',','')) \\\n",
    "                if isinstance(price, str) and price.replace(',','').isdigit() else \\\n",
    "            price if isinstance(price, int) else \\\n",
    "            0\n",
    "\n",
    "print(parse_int('12,000'), parse_int(30200), parse_int('ㅁ'), parse_int(None))"
   ]
  },
  {
   "cell_type": "code",
   "execution_count": 107,
   "id": "d3d403c3",
   "metadata": {},
   "outputs": [
    {
     "data": {
      "text/plain": [
       "0"
      ]
     },
     "execution_count": 107,
     "metadata": {},
     "output_type": "execute_result"
    }
   ],
   "source": [
    "# {'no': 5, 'title': '가격이숫자', 'writer': '백난도', 'price': '12,000'} => 12000\n",
    "parse_int = lambda book : \\\n",
    "            int(book.get('price').replace(',','')) \\\n",
    "                    if isinstance(book.get('price'), str) and \\\n",
    "                                book.get('price').replace(',','').isdigit() else \\\n",
    "            book.get('price') if isinstance(book.get('price'), int) else \\\n",
    "            0\n",
    "\n",
    "parse_int({'no': 5, 'title': '가격이숫자', 'writer': '백난도', 'price': 'ㅁ'})"
   ]
  },
  {
   "cell_type": "code",
   "execution_count": 111,
   "id": "03a826ba",
   "metadata": {},
   "outputs": [
    {
     "data": {
      "text/plain": [
       "[{'no': 5, 'title': '가격이숫자', 'writer': '백난도', 'price': 30200},\n",
       " {'no': 2, 'title': '더트릭컬', 'writer': '폴빠', 'price': '19,800'},\n",
       " {'no': 3, 'title': '단 한 번의 삶', 'writer': '김영하', 'price': '15,120'},\n",
       " {'no': 1, 'title': '흔한남매', 'writer': '백난도', 'price': '15,120'},\n",
       " {'no': 6, 'title': '가격이없음', 'writer': '이길동'},\n",
       " {'no': 4, 'title': '가격잘못', 'writer': '홍길동', 'price': 'ㅁ'}]"
      ]
     },
     "execution_count": 111,
     "metadata": {},
     "output_type": "execute_result"
    }
   ],
   "source": [
    "copyBooks = books.copy() # 복제\n",
    "copyBooks.sort(key=lambda book : \\\n",
    "                int(book.get('price').replace(',','')) \\\n",
    "                        if isinstance(book.get('price'), str) and \\\n",
    "                                    book.get('price').replace(',','').isdigit() else \\\n",
    "                book.get('price') if isinstance(book.get('price'), int) else \\\n",
    "                0,\n",
    "              reverse=True)\n",
    "copyBooks"
   ]
  },
  {
   "cell_type": "markdown",
   "id": "58f8dccc",
   "metadata": {},
   "source": [
    "# 5절 파이썬 내장함수\n",
    "- import 하지 않고 바로 사용 가능한 함수\n",
    "- 키워드(if, while,..)처럼 간주되므로, 식별자(변수명, 함수명, 클래스명)로 사용하는 것을 피한다"
   ]
  },
  {
   "cell_type": "code",
   "execution_count": 2,
   "id": "9f7a58ee",
   "metadata": {},
   "outputs": [],
   "source": [
    "a = 10"
   ]
  },
  {
   "cell_type": "code",
   "execution_count": 3,
   "id": "33bb3c62",
   "metadata": {
    "collapsed": true
   },
   "outputs": [
    {
     "data": {
      "text/plain": [
       "{'__name__': '__main__',\n",
       " '__doc__': 'Automatically created module for IPython interactive environment',\n",
       " '__package__': None,\n",
       " '__loader__': None,\n",
       " '__spec__': None,\n",
       " '__builtin__': <module 'builtins' (built-in)>,\n",
       " '__builtins__': <module 'builtins' (built-in)>,\n",
       " '_ih': ['', 'globals() # 전역변수 리스트', 'a = 10', 'globals() # 전역변수 리스트'],\n",
       " '_oh': {1: {...}},\n",
       " '_dh': [WindowsPath('D:/ai/source/01_python')],\n",
       " 'In': ['', 'globals() # 전역변수 리스트', 'a = 10', 'globals() # 전역변수 리스트'],\n",
       " 'Out': {1: {...}},\n",
       " 'get_ipython': <bound method InteractiveShell.get_ipython of <ipykernel.zmqshell.ZMQInteractiveShell object at 0x000001A8ACD60220>>,\n",
       " 'exit': <IPython.core.autocall.ZMQExitAutocall at 0x1a8acd61ea0>,\n",
       " 'quit': <IPython.core.autocall.ZMQExitAutocall at 0x1a8acd61ea0>,\n",
       " 'open': <function io.open(file, mode='r', buffering=-1, encoding=None, errors=None, newline=None, closefd=True, opener=None)>,\n",
       " '_': {...},\n",
       " '__': '',\n",
       " '___': '',\n",
       " '_i': 'a = 10',\n",
       " '_ii': 'globals() # 전역변수 리스트',\n",
       " '_iii': '',\n",
       " '_i1': 'globals() # 전역변수 리스트',\n",
       " '_1': {...},\n",
       " '_i2': 'a = 10',\n",
       " 'a': 10,\n",
       " '_i3': 'globals() # 전역변수 리스트'}"
      ]
     },
     "execution_count": 3,
     "metadata": {},
     "output_type": "execute_result"
    }
   ],
   "source": [
    "globals() # 전역변수 리스트"
   ]
  },
  {
   "cell_type": "code",
   "execution_count": 6,
   "id": "40362f8d",
   "metadata": {},
   "outputs": [
    {
     "data": {
      "text/plain": [
       "False"
      ]
     },
     "execution_count": 6,
     "metadata": {},
     "output_type": "execute_result"
    }
   ],
   "source": [
    "all([True, True, True, False]) # 모든 요소가 다 True인지 여부"
   ]
  },
  {
   "cell_type": "markdown",
   "id": "090ff39e",
   "metadata": {},
   "source": [
    "# 6절 연습문제\n",
    "## 실습형"
   ]
  },
  {
   "cell_type": "code",
   "execution_count": 68,
   "id": "c4fb11d9",
   "metadata": {},
   "outputs": [
    {
     "name": "stdout",
     "output_type": "stream",
     "text": [
      "9223372036854775807 -9223372036854775807\n"
     ]
    },
    {
     "data": {
      "text/plain": [
       "{'최대값': 0, '최소값': -99.1}"
      ]
     },
     "execution_count": 68,
     "metadata": {},
     "output_type": "execute_result"
    }
   ],
   "source": [
    "# 실습형1.최대값 최소값을 리턴\n",
    "def get_max_min(data_list):\n",
    "    return max(data_list), min(data_list)\n",
    "\n",
    "get_max_min = lambda data_list : (max(data_list), min(data_list)) # 람다식으로 바꾸면 반드시 튜플로\n",
    "\n",
    "def get_max_min(data_list): # 메일받은 내용\n",
    "    return {\"최대값\": max(data_list), \"최소값\": min(data_list)}\n",
    "\n",
    "def get_max_min(data_list): # 약간 수정된 메일받은 내용    \n",
    "    # 최소값은 큰값으로, 최대값은 작은값으로 초기화\n",
    "    import sys\n",
    "    min_, max_ = sys.maxsize, -sys.maxsize\n",
    "    print(min_, max_)\n",
    "    for data in data_list:\n",
    "        if data==round(data):\n",
    "            if min_> data:\n",
    "                min_ = data\n",
    "            if max_ < data:\n",
    "                max_ = data\n",
    "    return {\"최대값\": max(data_list), \"최소값\": min(data_list)}\n",
    "\n",
    "get_max_min([-99.1,0,-3.9])"
   ]
  },
  {
   "cell_type": "code",
   "execution_count": 51,
   "id": "1cc15119",
   "metadata": {},
   "outputs": [
    {
     "name": "stdout",
     "output_type": "stream",
     "text": [
      "표준\n",
      "표준\n",
      "마른체형\n"
     ]
    },
    {
     "data": {
      "text/plain": [
       "(None, None, None)"
      ]
     },
     "execution_count": 51,
     "metadata": {},
     "output_type": "execute_result"
    }
   ],
   "source": [
    "# 실습형2. 체중과 키를 입력받아 BMI지수에 따른 비만도 상태 출력\n",
    "def getBMI(kg, m):\n",
    "    bmi = kg / (m*m)\n",
    "    if bmi<18.5:\n",
    "        print('마른체형')\n",
    "    elif 18.5 <= bmi < 25.0:\n",
    "        print('표준')\n",
    "    elif 25.0 <= bmi < 30.0:\n",
    "        print('비만')\n",
    "    else:\n",
    "        print('고도비만')\n",
    "\n",
    "# 메일받은 내용\n",
    "get_bmi = lambda w, h: \"저체중\" if bmi(w, h) < 18.5 else \"정상\" if bmi(w, h) < 25 else \"과체중\" if bmi(w, h) < 30 else \"비만\"\n",
    "        \n",
    "getBMI(70, 1.75), getBMI(50, 1.6), getBMI(48, 1.65)"
   ]
  },
  {
   "cell_type": "code",
   "execution_count": 7,
   "id": "3ffded36",
   "metadata": {},
   "outputs": [
    {
     "data": {
      "text/plain": [
       "{'넓이': 6.0, '둘레': 12.0}"
      ]
     },
     "execution_count": 7,
     "metadata": {},
     "output_type": "execute_result"
    }
   ],
   "source": [
    "# 실습형 3: 직각삼각형 w, h로 area, perimeter(넓이, 둘레)\n",
    "import math\n",
    "def get_trianle(w, h):\n",
    "    # 많은 친구들이 w,h를 매개변수로 안 받고 input으로 받았음\n",
    "    area = w * h * 0.5\n",
    "    # math.sqrt() : 제곱근\n",
    "    perimeter = w + h + math.sqrt(w*w + h*h)\n",
    "    # return area, perimeter\n",
    "    return {'넓이':area, '둘레':perimeter}\n",
    "\n",
    "def get_triangle(width, height): # 메일받은 내용\n",
    "    return {\"넓이\":width*height*0.5, \"둘레\":width+height+math.sqrt((width**2)+(height**2))}\n",
    "\n",
    "get_trianle(3, 4)"
   ]
  },
  {
   "cell_type": "code",
   "execution_count": 66,
   "id": "1a6bb7a3",
   "metadata": {},
   "outputs": [
    {
     "data": {
      "text/plain": [
       "33"
      ]
     },
     "execution_count": 66,
     "metadata": {},
     "output_type": "execute_result"
    }
   ],
   "source": [
    "# 실습형 4.fRom부터 end까지 모든 정수의 합 리턴 (변수명으로 from은 못 오고 frOm으로 함)\n",
    "def mysum(fRom, end):\n",
    "    sum = 0\n",
    "    for i in range(fRom, end+1):\n",
    "        sum += i\n",
    "    return sum\n",
    "\n",
    "def mysum(fRom, end): # 메일받은 내용\n",
    "    return sum(range(fRom, end+1))\n",
    "\n",
    "mysum = lambda fRom, end : sum(range(fRom, end+1))\n",
    "\n",
    "def mysum(fRom,end): # 메일받은 내용\n",
    "    large = abs(end - fRom)    \n",
    "    # 시작값과 끝 값을 짝지은 후 같은 값들의 묶음들의 갯수만큼 곱\n",
    "    # 단 정수들의 갯수가 홀수일 땐 중앙값을 찾아 추가로 더함\n",
    "     # ex1 1~4 (1+4)+(2+3)\n",
    "    if large%2:\n",
    "        sum_ = (fRom + end) * ((large // 2)+1)\n",
    "    # ex1 1~5 (1+5)+(2+4)+(3)\n",
    "    else:\n",
    "         sum_ = (fRom + end) * (large // 2)+((fRom + end)//2)            \n",
    "    return sum_\n",
    "\n",
    "mysum(10, 12) # 10+11+12의 결과"
   ]
  },
  {
   "cell_type": "code",
   "execution_count": 65,
   "id": "680d53a6",
   "metadata": {},
   "outputs": [
    {
     "name": "stdout",
     "output_type": "stream",
     "text": [
      "['Seo', 'Dea', 'Kwa', 'Jej']\n"
     ]
    }
   ],
   "source": [
    "# 실습형 5. 문자열 리스트가 입력될 때 첫 세글자로만 구성된 리스트 return\n",
    "test = ['Seoul', 'Deagu', 'Kwangju', 'Jeju']\n",
    "def get_abbrs(lst):\n",
    "    return [x[:3] for x in lst]\n",
    "\n",
    "def get_addrs(lst): # 많은 메일을 받은 내용 : 위의 리스트컴프리헨션 추천\n",
    "    answer = []\n",
    "    for l in lst:\n",
    "        answer.append(l[:3])\n",
    "    return answer\n",
    "\n",
    "def get_abbrs(lst): # 메일 받은 내용(약간 수정)\n",
    "    return [\"{:.3}\".format(city) for city in lst]\n",
    "\n",
    "print(get_abbrs(test)) # 일반 함수 이용\n",
    "print((lambda l : [x[:3] for x in l])(test)) #람다식 이용"
   ]
  },
  {
   "cell_type": "code",
   "execution_count": 15,
   "id": "938dc6cc",
   "metadata": {},
   "outputs": [
    {
     "data": {
      "text/plain": [
       "8"
      ]
     },
     "execution_count": 15,
     "metadata": {},
     "output_type": "execute_result"
    }
   ],
   "source": [
    "# 실습형 6 함수를 람다식으로 변경\n",
    "f = lambda x, y : x**y\n",
    "f(2,3)"
   ]
  },
  {
   "cell_type": "code",
   "execution_count": 19,
   "id": "e81a3d7c",
   "metadata": {},
   "outputs": [
    {
     "data": {
      "text/plain": [
       "[1, 4, 9, 16, 25]"
      ]
     },
     "execution_count": 19,
     "metadata": {},
     "output_type": "execute_result"
    }
   ],
   "source": [
    "# 실습형 7. 람다함수와 map함수 이용\n",
    "ex = [1,2,3,4,5]\n",
    "list(map(lambda x : x**2, ex))"
   ]
  },
  {
   "cell_type": "code",
   "execution_count": 20,
   "id": "5e94d6b1",
   "metadata": {},
   "outputs": [
    {
     "data": {
      "text/plain": [
       "[1, 4, 9, 16, 25]"
      ]
     },
     "execution_count": 20,
     "metadata": {},
     "output_type": "execute_result"
    }
   ],
   "source": [
    "# 실습형 7. 리스트컴프리헨션 이용\n",
    "[x**2 for x in ex]"
   ]
  },
  {
   "cell_type": "code",
   "execution_count": 23,
   "id": "1003224f",
   "metadata": {},
   "outputs": [
    {
     "name": "stdout",
     "output_type": "stream",
     "text": [
      "1 2 3\n",
      "[1, 2, 3]\n"
     ]
    }
   ],
   "source": [
    "# 실습형 8.\n",
    "a = [1,2,3]\n",
    "print(*a)\n",
    "print(a)\n",
    "answer = '''\n",
    "별표(asterisk, *)는 함수의 인자(argument)로 사용될 때,\n",
    "시퀀스형 자료형의 각각의 값(element)을 하나의 값(element)으로\n",
    "넣어주게 된다(언패킹)\n",
    "그러므로 print(*a)의 의미는 사실 print(a[0], a[1], a[2])으로\n",
    "나타나게 된다\n",
    "'''"
   ]
  },
  {
   "cell_type": "code",
   "execution_count": 24,
   "id": "db488b6a",
   "metadata": {},
   "outputs": [
    {
     "data": {
      "text/plain": [
       "'2019-9-6'"
      ]
     },
     "execution_count": 24,
     "metadata": {},
     "output_type": "execute_result"
    }
   ],
   "source": [
    "# 실습형 9.\n",
    "# 실습형 9.\n",
    "date_info = {'year':'2019', 'month':9, 'day':6}\n",
    "result = \"{year}-{month}-{day}\".format(**date_info)\n",
    "# result = \"{year}-{month}-{day}\".format(year='2019', month=9, day=6)\n",
    "# '2024-09-06을 원하면'\n",
    "# result = \"{year}-{month:02}-{day:02}\".format(**date_info)\n",
    "result"
   ]
  },
  {
   "cell_type": "code",
   "execution_count": 28,
   "id": "fef50d70",
   "metadata": {},
   "outputs": [
    {
     "name": "stdout",
     "output_type": "stream",
     "text": [
      "True\n",
      "False\n"
     ]
    }
   ],
   "source": [
    "# 실습형 10\n",
    "# 입력받은 n개의 벡터(리스트, 튜플, 셋, 딕셔너리)의 크기가 같은지를 return하는 함수\n",
    "def vector_size_check(*vector_var):\n",
    "    # print(vector_var)\n",
    "    result = set()\n",
    "    for vector in vector_var:\n",
    "        result.add(len(vector)) # len(vector_var)이 아니고 vector 하나하나의 len\n",
    "    return len(result)==1\n",
    "\n",
    "def vector_size_check(*vector_var):\n",
    "    return len(set([len(vector) for vector in vector_var]))==1\n",
    "\n",
    "def vector_size_check(*vector_var): # 메일 받은 내용\n",
    "    return True if len(set([len(vec) for vec in vector_var])) == 1 else False\n",
    "\n",
    "print(vector_size_check([1,2], {10,20}, {'name':'홍', 'age':30}, (1,2)))\n",
    "print(vector_size_check([1,2], {10,20}, {'name':'홍', 'age':30}, (1,)))"
   ]
  },
  {
   "cell_type": "code",
   "execution_count": 30,
   "id": "e7a30ca0",
   "metadata": {},
   "outputs": [
    {
     "data": {
      "text/plain": [
       "[10, 20, 30, 40]"
      ]
     },
     "execution_count": 30,
     "metadata": {},
     "output_type": "execute_result"
    }
   ],
   "source": [
    "# 실습형 11\n",
    "def scalar_vector_product(num, vector):\n",
    "    return [num*vec for vec in vector]\n",
    "\n",
    "def scalar_vector_product(x, lst): # 메일 받은 내용\n",
    "    return list(map(lambda num : num*x, lst)) \n",
    "\n",
    "scalar_vector_product = lambda num, vector : [num*v for v in vector]\n",
    "\n",
    "scalar_vector_product(10, [1,2,3,4])"
   ]
  },
  {
   "cell_type": "markdown",
   "id": "0f17591e",
   "metadata": {},
   "source": [
    "## 서술형"
   ]
  },
  {
   "cell_type": "code",
   "execution_count": 31,
   "id": "15dc90d8",
   "metadata": {},
   "outputs": [
    {
     "data": {
      "text/plain": [
       "[(4, 'a'), (3, 'b'), (2, 'c'), (1, 'd')]"
      ]
     },
     "execution_count": 31,
     "metadata": {},
     "output_type": "execute_result"
    }
   ],
   "source": [
    "# 서술형 1 (2)\n",
    "pairs = [(1, 'd'),(2, 'c'),(3,'b'),(4,'a')]\n",
    "pairs.sort(key=lambda pair : pair[1])\n",
    "pairs"
   ]
  },
  {
   "cell_type": "code",
   "execution_count": 70,
   "id": "2b2eb2aa",
   "metadata": {},
   "outputs": [
    {
     "name": "stdout",
     "output_type": "stream",
     "text": [
      "6(func함수에서 출력) 12(sub함수에서 출력) 6(func함수에서 출력) 13(sub함수에서 출력) "
     ]
    }
   ],
   "source": [
    "# 서술형 2. \n",
    "a = 10 # 전역변수\n",
    "def sub():\n",
    "    global a # 문제해결을 위한 코드\n",
    "    a += 1 # a= a+1\n",
    "    print(a, end='(sub함수에서 출력) ')\n",
    "def func():\n",
    "    for i in range(2):\n",
    "        a = 5 # 지역변수\n",
    "        a += 1\n",
    "        print(a, end='(func함수에서 출력) ')\n",
    "        sub()\n",
    "a += 1\n",
    "func()\n",
    "answer ='''\n",
    "오류가 발생하는 라인 : 원래 3줄(a += 1부분)\n",
    "a = a+1 : a에 값을 할당하면 지역변수가 됨\n",
    "          지역변수 a+1를 계산할 수 없음\n",
    "문제해결을 위해 : 에러나는 줄 앞에 global a 선언\n",
    "'''"
   ]
  },
  {
   "cell_type": "code",
   "execution_count": 33,
   "id": "93995fa5",
   "metadata": {},
   "outputs": [
    {
     "name": "stdout",
     "output_type": "stream",
     "text": [
      "100\n"
     ]
    }
   ],
   "source": [
    "# 서술형 3. 실행결과\n",
    "var = 100\n",
    "def func(var): # 매개변수로 들어온 변수는 지역변수\n",
    "    var = 200  # 그러므로 var는 전역변수가 아니고 지역변수\n",
    "func(var)\n",
    "print(var)"
   ]
  },
  {
   "cell_type": "code",
   "execution_count": 34,
   "id": "6501a76d",
   "metadata": {},
   "outputs": [
    {
     "data": {
      "text/plain": [
       "5"
      ]
     },
     "execution_count": 34,
     "metadata": {},
     "output_type": "execute_result"
    }
   ],
   "source": [
    "# 서술형 4. 실행결과\n",
    "def my_func(func, *args):\n",
    "    return func(*args)\n",
    "import numpy as np\n",
    "my_func(np.add, 2, 3)"
   ]
  },
  {
   "cell_type": "code",
   "execution_count": 71,
   "id": "fec19299",
   "metadata": {},
   "outputs": [
    {
     "data": {
      "text/plain": [
       "5"
      ]
     },
     "execution_count": 71,
     "metadata": {},
     "output_type": "execute_result"
    }
   ],
   "source": [
    "import numpy as np\n",
    "np.add(2,3)"
   ]
  },
  {
   "cell_type": "code",
   "execution_count": 36,
   "id": "35f45015",
   "metadata": {},
   "outputs": [
    {
     "data": {
      "text/plain": [
       "9"
      ]
     },
     "execution_count": 36,
     "metadata": {},
     "output_type": "execute_result"
    }
   ],
   "source": [
    "# 서술형 5 실행결과\n",
    "def my_func(func, *args):\n",
    "    return func(*args)\n",
    "my_func(lambda a, b : a**b, 3, 2)  "
   ]
  },
  {
   "cell_type": "code",
   "execution_count": 37,
   "id": "71842d4a",
   "metadata": {},
   "outputs": [],
   "source": [
    "# 서술형 6 (1) 함수의 오버로딩 불가"
   ]
  },
  {
   "cell_type": "code",
   "execution_count": 38,
   "id": "277f47a8",
   "metadata": {},
   "outputs": [
    {
     "name": "stdout",
     "output_type": "stream",
     "text": [
      "(1) [10]\n",
      "(2) [10, 20]\n",
      "(3) [30]\n"
     ]
    }
   ],
   "source": [
    "# 서술형 7 (4) func([], a=40) a는 순서인수라서 무조건 첫 매개변수는 a로\n",
    "list_ = []\n",
    "def func(a, L=None):\n",
    "    if L is None:\n",
    "        L = []\n",
    "    L.append(a)\n",
    "    return L\n",
    "print('(1)',func(10, list_))\n",
    "print('(2)',func(20, L=list_))\n",
    "print('(3)',func(a=30))"
   ]
  },
  {
   "cell_type": "code",
   "execution_count": null,
   "id": "ebc04a5d",
   "metadata": {},
   "outputs": [],
   "source": [
    "# 서술형 8. lambda"
   ]
  }
 ],
 "metadata": {
  "kernelspec": {
   "display_name": "Python 3 (ipykernel)",
   "language": "python",
   "name": "python3"
  },
  "language_info": {
   "codemirror_mode": {
    "name": "ipython",
    "version": 3
   },
   "file_extension": ".py",
   "mimetype": "text/x-python",
   "name": "python",
   "nbconvert_exporter": "python",
   "pygments_lexer": "ipython3",
   "version": "3.10.9"
  },
  "toc": {
   "base_numbering": 1,
   "nav_menu": {},
   "number_sections": false,
   "sideBar": true,
   "skip_h1_title": false,
   "title_cell": "Table of Contents",
   "title_sidebar": "Contents",
   "toc_cell": false,
   "toc_position": {
    "height": "calc(100% - 180px)",
    "left": "10px",
    "top": "150px",
    "width": "165px"
   },
   "toc_section_display": true,
   "toc_window_display": false
  }
 },
 "nbformat": 4,
 "nbformat_minor": 5
}
