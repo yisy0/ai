{
 "cells": [
  {
   "cell_type": "code",
   "execution_count": 1,
   "id": "b09029e6",
   "metadata": {},
   "outputs": [
    {
     "data": {
      "text/html": [
       "\n",
       "<style>\n",
       "div.container{width:100% !important;}\n",
       "div.cell.code_cell.rendered{width:100%;}\n",
       "div.input_prompt{padding:0px;}\n",
       "div.CodeMirror {font-family:Consolas; font-size:22pt;}\n",
       "div.text_cell_render.rendered_html{font-size:18pt;}\n",
       "div.output {font-size:22pt; font-weight:bold;}\n",
       "div.input {font-family:Consolas; font-size:22pt;}\n",
       "div.prompt {min-width:70px;}\n",
       "div#toc-wrapper{padding-top:120px;}\n",
       "div.text_cell_render ul li{font-size:22pt;padding:5px;}\n",
       "table.dataframe{font-size:22px;}\n",
       "</style>\n"
      ],
      "text/plain": [
       "<IPython.core.display.HTML object>"
      ]
     },
     "metadata": {},
     "output_type": "display_data"
    }
   ],
   "source": [
    "from IPython.display import display, HTML\n",
    "display(HTML(\"\"\"\n",
    "<style>\n",
    "div.container{width:100% !important;}\n",
    "div.cell.code_cell.rendered{width:100%;}\n",
    "div.input_prompt{padding:0px;}\n",
    "div.CodeMirror {font-family:Consolas; font-size:22pt;}\n",
    "div.text_cell_render.rendered_html{font-size:18pt;}\n",
    "div.output {font-size:22pt; font-weight:bold;}\n",
    "div.input {font-family:Consolas; font-size:22pt;}\n",
    "div.prompt {min-width:70px;}\n",
    "div#toc-wrapper{padding-top:120px;}\n",
    "div.text_cell_render ul li{font-size:22pt;padding:5px;}\n",
    "table.dataframe{font-size:22px;}\n",
    "</style>\n",
    "\"\"\"))"
   ]
  },
  {
   "cell_type": "markdown",
   "id": "9f46d15b",
   "metadata": {},
   "source": [
    "<b><font size=\"7\" color=\"red\">ch07. 객체지향 프로그래밍</font></b>"
   ]
  },
  {
   "cell_type": "code",
   "execution_count": 8,
   "id": "15a76acb",
   "metadata": {},
   "outputs": [
    {
     "name": "stdout",
     "output_type": "stream",
     "text": [
      "홍길동 남자\n",
      "{'name': '홍낄뚱', 'gender': '남자', 'academy': 'MBC'}\n",
      "{'name': '김길숙', 'gender': '여자', 'academy': 'MBC'}\n"
     ]
    }
   ],
   "source": [
    "person1 = {'name':'홍길동', 'gender':'남자', 'academy':'MBC'}\n",
    "person2 = {'name':'김길숙', 'gender':'여자', 'academy':'MBC'}\n",
    "print(person1['name'], person1.get('gender'))\n",
    "person1['name'] = \"홍낄뚱\"\n",
    "print(person1)\n",
    "print(person2)\n",
    "# person1.my_function()"
   ]
  },
  {
   "cell_type": "code",
   "execution_count": 21,
   "id": "ba99df6d",
   "metadata": {},
   "outputs": [
    {
     "name": "stdout",
     "output_type": "stream",
     "text": [
      "MBC의 김길숙님은 여자입니다\n",
      "MBC의 홍길동님은 남자입니다\n",
      "MBC의 홍홍홍님은 여자입니다\n",
      "MBC의 홍길동님은 남자입니다\n",
      "<__main__.Person object at 0x0000022595477130>\n"
     ]
    }
   ],
   "source": [
    "class Person:\n",
    "    academy = 'MBC' # 클래스변수\n",
    "    def __init__(self, name, gender): # 생성자함수\n",
    "        self.name = name\n",
    "        self.gender = gender\n",
    "    def print_info(self):\n",
    "        print(\"{}의 {}님은 {}입니다\".format(self.academy, self.name, self.gender))\n",
    "        \n",
    "p1 = Person(\"김길숙\", \"여자\") # 객체변수(인스턴스) 생성\n",
    "p1.print_info()\n",
    "p2 = Person(\"홍길동\", \"남자\")\n",
    "p2.print_info()\n",
    "p1.name = \"홍홍홍\"\n",
    "p1.print_info()\n",
    "p2.print_info()\n",
    "print(p1)"
   ]
  },
  {
   "cell_type": "code",
   "execution_count": 15,
   "id": "d1340ae3",
   "metadata": {},
   "outputs": [
    {
     "name": "stdout",
     "output_type": "stream",
     "text": [
      "SBS의 홍길동님은 남자입니다\n",
      "MBC의 홍홍홍님은 여자입니다\n"
     ]
    }
   ],
   "source": [
    "p2.academy = 'SBS'\n",
    "p2.print_info()\n",
    "p1.print_info()"
   ]
  },
  {
   "cell_type": "markdown",
   "id": "4a0eee5c",
   "metadata": {},
   "source": [
    "# 1절 객체와 클래스\n",
    "```\n",
    "class 클래스명(상속받을클래스명):\n",
    "    \"독스트링\"\n",
    "    변수나 함수들을 선언\n",
    "```"
   ]
  },
  {
   "cell_type": "code",
   "execution_count": 22,
   "id": "cd4f86bf",
   "metadata": {},
   "outputs": [
    {
     "data": {
      "text/plain": [
       "__main__.Person"
      ]
     },
     "execution_count": 22,
     "metadata": {},
     "output_type": "execute_result"
    }
   ],
   "source": [
    "class Person:\n",
    "    \"Person 클래스는 어쩌구 저쩌구 여러줄 설명하는 독스트링\"\n",
    "    pass\n",
    "#     def __init__(self):\n",
    "#         pass\n",
    "p1 = Person()\n",
    "type(p1)"
   ]
  },
  {
   "cell_type": "code",
   "execution_count": 24,
   "id": "7488e8fd",
   "metadata": {},
   "outputs": [
    {
     "name": "stdout",
     "output_type": "stream",
     "text": [
      "<__main__.Person object at 0x0000022595474340>\n",
      "<__main__.Person object at 0x0000022595474340>\n"
     ]
    }
   ],
   "source": [
    "print(p1)\n",
    "print(p1.__str__())"
   ]
  },
  {
   "cell_type": "code",
   "execution_count": 25,
   "id": "4976976a",
   "metadata": {},
   "outputs": [
    {
     "data": {
      "text/plain": [
       "True"
      ]
     },
     "execution_count": 25,
     "metadata": {},
     "output_type": "execute_result"
    }
   ],
   "source": [
    "isinstance(p1, Person)"
   ]
  },
  {
   "cell_type": "code",
   "execution_count": 26,
   "id": "302d5f9b",
   "metadata": {},
   "outputs": [
    {
     "data": {
      "text/plain": [
       "'Person 클래스는 어쩌구 저쩌구 여러줄 설명하는 독스트링'"
      ]
     },
     "execution_count": 26,
     "metadata": {},
     "output_type": "execute_result"
    }
   ],
   "source": [
    "p1.__doc__"
   ]
  },
  {
   "cell_type": "code",
   "execution_count": null,
   "id": "84732e53",
   "metadata": {},
   "outputs": [],
   "source": []
  },
  {
   "cell_type": "code",
   "execution_count": null,
   "id": "dd786c15",
   "metadata": {},
   "outputs": [],
   "source": []
  },
  {
   "cell_type": "code",
   "execution_count": null,
   "id": "0b40e709",
   "metadata": {},
   "outputs": [],
   "source": []
  },
  {
   "cell_type": "code",
   "execution_count": null,
   "id": "d8d2d53a",
   "metadata": {},
   "outputs": [],
   "source": []
  }
 ],
 "metadata": {
  "kernelspec": {
   "display_name": "Python 3 (ipykernel)",
   "language": "python",
   "name": "python3"
  },
  "language_info": {
   "codemirror_mode": {
    "name": "ipython",
    "version": 3
   },
   "file_extension": ".py",
   "mimetype": "text/x-python",
   "name": "python",
   "nbconvert_exporter": "python",
   "pygments_lexer": "ipython3",
   "version": "3.10.9"
  },
  "toc": {
   "base_numbering": 1,
   "nav_menu": {},
   "number_sections": false,
   "sideBar": true,
   "skip_h1_title": false,
   "title_cell": "Table of Contents",
   "title_sidebar": "Contents",
   "toc_cell": false,
   "toc_position": {
    "height": "calc(100% - 180px)",
    "left": "10px",
    "top": "150px",
    "width": "165px"
   },
   "toc_section_display": true,
   "toc_window_display": true
  }
 },
 "nbformat": 4,
 "nbformat_minor": 5
}
