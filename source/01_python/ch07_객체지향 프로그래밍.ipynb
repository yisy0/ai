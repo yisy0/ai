{
 "cells": [
  {
   "cell_type": "code",
   "execution_count": 1,
   "id": "2a7a1d71",
   "metadata": {},
   "outputs": [
    {
     "data": {
      "text/html": [
       "\n",
       "<style>\n",
       "div.container{width:100% !important;}\n",
       "div.cell.code_cell.rendered{width:100%;}\n",
       "div.input_prompt{padding:0px;}\n",
       "div.CodeMirror {font-family:Consolas; font-size:22pt;}\n",
       "div.text_cell_render.rendered_html{font-size:18pt;}\n",
       "div.output {font-size:22pt; font-weight:bold;}\n",
       "div.input {font-family:Consolas; font-size:22pt;}\n",
       "div.prompt {min-width:70px;}\n",
       "div#toc-wrapper{padding-top:120px;}\n",
       "div.text_cell_render ul li{font-size:22pt;padding:5px;}\n",
       "table.dataframe{font-size:22px;}\n",
       "</style>\n"
      ],
      "text/plain": [
       "<IPython.core.display.HTML object>"
      ]
     },
     "metadata": {},
     "output_type": "display_data"
    }
   ],
   "source": [
    "from IPython.display import display, HTML\n",
    "display(HTML(\"\"\"\n",
    "<style>\n",
    "div.container{width:100% !important;}\n",
    "div.cell.code_cell.rendered{width:100%;}\n",
    "div.input_prompt{padding:0px;}\n",
    "div.CodeMirror {font-family:Consolas; font-size:22pt;}\n",
    "div.text_cell_render.rendered_html{font-size:18pt;}\n",
    "div.output {font-size:22pt; font-weight:bold;}\n",
    "div.input {font-family:Consolas; font-size:22pt;}\n",
    "div.prompt {min-width:70px;}\n",
    "div#toc-wrapper{padding-top:120px;}\n",
    "div.text_cell_render ul li{font-size:22pt;padding:5px;}\n",
    "table.dataframe{font-size:22px;}\n",
    "</style>\n",
    "\"\"\"))"
   ]
  },
  {
   "cell_type": "markdown",
   "id": "89447727",
   "metadata": {},
   "source": [
    "<b><font size=\"7\" color=\"red\">ch07. 객체지향 프로그래밍</font></b>"
   ]
  },
  {
   "cell_type": "code",
   "execution_count": 8,
   "id": "1b322968",
   "metadata": {},
   "outputs": [
    {
     "name": "stdout",
     "output_type": "stream",
     "text": [
      "홍길동 남자\n",
      "{'name': '홍낄뚱', 'gender': '남자', 'academy': 'MBC'}\n",
      "{'name': '김길숙', 'gender': '여자', 'academy': 'MBC'}\n"
     ]
    }
   ],
   "source": [
    "person1 = {'name':'홍길동', 'gender':'남자', 'academy':'MBC'}\n",
    "person2 = {'name':'김길숙', 'gender':'여자', 'academy':'MBC'}\n",
    "print(person1['name'], person1.get('gender'))\n",
    "person1['name'] = \"홍낄뚱\"\n",
    "print(person1)\n",
    "print(person2)\n",
    "# person1.my_function()"
   ]
  },
  {
   "cell_type": "code",
   "execution_count": 21,
   "id": "a2cbecc2",
   "metadata": {},
   "outputs": [
    {
     "name": "stdout",
     "output_type": "stream",
     "text": [
      "MBC의 김길숙님은 여자입니다\n",
      "MBC의 홍길동님은 남자입니다\n",
      "MBC의 홍홍홍님은 여자입니다\n",
      "MBC의 홍길동님은 남자입니다\n",
      "<__main__.Person object at 0x0000022595477130>\n"
     ]
    }
   ],
   "source": [
    "class Person:\n",
    "    academy = 'MBC' # 클래스변수\n",
    "    def __init__(self, name, gender): # 생성자함수\n",
    "        self.name = name\n",
    "        self.gender = gender\n",
    "    def print_info(self):\n",
    "        print(\"{}의 {}님은 {}입니다\".format(self.academy, self.name, self.gender))\n",
    "        \n",
    "p1 = Person(\"김길숙\", \"여자\") # 객체변수(인스턴스) 생성\n",
    "p1.print_info()\n",
    "p2 = Person(\"홍길동\", \"남자\")\n",
    "p2.print_info()\n",
    "p1.name = \"홍홍홍\"\n",
    "p1.print_info()\n",
    "p2.print_info()\n",
    "print(p1)"
   ]
  },
  {
   "cell_type": "code",
   "execution_count": 15,
   "id": "671fab3b",
   "metadata": {},
   "outputs": [
    {
     "name": "stdout",
     "output_type": "stream",
     "text": [
      "SBS의 홍길동님은 남자입니다\n",
      "MBC의 홍홍홍님은 여자입니다\n"
     ]
    }
   ],
   "source": [
    "p2.academy = 'SBS'\n",
    "p2.print_info()\n",
    "p1.print_info()"
   ]
  },
  {
   "cell_type": "markdown",
   "id": "97d2cbf4",
   "metadata": {},
   "source": [
    "# 1절 객체와 클래스\n",
    "```\n",
    "class 클래스명(상속받을클래스명):\n",
    "    \"독스트링\"\n",
    "    변수나 함수들을 선언\n",
    "```"
   ]
  },
  {
   "cell_type": "code",
   "execution_count": 22,
   "id": "0bd4672f",
   "metadata": {},
   "outputs": [
    {
     "data": {
      "text/plain": [
       "__main__.Person"
      ]
     },
     "execution_count": 22,
     "metadata": {},
     "output_type": "execute_result"
    }
   ],
   "source": [
    "class Person:\n",
    "    \"Person 클래스는 어쩌구 저쩌구 여러줄 설명하는 독스트링\"\n",
    "    pass\n",
    "#     def __init__(self):\n",
    "#         pass\n",
    "p1 = Person()\n",
    "type(p1)"
   ]
  },
  {
   "cell_type": "code",
   "execution_count": 24,
   "id": "3b894d05",
   "metadata": {},
   "outputs": [
    {
     "name": "stdout",
     "output_type": "stream",
     "text": [
      "<__main__.Person object at 0x0000022595474340>\n",
      "<__main__.Person object at 0x0000022595474340>\n"
     ]
    }
   ],
   "source": [
    "print(p1)\n",
    "print(p1.__str__())"
   ]
  },
  {
   "cell_type": "code",
   "execution_count": 25,
   "id": "a927831b",
   "metadata": {},
   "outputs": [
    {
     "data": {
      "text/plain": [
       "True"
      ]
     },
     "execution_count": 25,
     "metadata": {},
     "output_type": "execute_result"
    }
   ],
   "source": [
    "isinstance(p1, Person)"
   ]
  },
  {
   "cell_type": "code",
   "execution_count": 26,
   "id": "e76db92d",
   "metadata": {},
   "outputs": [
    {
     "data": {
      "text/plain": [
       "'Person 클래스는 어쩌구 저쩌구 여러줄 설명하는 독스트링'"
      ]
     },
     "execution_count": 26,
     "metadata": {},
     "output_type": "execute_result"
    }
   ],
   "source": [
    "p1.__doc__"
   ]
  },
  {
   "cell_type": "markdown",
   "id": "9fb958bd",
   "metadata": {},
   "source": [
    "# 2절 생성자(`__init__()`)와 소멸자(`__del__()`)\n",
    "\n",
    "- 생성자 : __init__(self, 매개변수1, [매개변수2..]) - 객체가 생성될 때 자동 실행\n",
    "          객체 생성시 필요한 코드(인스턴스 변수 생성과 초기화)를 포함한다\n",
    "- 소멸자 : __del__(self) - 객체가 소멸될 때 자동 실행\n",
    "          객체 소멸시 필요한 코드를 포함\n",
    "          인스턴스(객체)의 레퍼런스 카운트가 0이 될 때 실행"
   ]
  },
  {
   "cell_type": "code",
   "execution_count": 1,
   "id": "164824e5",
   "metadata": {},
   "outputs": [],
   "source": [
    "class Person:\n",
    "    def __init__(self, name, gender):\n",
    "        self.name = name # 인스턴스 변수를 초기화\n",
    "        self.gender = gender\n",
    "        print(\"Person형 객체를 생성\")\n",
    "    def __del__(self):\n",
    "        print(\"Person형 객체 소멸\")\n",
    "    def print_info(self):\n",
    "        print(\"{}님은 {}입니다\".format(self.name, self.gender))\n",
    "    def __str__(self): # 오버라이딩(함수의 재정의)\n",
    "        return \"{}님은 {}입니다\".format(self.name, self.gender)"
   ]
  },
  {
   "cell_type": "code",
   "execution_count": 2,
   "id": "9b306fa3",
   "metadata": {},
   "outputs": [
    {
     "name": "stdout",
     "output_type": "stream",
     "text": [
      "Person형 객체를 생성\n"
     ]
    }
   ],
   "source": [
    "p1 = Person(\"신사임당\", \"여자\")"
   ]
  },
  {
   "cell_type": "code",
   "execution_count": 3,
   "id": "988c4237",
   "metadata": {},
   "outputs": [
    {
     "name": "stdout",
     "output_type": "stream",
     "text": [
      "신사임당님은 여자입니다\n"
     ]
    }
   ],
   "source": [
    "p1.print_info()"
   ]
  },
  {
   "cell_type": "code",
   "execution_count": 4,
   "id": "7c686393",
   "metadata": {},
   "outputs": [
    {
     "name": "stdout",
     "output_type": "stream",
     "text": [
      "신사임당님은 여자입니다\n",
      "신사임당님은 여자입니다\n"
     ]
    }
   ],
   "source": [
    "print(p1)\n",
    "print(p1.__str__())"
   ]
  },
  {
   "cell_type": "code",
   "execution_count": 5,
   "id": "edd10f75",
   "metadata": {},
   "outputs": [
    {
     "data": {
      "text/plain": [
       "(__main__.Person, True)"
      ]
     },
     "execution_count": 5,
     "metadata": {},
     "output_type": "execute_result"
    }
   ],
   "source": [
    "type(p1), isinstance(p1, Person)"
   ]
  },
  {
   "cell_type": "code",
   "execution_count": 6,
   "id": "b0058169",
   "metadata": {},
   "outputs": [
    {
     "name": "stdout",
     "output_type": "stream",
     "text": [
      "Person형 객체 소멸\n"
     ]
    }
   ],
   "source": [
    "del p1"
   ]
  },
  {
   "cell_type": "code",
   "execution_count": 7,
   "id": "3a1ab43d",
   "metadata": {},
   "outputs": [
    {
     "name": "stdout",
     "output_type": "stream",
     "text": [
      "Person형 객체를 생성\n"
     ]
    }
   ],
   "source": [
    "p2 = Person(\"홍길동\", \"남자\")"
   ]
  },
  {
   "cell_type": "code",
   "execution_count": 8,
   "id": "2c6e33ca",
   "metadata": {},
   "outputs": [],
   "source": [
    "p3 = p2"
   ]
  },
  {
   "cell_type": "code",
   "execution_count": 9,
   "id": "32f56d74",
   "metadata": {},
   "outputs": [],
   "source": [
    "del p2"
   ]
  },
  {
   "cell_type": "code",
   "execution_count": 10,
   "id": "c126bb54",
   "metadata": {},
   "outputs": [
    {
     "name": "stdout",
     "output_type": "stream",
     "text": [
      "Person형 객체 소멸\n"
     ]
    }
   ],
   "source": [
    "del p3"
   ]
  },
  {
   "cell_type": "markdown",
   "id": "8987c43d",
   "metadata": {},
   "source": [
    "- **오버라이딩**(함수의 재정의)\n",
    "- 파이썬은 **오버로딩**(함수의 중복정의) 불가\n",
    "<!-- - 생성자함수 **오버로딩**불가 -->"
   ]
  },
  {
   "cell_type": "code",
   "execution_count": 19,
   "id": "eb64d850",
   "metadata": {},
   "outputs": [
    {
     "ename": "SyntaxError",
     "evalue": "non-default argument follows default argument (1264032751.py, line 3)",
     "output_type": "error",
     "traceback": [
      "\u001b[1;36m  Cell \u001b[1;32mIn[19], line 3\u001b[1;36m\u001b[0m\n\u001b[1;33m    def __init__(self, name=\"홍길동\", gender):\u001b[0m\n\u001b[1;37m                                   ^\u001b[0m\n\u001b[1;31mSyntaxError\u001b[0m\u001b[1;31m:\u001b[0m non-default argument follows default argument\n"
     ]
    }
   ],
   "source": [
    "class Person:\n",
    "    # 생성자함수의 오버로딩 불가. 대신 기본값을 갖는 매개변수 이용\n",
    "    def __init__(self, name=\"홍길동\", gender=\"남자\"):\n",
    "        self.name = name # 인스턴스 변수를 초기화\n",
    "        self.gender = gender\n",
    "        print(\"Person형 객체를 생성\")\n",
    "    def print_info(self):\n",
    "        print(\"{}님은 {}입니다\".format(self.name, self.gender))\n",
    "    def __str__(self): # 오버라이딩(함수의 재정의)\n",
    "        return \"{}님은 {}입니다\".format(self.name, self.gender)"
   ]
  },
  {
   "cell_type": "code",
   "execution_count": 18,
   "id": "d02cda0e",
   "metadata": {},
   "outputs": [
    {
     "name": "stdout",
     "output_type": "stream",
     "text": [
      "Person형 객체를 생성\n",
      "Person형 객체를 생성\n",
      "Person형 객체를 생성\n",
      "p1= 홍길동님은 남자입니다\n",
      "p2= 홍길동님은 남자입니다\n",
      "p3= 강감찬님은 남자입니다\n"
     ]
    }
   ],
   "source": [
    "p1 = Person(\"홍길동\", \"남자\")\n",
    "p2 = Person(gender=\"남자\", name=\"홍길동\")\n",
    "p3 = Person(\"강감찬\")\n",
    "print('p1=', p1)\n",
    "print('p2=', p2)\n",
    "print('p3=', p3)"
   ]
  },
  {
   "cell_type": "code",
   "execution_count": null,
   "id": "5a713358",
   "metadata": {},
   "outputs": [],
   "source": []
  },
  {
   "cell_type": "code",
   "execution_count": null,
   "id": "43930fd4",
   "metadata": {},
   "outputs": [],
   "source": []
  },
  {
   "cell_type": "code",
   "execution_count": null,
   "id": "c1e098a9",
   "metadata": {},
   "outputs": [],
   "source": []
  },
  {
   "cell_type": "code",
   "execution_count": null,
   "id": "052cd35b",
   "metadata": {},
   "outputs": [],
   "source": []
  },
  {
   "cell_type": "code",
   "execution_count": null,
   "id": "e54a4c83",
   "metadata": {},
   "outputs": [],
   "source": []
  },
  {
   "cell_type": "code",
   "execution_count": null,
   "id": "1355ffea",
   "metadata": {},
   "outputs": [],
   "source": []
  }
 ],
 "metadata": {
  "kernelspec": {
   "display_name": "Python 3 (ipykernel)",
   "language": "python",
   "name": "python3"
  },
  "language_info": {
   "codemirror_mode": {
    "name": "ipython",
    "version": 3
   },
   "file_extension": ".py",
   "mimetype": "text/x-python",
   "name": "python",
   "nbconvert_exporter": "python",
   "pygments_lexer": "ipython3",
   "version": "3.10.9"
  },
  "toc": {
   "base_numbering": 1,
   "nav_menu": {},
   "number_sections": false,
   "sideBar": true,
   "skip_h1_title": false,
   "title_cell": "Table of Contents",
   "title_sidebar": "Contents",
   "toc_cell": false,
   "toc_position": {
    "height": "calc(100% - 180px)",
    "left": "10px",
    "top": "150px",
    "width": "165px"
   },
   "toc_section_display": true,
   "toc_window_display": true
  }
 },
 "nbformat": 4,
 "nbformat_minor": 5
}
