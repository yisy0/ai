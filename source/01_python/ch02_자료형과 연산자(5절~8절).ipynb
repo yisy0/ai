{
 "cells": [
  {
   "cell_type": "code",
   "execution_count": 1,
   "id": "a0842d1e",
   "metadata": {},
   "outputs": [
    {
     "data": {
      "text/html": [
       "\n",
       "<style>\n",
       "div.container{width:90% !important;}\n",
       "div.cell.code_cell.rendered{width:100%;}\n",
       "div.input_prompt{padding:0px;}\n",
       "div.CodeMirror {font-family:Consolas; font-size:22pt;}\n",
       "div.text_cell_render.rendered_html{font-size:22pt;}\n",
       "div.output {font-size:22pt; font-weight:bold;}\n",
       "div.input {font-family:Consolas; font-size:22pt;}\n",
       "div.prompt {min-width:70px;}\n",
       "div#toc-wrapper{padding-top:120px;}\n",
       "div.text_cell_render ul li{font-size:22pt;padding:5px;}\n",
       "table.dataframe{font-size:22px;}\n",
       "</style>\n"
      ],
      "text/plain": [
       "<IPython.core.display.HTML object>"
      ]
     },
     "metadata": {},
     "output_type": "display_data"
    }
   ],
   "source": [
    "from IPython.display import display, HTML\n",
    "display(HTML(\"\"\"\n",
    "<style>\n",
    "div.container{width:90% !important;}\n",
    "div.cell.code_cell.rendered{width:100%;}\n",
    "div.input_prompt{padding:0px;}\n",
    "div.CodeMirror {font-family:Consolas; font-size:22pt;}\n",
    "div.text_cell_render.rendered_html{font-size:22pt;}\n",
    "div.output {font-size:22pt; font-weight:bold;}\n",
    "div.input {font-family:Consolas; font-size:22pt;}\n",
    "div.prompt {min-width:70px;}\n",
    "div#toc-wrapper{padding-top:120px;}\n",
    "div.text_cell_render ul li{font-size:22pt;padding:5px;}\n",
    "table.dataframe{font-size:22px;}\n",
    "</style>\n",
    "\"\"\"))"
   ]
  },
  {
   "cell_type": "markdown",
   "id": "e3842ed6",
   "metadata": {},
   "source": [
    "<b><font size=\"7\" color=\"red\">ch02. 자료형과 연산자</font></b>\n",
    "# 5절. 연산자\n",
    "## 5.1 산술연산자 : +, -, *, /(결과 float), //(몫), %(나머지), **(제곱)"
   ]
  },
  {
   "cell_type": "code",
   "execution_count": 13,
   "id": "b00f84d0",
   "metadata": {},
   "outputs": [
    {
     "name": "stdout",
     "output_type": "stream",
     "text": [
      "10*5승 = 100000\n",
      "5/2(결과 실수) = 2.5\n",
      "5//2(몫) = 2\n",
      "5%2(나머지) = 1\n"
     ]
    }
   ],
   "source": [
    "print(\"10*5승 =\", 10**5)\n",
    "print(\"5/2(결과 실수) =\", 5/2)\n",
    "print(\"5//2(몫) =\", 5//2)\n",
    "print(\"5%2(나머지) =\", 5%2)"
   ]
  },
  {
   "cell_type": "code",
   "execution_count": 8,
   "id": "e8c25b67",
   "metadata": {},
   "outputs": [
    {
     "name": "stdout",
     "output_type": "stream",
     "text": [
      "4**2 = 16.0\n"
     ]
    }
   ],
   "source": [
    "# 정수끼리 연산은 결과가 정수(단 / 제외)\n",
    "# 정수와 실수, 실수끼리 연산 결과는 실수\n",
    "print(\"4**2 =\", 4**2.0)"
   ]
  },
  {
   "cell_type": "code",
   "execution_count": 18,
   "id": "0052fc27",
   "metadata": {},
   "outputs": [
    {
     "name": "stdout",
     "output_type": "stream",
     "text": [
      "정수를 입력하세요:8\n",
      "입력하신 수는 8, 2로 나눈 나머지는 0라서 짝수를 입력하셨습니다\n"
     ]
    }
   ],
   "source": [
    "# quiz1. 정수를 입력받아 짝수인지 홀수인지 여부를 출력\n",
    "num = int(input(\"정수를 입력하세요:\"))\n",
    "result = num % 2 # -1, 0, 1\n",
    "if result:\n",
    "    temp = \"홀수\"\n",
    "else:\n",
    "    temp = \"짝수\"\n",
    "print(f\"입력하신 수는 {num}, 2로 나눈 나머지는 {result}라서 {temp}를 입력하셨습니다\")"
   ]
  },
  {
   "cell_type": "code",
   "execution_count": 19,
   "id": "2a8e0506",
   "metadata": {},
   "outputs": [
    {
     "name": "stdout",
     "output_type": "stream",
     "text": [
      "정수를 입력하세요:9\n",
      "5의 배수가 아닙니다\n"
     ]
    }
   ],
   "source": [
    "# quiz2. 정수를 입력받아 5의 배수인지 여부를 출력\n",
    "num = int(input(\"정수를 입력하세요:\"))\n",
    "if num%5:\n",
    "    print(\"5의 배수가 아닙니다\")\n",
    "else:\n",
    "    print(\"5의 배수입니다\")"
   ]
  },
  {
   "cell_type": "code",
   "execution_count": 20,
   "id": "9624b26b",
   "metadata": {},
   "outputs": [
    {
     "name": "stdout",
     "output_type": "stream",
     "text": [
      "국어?99\n",
      "영어?100\n",
      "수학?100\n"
     ]
    }
   ],
   "source": [
    "# quiz3. 국, 영, 수 점수를 입력받아 다음셀에서 다음과 같이 출력하도록 구현하시오\n",
    "# 국어 :  99      영어 : 100       수학 : 100\n",
    "# 합계 : 299      평균 :  99.7\n",
    "kor = int(input(\"국어?\"))\n",
    "eng = int(input(\"영어?\"))\n",
    "mat = int(input(\"수학?\"))\n",
    "sum = kor + eng + mat\n",
    "avg = sum / 3"
   ]
  },
  {
   "cell_type": "code",
   "execution_count": 22,
   "id": "319f7708",
   "metadata": {},
   "outputs": [
    {
     "name": "stdout",
     "output_type": "stream",
     "text": [
      "국어 :  99\t영어 : 100\t수학 : 100\n",
      "총점 : 299\t평균 :  99.7\n"
     ]
    }
   ],
   "source": [
    "print(\"국어 : {:3d}\\t영어 : {:3d}\\t수학 : {:3d}\".format(kor, eng, mat))\n",
    "print(\"총점 : {:3d}\\t평균 : {:5.1f}\".format(sum, avg))"
   ]
  },
  {
   "cell_type": "markdown",
   "id": "9f182bd4",
   "metadata": {},
   "source": [
    "## 5.2 할당연산자 : =, +=, -=, /=, *=, //=, %="
   ]
  },
  {
   "cell_type": "code",
   "execution_count": 24,
   "id": "db8a596f",
   "metadata": {},
   "outputs": [
    {
     "name": "stdout",
     "output_type": "stream",
     "text": [
      "a = 15\n"
     ]
    }
   ],
   "source": [
    "a = 10\n",
    "a += 5 # a = a + 5와 동일\n",
    "print(f\"a = {a}\")"
   ]
  },
  {
   "cell_type": "code",
   "execution_count": 25,
   "id": "2879f7f2",
   "metadata": {},
   "outputs": [
    {
     "name": "stdout",
     "output_type": "stream",
     "text": [
      "5빼기 : 10\n",
      "10배 : 100\n",
      "5나눈 몫 : 20\n"
     ]
    }
   ],
   "source": [
    "a -= 5 # a = a-5\n",
    "print(\"5빼기 :\", a) # 10\n",
    "a *= 10 # a = a*10\n",
    "print(\"10배 :\", a) #100\n",
    "a //= 5 # a = a//5\n",
    "print(\"5나눈 몫 :\", a)"
   ]
  },
  {
   "cell_type": "markdown",
   "id": "82a347ba",
   "metadata": {},
   "source": [
    "## 5.3 논리연산자 : &, and, |, or, not"
   ]
  },
  {
   "cell_type": "code",
   "execution_count": 38,
   "id": "c78ac3f6",
   "metadata": {},
   "outputs": [
    {
     "name": "stdout",
     "output_type": "stream",
     "text": [
      "False\n",
      "0\n"
     ]
    }
   ],
   "source": [
    "# & : 논리연산자, 비트연산자\n",
    "print( (10>3) & (10>5) ) # 논리연산 True & True\n",
    "print( 12 & 1 ) # 비트 연산  1 1 0 0 (12)\n",
    "                       #    0 0 0 1  (1)\n",
    "                       # &: 0 0 0 0"
   ]
  },
  {
   "cell_type": "code",
   "execution_count": 33,
   "id": "326a04bd",
   "metadata": {},
   "outputs": [
    {
     "name": "stdout",
     "output_type": "stream",
     "text": [
      "True\n",
      "0\n"
     ]
    }
   ],
   "source": [
    "# and : 논리연산자.  False로 판별되는 첫번째 항의 결과 반환\n",
    "         # 모든 항이 True면, 마지막항의 결과 반환\n",
    "print( (10>3) and (10>5) )\n",
    "print( 0 and 1 ) "
   ]
  },
  {
   "cell_type": "code",
   "execution_count": 41,
   "id": "c72f50c3",
   "metadata": {},
   "outputs": [
    {
     "name": "stdout",
     "output_type": "stream",
     "text": [
      "논리연산(연산자 앞뒤에 논리형일 때) : True\n",
      "비트연산(연산자 앞이나 뒤에 숫자일 때) : 3\n"
     ]
    }
   ],
   "source": [
    "# | : 논리연산, 비트연산\n",
    "result = True | False\n",
    "print('논리연산(연산자 앞뒤에 논리형일 때) :', result)\n",
    "result = False | 3 # 0000 (0)\n",
    "                   # 0011 (3)\n",
    "print('비트연산(연산자 앞이나 뒤에 숫자일 때) :', result)"
   ]
  },
  {
   "cell_type": "code",
   "execution_count": 45,
   "id": "fa44b805",
   "metadata": {},
   "outputs": [
    {
     "name": "stdout",
     "output_type": "stream",
     "text": [
      "[]\n",
      "Hong\n"
     ]
    }
   ],
   "source": [
    "# or : 논리연산. 참으로 판별되는 첫번째 항의 결과 반환\n",
    "          # 모든 항이 거짓이면 마지막항의 결과 반환\n",
    "print(False or 0 or '' or None or [])\n",
    "print(False or 0 or 'Hong' or None or [])"
   ]
  },
  {
   "cell_type": "code",
   "execution_count": null,
   "id": "f66bf699",
   "metadata": {},
   "outputs": [],
   "source": []
  },
  {
   "cell_type": "code",
   "execution_count": null,
   "id": "2be166d1",
   "metadata": {},
   "outputs": [],
   "source": []
  },
  {
   "cell_type": "code",
   "execution_count": null,
   "id": "b267a1b2",
   "metadata": {},
   "outputs": [],
   "source": []
  },
  {
   "cell_type": "code",
   "execution_count": null,
   "id": "c67e117a",
   "metadata": {},
   "outputs": [],
   "source": []
  },
  {
   "cell_type": "code",
   "execution_count": null,
   "id": "cd3e7dc4",
   "metadata": {},
   "outputs": [],
   "source": []
  },
  {
   "cell_type": "code",
   "execution_count": null,
   "id": "95ac0503",
   "metadata": {},
   "outputs": [],
   "source": []
  },
  {
   "cell_type": "code",
   "execution_count": null,
   "id": "42a84166",
   "metadata": {},
   "outputs": [],
   "source": []
  },
  {
   "cell_type": "code",
   "execution_count": null,
   "id": "d0c03aa0",
   "metadata": {},
   "outputs": [],
   "source": []
  }
 ],
 "metadata": {
  "kernelspec": {
   "display_name": "Python 3 (ipykernel)",
   "language": "python",
   "name": "python3"
  },
  "language_info": {
   "codemirror_mode": {
    "name": "ipython",
    "version": 3
   },
   "file_extension": ".py",
   "mimetype": "text/x-python",
   "name": "python",
   "nbconvert_exporter": "python",
   "pygments_lexer": "ipython3",
   "version": "3.10.9"
  },
  "toc": {
   "base_numbering": 1,
   "nav_menu": {},
   "number_sections": false,
   "sideBar": true,
   "skip_h1_title": false,
   "title_cell": "Table of Contents",
   "title_sidebar": "Contents",
   "toc_cell": false,
   "toc_position": {
    "height": "calc(100% - 180px)",
    "left": "10px",
    "top": "150px",
    "width": "165px"
   },
   "toc_section_display": true,
   "toc_window_display": true
  }
 },
 "nbformat": 4,
 "nbformat_minor": 5
}
