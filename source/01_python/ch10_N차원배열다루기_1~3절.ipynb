{
 "cells": [
  {
   "cell_type": "code",
   "execution_count": 1,
   "id": "2592890a",
   "metadata": {},
   "outputs": [
    {
     "data": {
      "text/html": [
       "\n",
       "<style>\n",
       "div.container{width:99% !important;}\n",
       "div.cell.code_cell.rendered{width:100%;}\n",
       "div.input_prompt{padding:0px;}\n",
       "div.CodeMirror {font-family:Consolas; font-size:22pt;}\n",
       "div.text_cell_render.rendered_html{font-size:18pt;}\n",
       "div.output {font-size:22pt; font-weight:bold;}\n",
       "div.input {font-family:Consolas; font-size:22pt;}\n",
       "div.prompt {min-width:70px;}\n",
       "div#toc-wrapper{padding-top:120px;}\n",
       "div.text_cell_render ul li{font-size:22pt;padding:5px;}\n",
       "table.dataframe{font-size:22px;}\n",
       "</style>\n"
      ],
      "text/plain": [
       "<IPython.core.display.HTML object>"
      ]
     },
     "metadata": {},
     "output_type": "display_data"
    }
   ],
   "source": [
    "from IPython.display import display, HTML\n",
    "display(HTML(\"\"\"\n",
    "<style>\n",
    "div.container{width:99% !important;}\n",
    "div.cell.code_cell.rendered{width:100%;}\n",
    "div.input_prompt{padding:0px;}\n",
    "div.CodeMirror {font-family:Consolas; font-size:22pt;}\n",
    "div.text_cell_render.rendered_html{font-size:18pt;}\n",
    "div.output {font-size:22pt; font-weight:bold;}\n",
    "div.input {font-family:Consolas; font-size:22pt;}\n",
    "div.prompt {min-width:70px;}\n",
    "div#toc-wrapper{padding-top:120px;}\n",
    "div.text_cell_render ul li{font-size:22pt;padding:5px;}\n",
    "table.dataframe{font-size:22px;}\n",
    "</style>\n",
    "\"\"\"))"
   ]
  },
  {
   "cell_type": "markdown",
   "id": "5d5ecfb6",
   "metadata": {},
   "source": [
    "<b><font size=\"7\" color=\"red\">ch10. N차원 배열(Numpy 배열) 다루기</font></b>\n",
    "- [numpy](http://www.numpy.org)\n",
    "- [numpy docs](https://numpy.org/doc/stable)\n",
    "- 2차원 배열은 행렬개념으로 이해\n",
    "- numpy 패키지를 이용(C언어로 구현된 고성능 수치계산 패키지)\n",
    "# 1절 넘파이 패키지"
   ]
  },
  {
   "cell_type": "code",
   "execution_count": 2,
   "id": "d6ecd856",
   "metadata": {},
   "outputs": [
    {
     "data": {
      "text/plain": [
       "'1.23.5'"
      ]
     },
     "execution_count": 2,
     "metadata": {},
     "output_type": "execute_result"
    }
   ],
   "source": [
    "import numpy as np\n",
    "np.__version__"
   ]
  },
  {
   "cell_type": "code",
   "execution_count": 4,
   "id": "1f8cf1ae",
   "metadata": {},
   "outputs": [
    {
     "data": {
      "text/plain": [
       "array([ 0,  1,  2,  3,  4,  5,  6,  7,  8,  9, 10, 11, 12, 13, 14])"
      ]
     },
     "execution_count": 4,
     "metadata": {},
     "output_type": "execute_result"
    }
   ],
   "source": [
    "# np.arange(from, stop, by) : from부터 stop앞까지 by씩 증가하는 1차원 배열 생성\n",
    "a = np.arange(15) # 0부터 15앞까지 1씩 증가하는 1차원 배열\n",
    "a"
   ]
  },
  {
   "cell_type": "markdown",
   "id": "a81e8d3f",
   "metadata": {},
   "source": [
    "## 1.1 배열 속성"
   ]
  },
  {
   "cell_type": "code",
   "execution_count": 24,
   "id": "bc67ffd6",
   "metadata": {},
   "outputs": [
    {
     "data": {
      "text/plain": [
       "array([[ 0,  1,  2,  3,  4],\n",
       "       [ 5,  6,  7,  8,  9],\n",
       "       [10, 11, 12, 13, 14]])"
      ]
     },
     "execution_count": 24,
     "metadata": {},
     "output_type": "execute_result"
    }
   ],
   "source": [
    "from numpy import arange\n",
    "a = arange(15,\n",
    "          #dtype=np.int32\n",
    "          ).reshape(3, 5) # 3행5열짜리 2차원 배열로 변환\n",
    "a"
   ]
  },
  {
   "cell_type": "code",
   "execution_count": 25,
   "id": "e3b4e160",
   "metadata": {},
   "outputs": [
    {
     "data": {
      "text/plain": [
       "numpy.ndarray"
      ]
     },
     "execution_count": 25,
     "metadata": {},
     "output_type": "execute_result"
    }
   ],
   "source": [
    "type(a) # a변수의 타입"
   ]
  },
  {
   "cell_type": "code",
   "execution_count": 26,
   "id": "06735aeb",
   "metadata": {},
   "outputs": [
    {
     "data": {
      "text/plain": [
       "dtype('int32')"
      ]
     },
     "execution_count": 26,
     "metadata": {},
     "output_type": "execute_result"
    }
   ],
   "source": [
    "a.dtype # a배열의 요소들의 type"
   ]
  },
  {
   "cell_type": "code",
   "execution_count": 27,
   "id": "021b2b1f",
   "metadata": {},
   "outputs": [
    {
     "data": {
      "text/plain": [
       "'int32'"
      ]
     },
     "execution_count": 27,
     "metadata": {},
     "output_type": "execute_result"
    }
   ],
   "source": [
    "a.dtype.name"
   ]
  },
  {
   "cell_type": "code",
   "execution_count": 28,
   "id": "537fe295",
   "metadata": {},
   "outputs": [
    {
     "data": {
      "text/plain": [
       "4"
      ]
     },
     "execution_count": 28,
     "metadata": {},
     "output_type": "execute_result"
    }
   ],
   "source": [
    "a.itemsize # a배열안의 한 요소의 bytesize"
   ]
  },
  {
   "cell_type": "code",
   "execution_count": 29,
   "id": "345501ab",
   "metadata": {},
   "outputs": [
    {
     "data": {
      "text/plain": [
       "2"
      ]
     },
     "execution_count": 29,
     "metadata": {},
     "output_type": "execute_result"
    }
   ],
   "source": [
    "a.ndim # 축수(차원수)"
   ]
  },
  {
   "cell_type": "code",
   "execution_count": 31,
   "id": "77a75075",
   "metadata": {},
   "outputs": [
    {
     "data": {
      "text/plain": [
       "15"
      ]
     },
     "execution_count": 31,
     "metadata": {},
     "output_type": "execute_result"
    }
   ],
   "source": [
    "a.size # 배열 요소의 갯수"
   ]
  },
  {
   "cell_type": "code",
   "execution_count": 32,
   "id": "b7edb724",
   "metadata": {},
   "outputs": [
    {
     "data": {
      "text/plain": [
       "(3, 5)"
      ]
     },
     "execution_count": 32,
     "metadata": {},
     "output_type": "execute_result"
    }
   ],
   "source": [
    "a.shape # 배열의 구조(3행5열)"
   ]
  },
  {
   "cell_type": "code",
   "execution_count": 35,
   "id": "781ef7f3",
   "metadata": {},
   "outputs": [
    {
     "name": "stdout",
     "output_type": "stream",
     "text": [
      "shape 조정 전 a\n",
      " [[ 0  1  2  3  4]\n",
      " [ 5  6  7  8  9]\n",
      " [10 11 12 13 14]]\n",
      "shape 조정 후 a\n",
      " [[ 0  1  2]\n",
      " [ 3  4  5]\n",
      " [ 6  7  8]\n",
      " [ 9 10 11]\n",
      " [12 13 14]]\n"
     ]
    }
   ],
   "source": [
    "print('shape 조정 전 a\\n', a)\n",
    "a.shape = (5, 3)\n",
    "print('shape 조정 후 a\\n',a)"
   ]
  },
  {
   "cell_type": "markdown",
   "id": "8d6c74b3",
   "metadata": {},
   "source": [
    "## 1.2 배열 타입 변경"
   ]
  },
  {
   "cell_type": "code",
   "execution_count": 37,
   "id": "b7be58a5",
   "metadata": {},
   "outputs": [
    {
     "data": {
      "text/plain": [
       "array([[ 0,  1,  2,  3],\n",
       "       [ 4,  5,  6,  7],\n",
       "       [ 8,  9, 10, 11]])"
      ]
     },
     "execution_count": 37,
     "metadata": {},
     "output_type": "execute_result"
    }
   ],
   "source": [
    "a = arange(12).reshape(3,4)\n",
    "a"
   ]
  },
  {
   "cell_type": "code",
   "execution_count": 39,
   "id": "8aabdec6",
   "metadata": {},
   "outputs": [
    {
     "data": {
      "text/plain": [
       "12"
      ]
     },
     "execution_count": 39,
     "metadata": {},
     "output_type": "execute_result"
    }
   ],
   "source": [
    "a.size # 요소갯수"
   ]
  },
  {
   "cell_type": "code",
   "execution_count": 40,
   "id": "c80d0a38",
   "metadata": {},
   "outputs": [
    {
     "data": {
      "text/plain": [
       "dtype('int32')"
      ]
     },
     "execution_count": 40,
     "metadata": {},
     "output_type": "execute_result"
    }
   ],
   "source": [
    "a.dtype"
   ]
  },
  {
   "cell_type": "code",
   "execution_count": 41,
   "id": "16311ddd",
   "metadata": {},
   "outputs": [
    {
     "data": {
      "text/plain": [
       "4"
      ]
     },
     "execution_count": 41,
     "metadata": {},
     "output_type": "execute_result"
    }
   ],
   "source": [
    "a.itemsize"
   ]
  },
  {
   "cell_type": "code",
   "execution_count": 43,
   "id": "f226f804",
   "metadata": {},
   "outputs": [
    {
     "data": {
      "text/plain": [
       "dtype('int64')"
      ]
     },
     "execution_count": 43,
     "metadata": {},
     "output_type": "execute_result"
    }
   ],
   "source": [
    "a.dtype = np.int64 # 읽을 때 int64로(64bit씩) 읽는다\n",
    "a.dtype"
   ]
  },
  {
   "cell_type": "code",
   "execution_count": 44,
   "id": "39d9543c",
   "metadata": {},
   "outputs": [
    {
     "data": {
      "text/plain": [
       "array([[ 4294967296, 12884901890],\n",
       "       [21474836484, 30064771078],\n",
       "       [38654705672, 47244640266]], dtype=int64)"
      ]
     },
     "execution_count": 44,
     "metadata": {},
     "output_type": "execute_result"
    }
   ],
   "source": [
    "a"
   ]
  },
  {
   "cell_type": "code",
   "execution_count": 46,
   "id": "92dede74",
   "metadata": {},
   "outputs": [
    {
     "data": {
      "text/plain": [
       "8"
      ]
     },
     "execution_count": 46,
     "metadata": {},
     "output_type": "execute_result"
    }
   ],
   "source": [
    "a.itemsize"
   ]
  },
  {
   "cell_type": "code",
   "execution_count": 47,
   "id": "7fc1cb58",
   "metadata": {},
   "outputs": [
    {
     "data": {
      "text/plain": [
       "6"
      ]
     },
     "execution_count": 47,
     "metadata": {},
     "output_type": "execute_result"
    }
   ],
   "source": [
    "a.size"
   ]
  },
  {
   "cell_type": "code",
   "execution_count": 54,
   "id": "749d0752",
   "metadata": {},
   "outputs": [
    {
     "data": {
      "text/plain": [
       "array([[ 0,  1,  2,  3],\n",
       "       [ 4,  5,  6,  7],\n",
       "       [ 8,  9, 10, 11]])"
      ]
     },
     "execution_count": 54,
     "metadata": {},
     "output_type": "execute_result"
    }
   ],
   "source": [
    "# 배열요소의 타입을 수정\n",
    "a = arange(12).reshape(3,4)\n",
    "a"
   ]
  },
  {
   "cell_type": "code",
   "execution_count": 57,
   "id": "4c19c5ce",
   "metadata": {},
   "outputs": [
    {
     "data": {
      "text/plain": [
       "array([[ 0,  1,  2,  3],\n",
       "       [ 4,  5,  6,  7],\n",
       "       [ 8,  9, 10, 11]], dtype=int64)"
      ]
     },
     "execution_count": 57,
     "metadata": {},
     "output_type": "execute_result"
    }
   ],
   "source": [
    "a = a.astype('int64')\n",
    "#a.astype(np.int64)\n",
    "a"
   ]
  },
  {
   "cell_type": "code",
   "execution_count": 56,
   "id": "1b81b436",
   "metadata": {},
   "outputs": [
    {
     "data": {
      "text/plain": [
       "8"
      ]
     },
     "execution_count": 56,
     "metadata": {},
     "output_type": "execute_result"
    }
   ],
   "source": [
    "a.itemsize"
   ]
  },
  {
   "cell_type": "code",
   "execution_count": 58,
   "id": "83bcc575",
   "metadata": {},
   "outputs": [
    {
     "data": {
      "text/plain": [
       "12"
      ]
     },
     "execution_count": 58,
     "metadata": {},
     "output_type": "execute_result"
    }
   ],
   "source": [
    "a.size"
   ]
  },
  {
   "cell_type": "code",
   "execution_count": 59,
   "id": "f95c02a2",
   "metadata": {},
   "outputs": [
    {
     "data": {
      "text/plain": [
       "array([[ 0,  1,  2,  3],\n",
       "       [ 4,  5,  6,  7],\n",
       "       [ 8,  9, 10, 11]], dtype=int64)"
      ]
     },
     "execution_count": 59,
     "metadata": {},
     "output_type": "execute_result"
    }
   ],
   "source": [
    "a"
   ]
  },
  {
   "cell_type": "code",
   "execution_count": 60,
   "id": "480de033",
   "metadata": {},
   "outputs": [
    {
     "data": {
      "text/plain": [
       "array([ 0,  1,  2,  3,  4,  5,  6,  7,  8,  9, 10, 11], dtype=int64)"
      ]
     },
     "execution_count": 60,
     "metadata": {},
     "output_type": "execute_result"
    }
   ],
   "source": [
    "a.ravel() # flatten된 배열 return"
   ]
  },
  {
   "cell_type": "code",
   "execution_count": 62,
   "id": "5b6964f2",
   "metadata": {},
   "outputs": [
    {
     "data": {
      "text/plain": [
       "array([ 0,  1,  2,  3,  4,  5,  6,  7,  8,  9, 10, 11], dtype=int64)"
      ]
     },
     "execution_count": 62,
     "metadata": {},
     "output_type": "execute_result"
    }
   ],
   "source": [
    "a.flatten() # 함수의 결과가 return되면 배열 수정안함"
   ]
  },
  {
   "cell_type": "markdown",
   "id": "0c779eed",
   "metadata": {},
   "source": [
    "## 1.3 배열 저장\n",
    "- pkl(객체저장, 배열, 머신러닝 모델) vs npy(넘파이 전용 포맷, io속도 개선)"
   ]
  },
  {
   "cell_type": "code",
   "execution_count": 63,
   "id": "407aca45",
   "metadata": {},
   "outputs": [
    {
     "data": {
      "text/plain": [
       "array([[ 0,  1,  2,  3],\n",
       "       [ 4,  5,  6,  7],\n",
       "       [ 8,  9, 10, 11]], dtype=int64)"
      ]
     },
     "execution_count": 63,
     "metadata": {},
     "output_type": "execute_result"
    }
   ],
   "source": [
    "a"
   ]
  },
  {
   "cell_type": "code",
   "execution_count": 71,
   "id": "110597a2",
   "metadata": {},
   "outputs": [
    {
     "name": "stdout",
     "output_type": "stream",
     "text": [
      "CPU times: total: 0 ns\n",
      "Wall time: 0 ns\n"
     ]
    }
   ],
   "source": [
    "%%time\n",
    "import pickle\n",
    "with open('data/ch10.pkl', 'wb') as f:\n",
    "    pickle.dump(a, f)"
   ]
  },
  {
   "cell_type": "code",
   "execution_count": 72,
   "id": "1ed8eeaf",
   "metadata": {},
   "outputs": [
    {
     "name": "stdout",
     "output_type": "stream",
     "text": [
      "CPU times: total: 0 ns\n",
      "Wall time: 964 µs\n"
     ]
    }
   ],
   "source": [
    "%%time\n",
    "with open('data/ch10.pkl', 'rb') as f:\n",
    "    loaded_a = pickle.load(f)"
   ]
  },
  {
   "cell_type": "code",
   "execution_count": 66,
   "id": "5424f2a6",
   "metadata": {},
   "outputs": [
    {
     "data": {
      "text/plain": [
       "array([[ 0,  1,  2,  3],\n",
       "       [ 4,  5,  6,  7],\n",
       "       [ 8,  9, 10, 11]], dtype=int64)"
      ]
     },
     "execution_count": 66,
     "metadata": {},
     "output_type": "execute_result"
    }
   ],
   "source": [
    "loaded_a"
   ]
  },
  {
   "cell_type": "code",
   "execution_count": 73,
   "id": "c34a7a51",
   "metadata": {},
   "outputs": [
    {
     "name": "stdout",
     "output_type": "stream",
     "text": [
      "CPU times: total: 0 ns\n",
      "Wall time: 998 µs\n"
     ]
    }
   ],
   "source": [
    "%%time\n",
    "np.save('data/ch10.npy', a) # 저장"
   ]
  },
  {
   "cell_type": "code",
   "execution_count": 74,
   "id": "8341e5bb",
   "metadata": {},
   "outputs": [
    {
     "name": "stdout",
     "output_type": "stream",
     "text": [
      "CPU times: total: 0 ns\n",
      "Wall time: 1.99 ms\n"
     ]
    }
   ],
   "source": [
    "%%time\n",
    "loaded_a2 = np.load('data/ch10.npy')"
   ]
  },
  {
   "cell_type": "markdown",
   "id": "0fdf917f",
   "metadata": {},
   "source": [
    "# 2절 넘파이 배열\n",
    "- array()함수를 이용하여 다른 파이썬 구조(list, tuple)를 배열로 변환\n",
    "- 기타함수들 : arange, ones, zeros, full, empty....linspace\n",
    "- 랜덤값을 갖는 함수들 : np.random.~\n",
    "## 2.1 array()함수로 넘파이 배열 만들기\n",
    "    - array(obj, dtype=np.xx나 'xx', copy=T/F)"
   ]
  },
  {
   "cell_type": "code",
   "execution_count": 76,
   "id": "0e1963a5",
   "metadata": {},
   "outputs": [
    {
     "data": {
      "text/plain": [
       "array([2, 4, 6], dtype=int16)"
      ]
     },
     "execution_count": 76,
     "metadata": {},
     "output_type": "execute_result"
    }
   ],
   "source": [
    "a = np.array([2, 4, 6], dtype=np.int16) # 정수의 기본타입은 int32\n",
    "a"
   ]
  },
  {
   "cell_type": "code",
   "execution_count": 77,
   "id": "d42921f3",
   "metadata": {},
   "outputs": [
    {
     "data": {
      "text/plain": [
       "(2, 4, 6)"
      ]
     },
     "execution_count": 77,
     "metadata": {},
     "output_type": "execute_result"
    }
   ],
   "source": [
    "a[0], a[1], a[2]"
   ]
  },
  {
   "cell_type": "code",
   "execution_count": 78,
   "id": "292c27bb",
   "metadata": {},
   "outputs": [
    {
     "name": "stdout",
     "output_type": "stream",
     "text": [
      "2\t4\t6\t"
     ]
    }
   ],
   "source": [
    "for i in a:\n",
    "    print(i, end='\\t')"
   ]
  },
  {
   "cell_type": "code",
   "execution_count": 91,
   "id": "6c4751e4",
   "metadata": {},
   "outputs": [
    {
     "data": {
      "text/plain": [
       "array([[1.5, 2.3],\n",
       "       [4. , 5. ]])"
      ]
     },
     "execution_count": 91,
     "metadata": {},
     "output_type": "execute_result"
    }
   ],
   "source": [
    "b = np.array([ [1.5, 2.3],  # 배열은 동일 자료형의 집합 : 정수->실수->문자\n",
    "               [4,   5]])\n",
    "b"
   ]
  },
  {
   "cell_type": "code",
   "execution_count": 87,
   "id": "314910d9",
   "metadata": {},
   "outputs": [
    {
     "data": {
      "text/plain": [
       "(2.3, 2.3)"
      ]
     },
     "execution_count": 87,
     "metadata": {},
     "output_type": "execute_result"
    }
   ],
   "source": [
    "b[0][1], b[0,1] # 2차원 [axis0행, axis1열]"
   ]
  },
  {
   "cell_type": "code",
   "execution_count": 89,
   "id": "50100eaf",
   "metadata": {},
   "outputs": [
    {
     "data": {
      "text/plain": [
       "2.3"
      ]
     },
     "execution_count": 89,
     "metadata": {},
     "output_type": "execute_result"
    }
   ],
   "source": [
    "l = [ [1.5, 2.3],  [4,   5]]\n",
    "l[0][1]"
   ]
  },
  {
   "cell_type": "code",
   "execution_count": 93,
   "id": "d7d37dc9",
   "metadata": {},
   "outputs": [
    {
     "name": "stdout",
     "output_type": "stream",
     "text": [
      "float64\n",
      "8\n"
     ]
    }
   ],
   "source": [
    "print(b.dtype) # 정수 기본타입은 int32, 실수 기본타입은 float64\n",
    "print(b.itemsize)"
   ]
  },
  {
   "cell_type": "code",
   "execution_count": 95,
   "id": "b7c63ffc",
   "metadata": {},
   "outputs": [
    {
     "data": {
      "text/plain": [
       "array([[1.5, 2.3],\n",
       "       [4. , 5. ]], dtype=float32)"
      ]
     },
     "execution_count": 95,
     "metadata": {},
     "output_type": "execute_result"
    }
   ],
   "source": [
    "b = b.astype(np.float32) # 함수의 결과를 return하면 a는 그대로\n",
    "b"
   ]
  },
  {
   "cell_type": "code",
   "execution_count": 97,
   "id": "44cac01c",
   "metadata": {},
   "outputs": [
    {
     "name": "stdout",
     "output_type": "stream",
     "text": [
      "float32\n",
      "4\n"
     ]
    }
   ],
   "source": [
    "print(b.dtype) # 정수 기본타입은 int32, 실수 기본타입은 float64\n",
    "print(b.itemsize)"
   ]
  },
  {
   "cell_type": "code",
   "execution_count": 101,
   "id": "4719a717",
   "metadata": {},
   "outputs": [
    {
     "name": "stdout",
     "output_type": "stream",
     "text": [
      "1.5\t2.3\t\n",
      "4.0\t5.0\t\n"
     ]
    }
   ],
   "source": [
    "for row in b:\n",
    "    for item in row:\n",
    "        print(item, end='\\t')\n",
    "    print() # 개행"
   ]
  },
  {
   "cell_type": "code",
   "execution_count": 105,
   "id": "1a9b2949",
   "metadata": {},
   "outputs": [
    {
     "name": "stdout",
     "output_type": "stream",
     "text": [
      "0행0열 : 1.5(1.5)\t0행1열 : 2.3(2.3)\t\n",
      "1행0열 : 4.0(4.0)\t1행1열 : 5.0(5.0)\t\n"
     ]
    }
   ],
   "source": [
    "for i, row in enumerate(b):\n",
    "    for j, item in enumerate(row):\n",
    "        print('{}행{}열 : {:.1f}({:.1f})'.format(i, j, item, b[i,j]), end='\\t')\n",
    "    print() # 개행"
   ]
  },
  {
   "cell_type": "code",
   "execution_count": 107,
   "id": "cd516967",
   "metadata": {},
   "outputs": [
    {
     "data": {
      "text/plain": [
       "array([[ 1,  2,  3,  4,  5],\n",
       "       [ 6,  7,  8,  9,  0],\n",
       "       [11, 12, 13, 14, 15]], dtype=int16)"
      ]
     },
     "execution_count": 107,
     "metadata": {},
     "output_type": "execute_result"
    }
   ],
   "source": [
    "# 행렬의 인덱싱, 슬라이싱\n",
    "b = np.array([[1,2,3,4,5], [6,7,8,9,0],[11,12,13,14,15]], dtype=np.int16)\n",
    "b"
   ]
  },
  {
   "cell_type": "code",
   "execution_count": 108,
   "id": "1d64424c",
   "metadata": {},
   "outputs": [
    {
     "data": {
      "text/plain": [
       "2"
      ]
     },
     "execution_count": 108,
     "metadata": {},
     "output_type": "execute_result"
    }
   ],
   "source": [
    "b[0,1] #없는 인덱싱시 에러 ex. b[3,0]"
   ]
  },
  {
   "cell_type": "code",
   "execution_count": 125,
   "id": "1b984190",
   "metadata": {},
   "outputs": [
    {
     "name": "stdout",
     "output_type": "stream",
     "text": [
      "0~1행, 1~2열 :\n",
      " [[2 3]\n",
      " [7 8]]\n",
      "2행모두(1차원) : [11 12 13 14 15] [11 12 13 14 15]\n",
      "2행모두(2차원) : [[11 12 13 14 15]] [[11 12 13 14 15]]\n",
      "4열모두(1차원) : [ 5  0 15] [ 5  0 15] [ 5  0 15]\n",
      "2행 0~3열 : [11 12 13 14]\n",
      "마지막열 제외 :\n",
      " [[ 1  2  3  4]\n",
      " [ 6  7  8  9]\n",
      " [11 12 13 14]]\n"
     ]
    }
   ],
   "source": [
    "print('0~1행, 1~2열 :\\n', b[0:2, 1:3]) \n",
    "print('2행모두(1차원) :', b[2, :], b[2])      #특정행, 모든열을 추출할 경우, 열생략 가능\n",
    "print('2행모두(2차원) :', b[2:3, :], b[2:3])\n",
    "print('4열모두(1차원) :', b[:,4], b[...,4], b[:, -1]) # 특정열, 모든행을 추출할 경우\n",
    "print('2행 0~3열 :', b[2, 0:-1])\n",
    "print('마지막열 제외 :\\n', b[:, :-1])"
   ]
  },
  {
   "cell_type": "code",
   "execution_count": 7,
   "id": "f0f901b6",
   "metadata": {},
   "outputs": [
    {
     "name": "stdout",
     "output_type": "stream",
     "text": [
      "a=10, 복제본10\n",
      "a=10, 복제본-1\n"
     ]
    }
   ],
   "source": [
    "# 스칼라 변수\n",
    "a = 10\n",
    "copy_a = a # 깊은 복사\n",
    "print(f\"a={a}, 복제본{copy_a}\")\n",
    "copy_a = -1\n",
    "print(f\"a={a}, 복제본{copy_a}\")"
   ]
  },
  {
   "cell_type": "code",
   "execution_count": 9,
   "id": "87a3043e",
   "metadata": {},
   "outputs": [
    {
     "name": "stdout",
     "output_type": "stream",
     "text": [
      "a=[0, 1], 복제본[0, 1]\n",
      "a=[0, 1], 복제본[-1, 1]\n"
     ]
    }
   ],
   "source": [
    "# 데이터 구조\n",
    "a = [0, 1]\n",
    "copy_a = a.copy() # 깊은 복사\n",
    "print(f\"a={a}, 복제본{copy_a}\")\n",
    "copy_a[0] = -1\n",
    "print(f\"a={a}, 복제본{copy_a}\")"
   ]
  },
  {
   "cell_type": "code",
   "execution_count": 17,
   "id": "190759d7",
   "metadata": {},
   "outputs": [
    {
     "name": "stdout",
     "output_type": "stream",
     "text": [
      "c=\n",
      "[[1 2]\n",
      " [3 4]]\n",
      "d=\n",
      "[[1 2]\n",
      " [3 4]]\n",
      "1887853685392 1887853684048\n",
      "c=\n",
      "[[1 2]\n",
      " [3 4]]\n",
      "d=\n",
      "[[9 2]\n",
      " [3 4]]\n"
     ]
    }
   ],
   "source": [
    "# numpy 배열\n",
    "import numpy as np\n",
    "c = np.array([ [1,2], [3,4] ])\n",
    "#d = c # 주소 할당\n",
    "d = np.array(c, copy=True) # 깊은 복사 ; d = c.copy()동일\n",
    "print('c=', c, sep='\\n')\n",
    "print('d=', d, sep='\\n')\n",
    "print(id(c), id(d))\n",
    "d[0,0] = 9\n",
    "print('c=', c, sep='\\n')\n",
    "print('d=', d, sep='\\n')"
   ]
  },
  {
   "cell_type": "markdown",
   "id": "b2f0eff5",
   "metadata": {},
   "source": [
    "## 2.2 기본값이 있는 배열 만들기\n",
    "- np.zeros(tup) : 요소들이 다 0\n",
    "- np.ones(tup) : 요소들이 다 1\n",
    "- np.full(tup, 기본값) : 요소들이 다 두번째 매개변수\n",
    "- np.empty(tup) : 초기 내용은 임의값인 배열(메모리 상태에 따라 초기값 달라짐)\n",
    "\n",
    "※ 위의 함수를 이용해서 생성된 배열은 기본 dtype이 float64. dtype속성을 따로 지정 가능"
   ]
  },
  {
   "cell_type": "code",
   "execution_count": 6,
   "id": "c103b62d",
   "metadata": {},
   "outputs": [
    {
     "data": {
      "text/plain": [
       "array([0., 0., 0.])"
      ]
     },
     "execution_count": 6,
     "metadata": {},
     "output_type": "execute_result"
    }
   ],
   "source": [
    "x = np.zeros( (3,2) ) # 3행2열짜리 2차원 float64 배열(요소들은 다 0)\n",
    "# x = np.zeros( 3,2 ) # 에러\n",
    "x = np.zeros( (3,) ) # 3열짜리 1차원 float64 배열(요소들은 다 0)\n",
    "x = np.zeros( 3 ) # 3열짜리 1차원 float64 배열(요소들은 다 0)\n",
    "x"
   ]
  },
  {
   "cell_type": "code",
   "execution_count": 31,
   "id": "c17db5d1",
   "metadata": {},
   "outputs": [
    {
     "name": "stdout",
     "output_type": "stream",
     "text": [
      "[[0 0 0 0 0]\n",
      " [0 0 0 0 0]]\n",
      "int16\n",
      "2\n"
     ]
    }
   ],
   "source": [
    "x = np.zeros( (2, 5), dtype=np.int16)\n",
    "print(x)\n",
    "print(x.dtype)\n",
    "print(x.itemsize)"
   ]
  },
  {
   "cell_type": "code",
   "execution_count": 34,
   "id": "c150e4fe",
   "metadata": {},
   "outputs": [
    {
     "data": {
      "text/plain": [
       "array([[1, 1, 1, 1, 1],\n",
       "       [1, 1, 1, 1, 1]], dtype=uint8)"
      ]
     },
     "execution_count": 34,
     "metadata": {},
     "output_type": "execute_result"
    }
   ],
   "source": [
    "np.ones( (2,5), dtype=np.uint8)"
   ]
  },
  {
   "cell_type": "code",
   "execution_count": 38,
   "id": "55b3bd31",
   "metadata": {},
   "outputs": [
    {
     "data": {
      "text/plain": [
       "array([[-1.2, -1.2, -1.2],\n",
       "       [-1.2, -1.2, -1.2]])"
      ]
     },
     "execution_count": 38,
     "metadata": {},
     "output_type": "execute_result"
    }
   ],
   "source": [
    "np.full( (2,3), -1.2)"
   ]
  },
  {
   "cell_type": "code",
   "execution_count": 56,
   "id": "0397e118",
   "metadata": {},
   "outputs": [
    {
     "data": {
      "image/png": "[encoded data removed]",
      "text/plain": [
       "<Figure size 200x200 with 1 Axes>"
      ]
     },
     "metadata": {},
     "output_type": "display_data"
    }
   ],
   "source": [
    "import matplotlib.pyplot as plt\n",
    "plt.figure(figsize=(2,2)) # 시각화한 그래프 크기 figsize=(가로, 세로)\n",
    "img = np.full( (28,28), 200, dtype=np.uint8)\n",
    "plt.imshow(img, cmap='gray', vmin=0, vmax=255)\n",
    "plt.axis('off') # 축 없애기\n",
    "plt.show()"
   ]
  },
  {
   "cell_type": "code",
   "execution_count": 1,
   "id": "20fca47a",
   "metadata": {},
   "outputs": [
    {
     "data": {
      "text/plain": [
       "array([[0., 0.],\n",
       "       [0., 0.],\n",
       "       [0., 0.]])"
      ]
     },
     "execution_count": 1,
     "metadata": {},
     "output_type": "execute_result"
    }
   ],
   "source": [
    "import numpy as np\n",
    "np.empty( (3, 2) ) # 초기값이 메모리 상태에 따라 다름"
   ]
  },
  {
   "cell_type": "markdown",
   "id": "6a1d1988",
   "metadata": {},
   "source": [
    "## 2.3 랜덤값을 갖는 배열 만들기\n",
    "- np.random.random(tup) : 0부터 1미만의 균등분포를 갖는 랜덤값\n",
    "- np.random.uniform(low=0.0, high=1.0, size=tup) : low부터 high미만의 균등분포를 갖는 랜덤값\n",
    "- np.random.normal(loc=0.0, scale=1.0, size=tup) : 평균loc과 표준편차 scale을 갖는 정규분포 랜덤값\n",
    "\n",
    "- np.random.rand(n) : 균등분포의 1차원 난수 배열발생 (난수 n개)\n",
    "- np.random.randn(n) : 표준정규분포(평균0,표준편차1)\n",
    "\n",
    "cf) np.random.randint([from,] to) : from(0)부터 to미만의 정수 난수 1개발생==random.randint(from, to-1)"
   ]
  },
  {
   "cell_type": "code",
   "execution_count": 64,
   "id": "09389446",
   "metadata": {},
   "outputs": [
    {
     "data": {
      "image/png": "[encoded data removed]",
      "text/plain": [
       "<Figure size 1500x200 with 1 Axes>"
      ]
     },
     "metadata": {},
     "output_type": "display_data"
    }
   ],
   "source": [
    "import matplotlib.pyplot as plt\n",
    "x = np.random.rand(10000)\n",
    "plt.figure(figsize=(15,2)) # 그래프크기\n",
    "plt.hist(x, bins=50)\n",
    "plt.show()"
   ]
  },
  {
   "cell_type": "code",
   "execution_count": 70,
   "id": "880e708b",
   "metadata": {},
   "outputs": [
    {
     "data": {
      "image/png": "[encoded data removed]",
      "text/plain": [
       "<Figure size 1500x200 with 1 Axes>"
      ]
     },
     "metadata": {},
     "output_type": "display_data"
    }
   ],
   "source": [
    "x = np.random.randn(10000) # 정규분포(표준정규분포는 평균0, 표준편차가 1인 정규분포)\n",
    "plt.figure(figsize=(15,2)) # 그래프크기\n",
    "plt.hist(x, bins=50)\n",
    "plt.show()"
   ]
  },
  {
   "cell_type": "code",
   "execution_count": 74,
   "id": "a1452122",
   "metadata": {},
   "outputs": [
    {
     "name": "stdout",
     "output_type": "stream",
     "text": [
      "[0.10895187 0.96465916 0.21010202]\n",
      "[-2.30859843  0.13871254  0.44791379]\n"
     ]
    }
   ],
   "source": [
    "# 1차원 난수 배열\n",
    "print(np.random.rand(3)) # 균등분포\n",
    "print(np.random.randn(3)) # 정규분포"
   ]
  },
  {
   "cell_type": "code",
   "execution_count": 127,
   "id": "6fdba7e1",
   "metadata": {},
   "outputs": [
    {
     "data": {
      "text/plain": [
       "array([[0.53156693, 0.14809293, 0.93227769, 0.94632033, 0.11783831],\n",
       "       [0.1588445 , 0.0265364 , 0.50011917, 0.58750359, 0.38063447]])"
      ]
     },
     "execution_count": 127,
     "metadata": {},
     "output_type": "execute_result"
    }
   ],
   "source": [
    "# 2차원 난수 배열\n",
    "np.random.random( (2,5) ) # 2행5열짜리 균등분포(0~1미만) 난수 배열"
   ]
  },
  {
   "cell_type": "code",
   "execution_count": 130,
   "id": "6897c36e",
   "metadata": {},
   "outputs": [
    {
     "data": {
      "text/plain": [
       "array([[ 0.63921426,  0.69716536, -0.62817375,  1.87823208,  0.77092412],\n",
       "       [ 1.2588706 , -0.99492873, -1.2371085 , -0.69492975, -0.48770061]])"
      ]
     },
     "execution_count": 130,
     "metadata": {},
     "output_type": "execute_result"
    }
   ],
   "source": [
    "np.random.uniform(low=-2, high=2, size=(2,5)) #2행5열짜리 균등분포(-2~2미만) 난수 배열"
   ]
  },
  {
   "cell_type": "code",
   "execution_count": 132,
   "id": "2eb819c0",
   "metadata": {},
   "outputs": [
    {
     "data": {
      "text/plain": [
       "array([[-1.31786859, -0.69409935,  0.19553547, -0.97339703,  0.61486219],\n",
       "       [ 1.51208126, -1.39918135, -0.59007423,  0.29864549, -0.08470748]])"
      ]
     },
     "execution_count": 132,
     "metadata": {},
     "output_type": "execute_result"
    }
   ],
   "source": [
    "np.random.normal(size=(2,5)) #2행5열짜리 정규분포(평균0, 표준편차1) 난수 배열"
   ]
  },
  {
   "cell_type": "code",
   "execution_count": 134,
   "id": "ef5ad173",
   "metadata": {},
   "outputs": [
    {
     "data": {
      "text/plain": [
       "array([[ 0.73738379,  0.41994808, -2.00052008, -0.49342503,  0.01314241],\n",
       "       [ 0.70962968, -0.20533669,  0.19516352,  0.42977574, -1.1029172 ]])"
      ]
     },
     "execution_count": 134,
     "metadata": {},
     "output_type": "execute_result"
    }
   ],
   "source": [
    "np.random.normal(-1, 1, (2,5)) #2행5열짜리 정규분포(평균-1, 표준편차1) 난수 배열"
   ]
  },
  {
   "cell_type": "markdown",
   "id": "8798f445",
   "metadata": {},
   "source": [
    "## 2.4 연속된 값을 갖는 1차원 배열 만들기\n",
    "- np.arange(from, to, by, dtype) : from부터 to앞까지 by씩 건너뛴 값을 1차원 배열로 생성\n",
    "- np.linspace(from, to, num) : from부터 to(to포함)까지 num개 숫자들을 1차원 배열로 생성"
   ]
  },
  {
   "cell_type": "code",
   "execution_count": 137,
   "id": "3fe06dbf",
   "metadata": {},
   "outputs": [
    {
     "data": {
      "text/plain": [
       "array([10., 15., 20., 25.])"
      ]
     },
     "execution_count": 137,
     "metadata": {},
     "output_type": "execute_result"
    }
   ],
   "source": [
    "np.arange(10, 30, 5, dtype=np.float64)"
   ]
  },
  {
   "cell_type": "code",
   "execution_count": 140,
   "id": "6093ae47",
   "metadata": {},
   "outputs": [
    {
     "data": {
      "text/plain": [
       "array([0. , 0.3, 0.6, 0.9, 1.2, 1.5, 1.8, 2.1])"
      ]
     },
     "execution_count": 140,
     "metadata": {},
     "output_type": "execute_result"
    }
   ],
   "source": [
    "np.arange(0, 2.1, 0.3)"
   ]
  },
  {
   "cell_type": "code",
   "execution_count": 142,
   "id": "3f2d3702",
   "metadata": {},
   "outputs": [
    {
     "data": {
      "text/plain": [
       "array([0.  , 1.25, 2.5 , 3.75, 5.  ])"
      ]
     },
     "execution_count": 142,
     "metadata": {},
     "output_type": "execute_result"
    }
   ],
   "source": [
    "np.linspace(0, 5, 5)"
   ]
  },
  {
   "cell_type": "code",
   "execution_count": 157,
   "id": "d360b81d",
   "metadata": {},
   "outputs": [],
   "source": [
    "# linspace : 특정한 범위의 수들을 많이 생성할 때\n",
    "from numpy import pi, linspace\n",
    "x = linspace(0, 2*pi, 1000)\n",
    "y = np.sin(x)"
   ]
  },
  {
   "cell_type": "code",
   "execution_count": 158,
   "id": "c722718d",
   "metadata": {},
   "outputs": [
    {
     "data": {
      "image/png": "[encoded data removed]",
      "text/plain": [
       "<Figure size 800x300 with 1 Axes>"
      ]
     },
     "metadata": {},
     "output_type": "display_data"
    }
   ],
   "source": [
    "plt.figure(figsize=(8, 3))\n",
    "plt.scatter(x, y)\n",
    "plt.show()"
   ]
  },
  {
   "cell_type": "code",
   "execution_count": null,
   "id": "2b5eaaa8",
   "metadata": {},
   "outputs": [],
   "source": []
  },
  {
   "cell_type": "code",
   "execution_count": null,
   "id": "fb3ea3c3",
   "metadata": {},
   "outputs": [],
   "source": []
  },
  {
   "cell_type": "code",
   "execution_count": null,
   "id": "2dac8472",
   "metadata": {},
   "outputs": [],
   "source": []
  }
 ],
 "metadata": {
  "kernelspec": {
   "display_name": "Python 3 (ipykernel)",
   "language": "python",
   "name": "python3"
  },
  "language_info": {
   "codemirror_mode": {
    "name": "ipython",
    "version": 3
   },
   "file_extension": ".py",
   "mimetype": "text/x-python",
   "name": "python",
   "nbconvert_exporter": "python",
   "pygments_lexer": "ipython3",
   "version": "3.10.9"
  },
  "toc": {
   "base_numbering": 1,
   "nav_menu": {},
   "number_sections": false,
   "sideBar": true,
   "skip_h1_title": false,
   "title_cell": "Table of Contents",
   "title_sidebar": "Contents",
   "toc_cell": false,
   "toc_position": {
    "height": "calc(100% - 180px)",
    "left": "10px",
    "top": "150px",
    "width": "165px"
   },
   "toc_section_display": true,
   "toc_window_display": true
  }
 },
 "nbformat": 4,
 "nbformat_minor": 5
}
