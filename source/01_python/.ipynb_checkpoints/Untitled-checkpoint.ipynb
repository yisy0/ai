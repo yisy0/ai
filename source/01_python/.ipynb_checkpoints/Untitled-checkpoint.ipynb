{
 "cells": [
  {
   "cell_type": "code",
   "execution_count": 1,
   "id": "162020cd",
   "metadata": {},
   "outputs": [
    {
     "data": {
      "text/html": [
       "\n",
       "<style>\n",
       "div.container{width:90% !important;}\n",
       "div.cell.code_cell.rendered{width:100%;}\n",
       "div.input_prompt{padding:0px;}\n",
       "div.CodeMirror {font-family:Consolas; font-size:22pt;}\n",
       "div.text_cell_render.rendered_html{font-size:22pt;}\n",
       "div.output {font-size:22pt; font-weight:bold;}\n",
       "div.input {font-family:Consolas; font-size:22pt;}\n",
       "div.prompt {min-width:70px;}\n",
       "div#toc-wrapper{padding-top:120px;}\n",
       "div.text_cell_render ul li{font-size:22pt;padding:5px;}\n",
       "table.dataframe{font-size:22px;}\n",
       "</style>\n"
      ],
      "text/plain": [
       "<IPython.core.display.HTML object>"
      ]
     },
     "metadata": {},
     "output_type": "display_data"
    }
   ],
   "source": [
    "from IPython.display import display, HTML\n",
    "display(HTML(\"\"\"\n",
    "<style>\n",
    "div.container{width:90% !important;}\n",
    "div.cell.code_cell.rendered{width:100%;}\n",
    "div.input_prompt{padding:0px;}\n",
    "div.CodeMirror {font-family:Consolas; font-size:22pt;}\n",
    "div.text_cell_render.rendered_html{font-size:22pt;}\n",
    "div.output {font-size:22pt; font-weight:bold;}\n",
    "div.input {font-family:Consolas; font-size:22pt;}\n",
    "div.prompt {min-width:70px;}\n",
    "div#toc-wrapper{padding-top:120px;}\n",
    "div.text_cell_render ul li{font-size:22pt;padding:5px;}\n",
    "table.dataframe{font-size:22px;}\n",
    "</style>\n",
    "\"\"\"))"
   ]
  },
  {
   "cell_type": "markdown",
   "id": "6992a9ea",
   "metadata": {},
   "source": [
    "<b><font size=\"7\" color=\"red\">ch02. 자료형과 연산자</font></b>\n",
    "# 1절. 변수\n",
    "- 변수 : 프로그램 작업 처리를 위해, 값을 저장할 수 있는 메모리 공간\n",
    "- 파이썬은 변수 선언을 위한 타입이 없고, 별도의 선언 과정도 없음\n",
    "\n",
    "## 1.1 변수 할당\n",
    "- 할당연산자(=)을 이용해서 값을 할당하면 자료형(타입)이 셋팅\n",
    "- **파이썬에서의 모든 변수는 객체로 저장**"
   ]
  },
  {
   "cell_type": "code",
   "execution_count": 2,
   "id": "4427727b",
   "metadata": {},
   "outputs": [
    {
     "name": "stdout",
     "output_type": "stream",
     "text": [
      "넓이 : 78.5\n"
     ]
    }
   ],
   "source": [
    "r = 5\n",
    "area = 3.14 * r * r\n",
    "print('넓이 :', area)"
   ]
  },
  {
   "cell_type": "code",
   "execution_count": 4,
   "id": "a3d10e4f",
   "metadata": {},
   "outputs": [
    {
     "name": "stdout",
     "output_type": "stream",
     "text": [
      "넓이 : 78.53981633974483\n"
     ]
    }
   ],
   "source": [
    "import numpy as np # numpy패키지를 np라는 이름으로 사용\n",
    "area = np.pi * r * r\n",
    "print('넓이 :', area)"
   ]
  },
  {
   "cell_type": "code",
   "execution_count": 5,
   "id": "2b7f4756",
   "metadata": {},
   "outputs": [
    {
     "name": "stdout",
     "output_type": "stream",
     "text": [
      "area의 주소 : 1191778146320\n",
      "area의 타입 : <class 'float'>\n"
     ]
    }
   ],
   "source": [
    "print('area의 주소 :', id(area))\n",
    "print('area의 타입 :', type(area))"
   ]
  },
  {
   "cell_type": "code",
   "execution_count": 6,
   "id": "2871c347",
   "metadata": {},
   "outputs": [
    {
     "data": {
      "text/plain": [
       "False"
      ]
     },
     "execution_count": 6,
     "metadata": {},
     "output_type": "execute_result"
    }
   ],
   "source": [
    "area.is_integer()"
   ]
  },
  {
   "cell_type": "code",
   "execution_count": 7,
   "id": "cece49a9",
   "metadata": {},
   "outputs": [
    {
     "name": "stdout",
     "output_type": "stream",
     "text": [
      "area의 주소 : 1191678837264\n",
      "area의 타입 : <class 'int'>\n"
     ]
    }
   ],
   "source": [
    "area = 10\n",
    "print('area의 주소 :', id(area))\n",
    "print('area의 타입 :', type(area))"
   ]
  },
  {
   "cell_type": "code",
   "execution_count": 10,
   "id": "35d3ea60",
   "metadata": {},
   "outputs": [
    {
     "name": "stdout",
     "output_type": "stream",
     "text": [
      "area의 주소 : 1191795062800\n",
      "area의 타입 : <class 'str'>\n"
     ]
    }
   ],
   "source": [
    "area = \"파이썬\"\n",
    "print('area의 주소 :', id(area))\n",
    "print('area의 타입 :', type(area))"
   ]
  },
  {
   "cell_type": "markdown",
   "id": "b2d48480",
   "metadata": {},
   "source": [
    "## 1.2 변수(함수) 이름 규칙\n",
    "- 문자로 시작\n",
    "- 문자(특수문자는 _ 외에는 불가), 숫자, _로 변수명 작성\n",
    "- 함수명은 변수명으로 가능하나 피한다. 꼭 써야 한다면 str_식으로 사용한다\n",
    "- 파이썬 예약어(for, if,...)는 변수명 사용 불가\n",
    "- 한글 변수는 꼭 필요시에만 사용"
   ]
  },
  {
   "cell_type": "code",
   "execution_count": 15,
   "id": "e2cad8d4",
   "metadata": {},
   "outputs": [
    {
     "name": "stdout",
     "output_type": "stream",
     "text": [
      "홍길동\n"
     ]
    }
   ],
   "source": [
    "이름 = \"홍길동\" # 비추\n",
    "print(이름)"
   ]
  },
  {
   "cell_type": "code",
   "execution_count": 11,
   "id": "37f81524",
   "metadata": {},
   "outputs": [
    {
     "data": {
      "text/plain": [
       "'2'"
      ]
     },
     "execution_count": 11,
     "metadata": {},
     "output_type": "execute_result"
    }
   ],
   "source": [
    "str(2)"
   ]
  },
  {
   "cell_type": "code",
   "execution_count": null,
   "id": "5ecdc615",
   "metadata": {},
   "outputs": [],
   "source": []
  },
  {
   "cell_type": "code",
   "execution_count": null,
   "id": "3db10750",
   "metadata": {},
   "outputs": [],
   "source": []
  },
  {
   "cell_type": "code",
   "execution_count": null,
   "id": "7691716b",
   "metadata": {},
   "outputs": [],
   "source": []
  },
  {
   "cell_type": "code",
   "execution_count": null,
   "id": "36c6a215",
   "metadata": {},
   "outputs": [],
   "source": []
  },
  {
   "cell_type": "code",
   "execution_count": null,
   "id": "8b443030",
   "metadata": {},
   "outputs": [],
   "source": []
  },
  {
   "cell_type": "code",
   "execution_count": null,
   "id": "f5d4a5d9",
   "metadata": {},
   "outputs": [],
   "source": []
  }
 ],
 "metadata": {
  "kernelspec": {
   "display_name": "Python 3 (ipykernel)",
   "language": "python",
   "name": "python3"
  },
  "language_info": {
   "codemirror_mode": {
    "name": "ipython",
    "version": 3
   },
   "file_extension": ".py",
   "mimetype": "text/x-python",
   "name": "python",
   "nbconvert_exporter": "python",
   "pygments_lexer": "ipython3",
   "version": "3.10.9"
  },
  "toc": {
   "base_numbering": 1,
   "nav_menu": {},
   "number_sections": false,
   "sideBar": true,
   "skip_h1_title": false,
   "title_cell": "Table of Contents",
   "title_sidebar": "Contents",
   "toc_cell": false,
   "toc_position": {
    "height": "calc(100% - 180px)",
    "left": "10px",
    "top": "150px",
    "width": "165px"
   },
   "toc_section_display": true,
   "toc_window_display": true
  }
 },
 "nbformat": 4,
 "nbformat_minor": 5
}
