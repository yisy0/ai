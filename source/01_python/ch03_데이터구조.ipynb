{
 "cells": [
  {
   "cell_type": "code",
   "execution_count": 2,
   "id": "c5595e06",
   "metadata": {},
   "outputs": [
    {
     "data": {
      "text/html": [
       "\n",
       "<style>\n",
       "div.container{width:90% !important;}\n",
       "div.cell.code_cell.rendered{width:100%;}\n",
       "div.input_prompt{padding:0px;}\n",
       "div.CodeMirror {font-family:Consolas; font-size:22pt;}\n",
       "div.text_cell_render.rendered_html{font-size:22pt;}\n",
       "div.output {font-size:22pt; font-weight:bold;}\n",
       "div.input {font-family:Consolas; font-size:22pt;}\n",
       "div.prompt {min-width:70px;}\n",
       "div#toc-wrapper{padding-top:120px;}\n",
       "div.text_cell_render ul li{font-size:22pt;padding:5px;}\n",
       "table.dataframe{font-size:22px;}\n",
       "</style>\n"
      ],
      "text/plain": [
       "<IPython.core.display.HTML object>"
      ]
     },
     "metadata": {},
     "output_type": "display_data"
    }
   ],
   "source": [
    "from IPython.display import display, HTML\n",
    "display(HTML(\"\"\"\n",
    "<style>\n",
    "div.container{width:90% !important;}\n",
    "div.cell.code_cell.rendered{width:100%;}\n",
    "div.input_prompt{padding:0px;}\n",
    "div.CodeMirror {font-family:Consolas; font-size:22pt;}\n",
    "div.text_cell_render.rendered_html{font-size:22pt;}\n",
    "div.output {font-size:22pt; font-weight:bold;}\n",
    "div.input {font-family:Consolas; font-size:22pt;}\n",
    "div.prompt {min-width:70px;}\n",
    "div#toc-wrapper{padding-top:120px;}\n",
    "div.text_cell_render ul li{font-size:22pt;padding:5px;}\n",
    "table.dataframe{font-size:22px;}\n",
    "</style>\n",
    "\"\"\"))"
   ]
  },
  {
   "cell_type": "markdown",
   "id": "cb85f659",
   "metadata": {},
   "source": [
    "<b><font size=\"7\" color=\"red\">ch03. 데이터구조</font></b>\n",
    "- 리스트[80,\"20\"], 튜플(90,20), 딕셔너리{\"name\":\"홍\",\"score\":50}, 셋{10,20}\n",
    "\n",
    "# 1절 리스트\n",
    "## 1.1 리스트 만들기\n",
    "- []를 이용해서 만들며, 여러개 값(여러 타입)을 하나의 변수에 저장/관리할 수 있음\n",
    "- list()함수 이용도 가능 \n",
    "- 인덱스 : 각 요소의 위치. 인덱스는 0부터 시작. 맨마지막 인덱스는 -1\n",
    "- 슬라이싱([from:to:step]) : 부분 데이터셋 추출\n",
    "- 인덱스와 슬라이싱을 이용해서 쓰기와 읽기 지원"
   ]
  },
  {
   "cell_type": "code",
   "execution_count": 2,
   "id": "40936ce0",
   "metadata": {},
   "outputs": [
    {
     "data": {
      "text/plain": [
       "list"
      ]
     },
     "execution_count": 2,
     "metadata": {},
     "output_type": "execute_result"
    }
   ],
   "source": [
    "fruit = 'banana'\n",
    "fruits = ['banana', 'apple', 'orange', 'grape']\n",
    "type(fruits)"
   ]
  },
  {
   "cell_type": "code",
   "execution_count": 12,
   "id": "2f41892b",
   "metadata": {},
   "outputs": [
    {
     "name": "stdout",
     "output_type": "stream",
     "text": [
      "['banana', 'apple', 'orange', 'grape']\n",
      "grape\n"
     ]
    }
   ],
   "source": [
    "print(fruits)\n",
    "print(fruits[3]) # 인덱싱을 이용한 읽기\n",
    "# print(fruits[4]) # 없는 인덱싱시 에러"
   ]
  },
  {
   "cell_type": "code",
   "execution_count": 13,
   "id": "310982a0",
   "metadata": {},
   "outputs": [
    {
     "name": "stdout",
     "output_type": "stream",
     "text": [
      "['mango', 'apple', 'orange', 'grape']\n"
     ]
    }
   ],
   "source": [
    "fruits[0] = 'mango' # 인덱싱을 이용한 쓰기\n",
    "print(fruits)"
   ]
  },
  {
   "cell_type": "code",
   "execution_count": 16,
   "id": "433f999e",
   "metadata": {},
   "outputs": [
    {
     "name": "stdout",
     "output_type": "stream",
     "text": [
      "x=mango\n",
      "y=apple\n",
      "z=orange\n"
     ]
    }
   ],
   "source": [
    "fruits = ['mango', 'apple','orange']\n",
    "x, y, z = ['mango', 'apple','orange']\n",
    "print(\"x={}\".format(x))\n",
    "print(f\"y={y}\")\n",
    "print(f\"z={z}\")"
   ]
  },
  {
   "cell_type": "code",
   "execution_count": 18,
   "id": "c0929f0f",
   "metadata": {},
   "outputs": [
    {
     "data": {
      "text/plain": [
       "range(0, 10)"
      ]
     },
     "execution_count": 18,
     "metadata": {},
     "output_type": "execute_result"
    }
   ],
   "source": [
    "# range(from, to, by) : from부터 to앞까지 by씩 증가하는 나열 가능한 자료\n",
    "        # 숫자를 순차적으로 사용할 수 있게\n",
    "        # from 생략시 0, by생략시 1\n",
    "range(10) # [0,1,2,3,4,5,6,7,8,9]"
   ]
  },
  {
   "cell_type": "code",
   "execution_count": 19,
   "id": "fdf46bc7",
   "metadata": {},
   "outputs": [
    {
     "data": {
      "text/plain": [
       "[0, 1, 2, 3, 4, 5, 6, 7, 8, 9]"
      ]
     },
     "execution_count": 19,
     "metadata": {},
     "output_type": "execute_result"
    }
   ],
   "source": [
    "list(range(10))"
   ]
  },
  {
   "cell_type": "code",
   "execution_count": 21,
   "id": "39ca3a22",
   "metadata": {},
   "outputs": [
    {
     "data": {
      "text/plain": [
       "[10, 8, 6, 4, 2, 0]"
      ]
     },
     "execution_count": 21,
     "metadata": {},
     "output_type": "execute_result"
    }
   ],
   "source": [
    "list(range(10, -1, -2))"
   ]
  },
  {
   "cell_type": "code",
   "execution_count": 26,
   "id": "24c7ef30",
   "metadata": {},
   "outputs": [
    {
     "name": "stdout",
     "output_type": "stream",
     "text": [
      "0\n",
      "1\n",
      "2\n"
     ]
    }
   ],
   "source": [
    "for i in [0,1,2]:\n",
    "    print(i)"
   ]
  },
  {
   "cell_type": "code",
   "execution_count": 27,
   "id": "693bb9c6",
   "metadata": {},
   "outputs": [
    {
     "name": "stdout",
     "output_type": "stream",
     "text": [
      "0\n",
      "1\n",
      "2\n"
     ]
    }
   ],
   "source": [
    "for i in range(3):\n",
    "    print(i)"
   ]
  },
  {
   "cell_type": "code",
   "execution_count": 34,
   "id": "8e2a165b",
   "metadata": {},
   "outputs": [
    {
     "name": "stdout",
     "output_type": "stream",
     "text": [
      "0번째 과일은 mango\n",
      "1번째 과일은 apple\n",
      "2번째 과일은 orange\n"
     ]
    }
   ],
   "source": [
    "fruits = ['mango', 'apple', 'orange']\n",
    "# print(\"{}번째 과일은 {}\".format(0, fruits[0]))\n",
    "# print(\"{}번째 과일은 {}\".format(1, fruits[1]))\n",
    "# print(\"{}번째 과일은 {}\".format(2, fruits[2]))\n",
    "for idx in range(len(fruits)):\n",
    "    print(\"{}번째 과일은 {}\".format(idx, fruits[idx]))"
   ]
  },
  {
   "cell_type": "code",
   "execution_count": 36,
   "id": "d5499fb8",
   "metadata": {},
   "outputs": [
    {
     "data": {
      "text/plain": [
       "[(0, 'mango'), (1, 'apple'), (2, 'orange')]"
      ]
     },
     "execution_count": 36,
     "metadata": {},
     "output_type": "execute_result"
    }
   ],
   "source": [
    "list(enumerate(fruits))"
   ]
  },
  {
   "cell_type": "code",
   "execution_count": 38,
   "id": "237b3d6d",
   "metadata": {},
   "outputs": [
    {
     "name": "stdout",
     "output_type": "stream",
     "text": [
      "0번째 과일은 mango\n",
      "1번째 과일은 apple\n",
      "2번째 과일은 orange\n"
     ]
    }
   ],
   "source": [
    "for i, fruit in enumerate(fruits): #[(0, 'mango'), (1, 'apple'), (2, 'orange')]:\n",
    "    print(f\"{i}번째 과일은 {fruit}\")"
   ]
  },
  {
   "cell_type": "code",
   "execution_count": 40,
   "id": "e26bcdb0",
   "metadata": {},
   "outputs": [
    {
     "name": "stdout",
     "output_type": "stream",
     "text": [
      "mango입니다\n",
      "apple입니다\n",
      "orange입니다\n"
     ]
    }
   ],
   "source": [
    "for fruit in fruits: # ['mango','apple','orange']\n",
    "    print(f\"{fruit}입니다\")"
   ]
  },
  {
   "cell_type": "code",
   "execution_count": 47,
   "id": "3e2ddd22",
   "metadata": {},
   "outputs": [
    {
     "data": {
      "text/plain": [
       "('2', 5)"
      ]
     },
     "execution_count": 47,
     "metadata": {},
     "output_type": "execute_result"
    }
   ],
   "source": [
    "# 리스트는 여러 타입의 데이터를 담을 수 있음\n",
    "numbers = [0, True, \"2\", [2,3], [4,5,6]]\n",
    "numbers[2], numbers[4][1]"
   ]
  },
  {
   "cell_type": "code",
   "execution_count": 50,
   "id": "12de6ef3",
   "metadata": {},
   "outputs": [
    {
     "name": "stdout",
     "output_type": "stream",
     "text": [
      "[[1, 2, 3, 4, 5], [10, 20, 30, 40, 50], [1, 3, 5, 7, 9], [2, 4, 6, 8, 10]]\n"
     ]
    }
   ],
   "source": [
    "# 2차원 리스트\n",
    "numbers = [1,2,3,4,5]\n",
    "            # 0열 1열 2열 3열 4열\n",
    "numbers_2d = [[1,2,3,4,5],   # 0행\n",
    "              [10,20,30,40,50], # 1행\n",
    "              [1,3,5,7,9],  # 2행\n",
    "              [2,4,6,8,10]] # 3행\n",
    "print(numbers_2d)"
   ]
  },
  {
   "cell_type": "code",
   "execution_count": 54,
   "id": "92930cd5",
   "metadata": {},
   "outputs": [
    {
     "data": {
      "text/plain": [
       "50"
      ]
     },
     "execution_count": 54,
     "metadata": {},
     "output_type": "execute_result"
    }
   ],
   "source": [
    "# 특정행, 특정열 데이터 인덱싱\n",
    "numbers_2d[1][4]"
   ]
  },
  {
   "cell_type": "code",
   "execution_count": 56,
   "id": "0b3459d8",
   "metadata": {},
   "outputs": [
    {
     "name": "stdout",
     "output_type": "stream",
     "text": [
      "4 5\n"
     ]
    }
   ],
   "source": [
    "print(len(numbers_2d), len(numbers_2d[0]))"
   ]
  },
  {
   "cell_type": "code",
   "execution_count": 59,
   "id": "7427c1b5",
   "metadata": {},
   "outputs": [
    {
     "name": "stdout",
     "output_type": "stream",
     "text": [
      "1\t2\t3\t4\t5\t\n",
      "10\t20\t30\t40\t50\t\n",
      "1\t3\t5\t7\t9\t\n",
      "2\t4\t6\t8\t10\t\n"
     ]
    }
   ],
   "source": [
    "for row in numbers_2d:\n",
    "    for item in row:\n",
    "        print(item, end='\\t')\n",
    "    print()"
   ]
  },
  {
   "cell_type": "code",
   "execution_count": 68,
   "id": "2696b910",
   "metadata": {},
   "outputs": [
    {
     "name": "stdout",
     "output_type": "stream",
     "text": [
      "0행0열 : 1\t0행1열 : 2\t0행2열 : 3\t0행3열 : 4\t0행4열 : 5\t\n",
      "1행0열 : 10\t1행1열 : 20\t1행2열 : 30\t1행3열 : 40\t1행4열 : 50\t\n",
      "2행0열 : 1\t2행1열 : 3\t2행2열 : 5\t2행3열 : 7\t2행4열 : 9\t\n",
      "3행0열 : 2\t3행1열 : 4\t3행2열 : 6\t3행3열 : 8\t3행4열 : 10\t\n"
     ]
    }
   ],
   "source": [
    "for i in range(len(numbers_2d)): # i : 행\n",
    "    for j in range(len(numbers_2d[i])): # j:열\n",
    "        print(f\"{i}행{j}열 : {numbers_2d[i][j]}\", end=\"\\t\")\n",
    "    print() # 개행"
   ]
  },
  {
   "cell_type": "code",
   "execution_count": 64,
   "id": "e230550c",
   "metadata": {},
   "outputs": [
    {
     "data": {
      "text/plain": [
       "(4, 5, 5, 5)"
      ]
     },
     "execution_count": 64,
     "metadata": {},
     "output_type": "execute_result"
    }
   ],
   "source": [
    "len(numbers_2d), len(numbers_2d[0]), len(numbers_2d[1]), len(numbers_2d[2])"
   ]
  },
  {
   "cell_type": "code",
   "execution_count": 70,
   "id": "3f9189b2",
   "metadata": {},
   "outputs": [
    {
     "data": {
      "text/plain": [
       "([(0, [1, 2, 3, 4, 5]),\n",
       "  (1, [10, 20, 30, 40, 50]),\n",
       "  (2, [1, 3, 5, 7, 9]),\n",
       "  (3, [2, 4, 6, 8, 10])],\n",
       " [(0, 1), (1, 2), (2, 3), (3, 4), (4, 5)])"
      ]
     },
     "execution_count": 70,
     "metadata": {},
     "output_type": "execute_result"
    }
   ],
   "source": [
    "list(enumerate(numbers_2d)), list(enumerate(numbers_2d[0]))"
   ]
  },
  {
   "cell_type": "code",
   "execution_count": 72,
   "id": "98c5b9af",
   "metadata": {},
   "outputs": [
    {
     "name": "stdout",
     "output_type": "stream",
     "text": [
      "0행0열 : 1\t0행1열 : 2\t0행2열 : 3\t0행3열 : 4\t0행4열 : 5\t\n",
      "1행0열 : 10\t1행1열 : 20\t1행2열 : 30\t1행3열 : 40\t1행4열 : 50\t\n",
      "2행0열 : 1\t2행1열 : 3\t2행2열 : 5\t2행3열 : 7\t2행4열 : 9\t\n",
      "3행0열 : 2\t3행1열 : 4\t3행2열 : 6\t3행3열 : 8\t3행4열 : 10\t\n"
     ]
    }
   ],
   "source": [
    "for i, row in enumerate(numbers_2d):\n",
    "    for j, item in enumerate(numbers_2d[i]):\n",
    "        print(\"{}행{}열 : {}\".format(i, j, numbers_2d[i][j]), end=\"\\t\")\n",
    "    print() # 개행"
   ]
  },
  {
   "cell_type": "markdown",
   "id": "fd366832",
   "metadata": {},
   "source": [
    "## 1.2 기본 정보 조회"
   ]
  },
  {
   "cell_type": "code",
   "execution_count": 75,
   "id": "b6c5b5d9",
   "metadata": {},
   "outputs": [],
   "source": [
    "numbers = [1,12,3,4,5]\n",
    "numbers_2d = [[100,0,1],\n",
    "              [9,100,100],\n",
    "              [59,100,130]]"
   ]
  },
  {
   "cell_type": "code",
   "execution_count": 76,
   "id": "d63782c5",
   "metadata": {},
   "outputs": [
    {
     "data": {
      "text/plain": [
       "(5, 3)"
      ]
     },
     "execution_count": 76,
     "metadata": {},
     "output_type": "execute_result"
    }
   ],
   "source": [
    "# item 수\n",
    "len(numbers), len(numbers_2d)"
   ]
  },
  {
   "cell_type": "code",
   "execution_count": 80,
   "id": "8c33ea9b",
   "metadata": {},
   "outputs": [
    {
     "data": {
      "text/plain": [
       "(1, [9, 100, 100], 12, [100, 0, 1])"
      ]
     },
     "execution_count": 80,
     "metadata": {},
     "output_type": "execute_result"
    }
   ],
   "source": [
    "# 최소값, 최대값\n",
    "# 2차원 list의 최소/최대값 : 부분리스트 중 첫요소가 가장 작은값/큰값\n",
    "min(numbers), min(numbers_2d), max(numbers), max(numbers_2d)"
   ]
  },
  {
   "cell_type": "code",
   "execution_count": 81,
   "id": "5612a861",
   "metadata": {},
   "outputs": [
    {
     "data": {
      "text/plain": [
       "('apple', 'orange')"
      ]
     },
     "execution_count": 81,
     "metadata": {},
     "output_type": "execute_result"
    }
   ],
   "source": [
    "# list의 데이터가 문자일 경우 ascii 코드값으로 min과 max적용\n",
    "fruits = ['mango', 'apple', 'orange']\n",
    "min(fruits), max(fruits)"
   ]
  },
  {
   "cell_type": "code",
   "execution_count": 90,
   "id": "897d2362",
   "metadata": {},
   "outputs": [
    {
     "name": "stdout",
     "output_type": "stream",
     "text": [
      "오름차순 정렬 : [1, 3, 4, 5, 12]\n",
      "내림차순 정렬 : [12, 5, 4, 3, 1]\n",
      "합 : 25\n",
      "평균 : 5.0\n",
      "sorted 함수 사용시 리스트의 내용이 바뀌지 않음 : [1, 12, 3, 4, 5]\n"
     ]
    }
   ],
   "source": [
    "# 정렬하기\n",
    "numbers = [1,12,3,4,5]\n",
    "print(\"오름차순 정렬 :\", sorted(numbers))\n",
    "print(\"내림차순 정렬 :\", sorted(numbers, reverse=True))\n",
    "print(\"합 :\", sum(numbers))\n",
    "print(\"평균 :\", sum(numbers)/len(numbers))\n",
    "print(\"sorted 함수 사용시 리스트의 내용이 바뀌지 않음 :\", numbers)"
   ]
  },
  {
   "cell_type": "markdown",
   "id": "76a2b48a",
   "metadata": {},
   "source": [
    "## 1.3 요소추가\n",
    "\n",
    "\n",
    "- `+` : 두 리스트 연결\n",
    "- `*` : 리스를 곱한 수만큼 반복\n",
    "- `append()` : 요소 맨 뒤에 추가\n",
    "- `extend(리스트)` : 리스트를 요소별로 맨 뒤에 추가\n",
    "- `insert(idx, 값)` : idx번째 인덱스 위치에 값 추가"
   ]
  },
  {
   "cell_type": "code",
   "execution_count": 93,
   "id": "be2fc976",
   "metadata": {},
   "outputs": [
    {
     "data": {
      "text/plain": [
       "[1, 2, 3, 1, 2, 3]"
      ]
     },
     "execution_count": 93,
     "metadata": {},
     "output_type": "execute_result"
    }
   ],
   "source": [
    "numbers = [1, 2, 3]\n",
    "numbers = numbers + numbers # 리스트 연결\n",
    "numbers"
   ]
  },
  {
   "cell_type": "code",
   "execution_count": 96,
   "id": "a4da53d7",
   "metadata": {},
   "outputs": [
    {
     "name": "stdout",
     "output_type": "stream",
     "text": [
      "[1, 2, 3, 1, 2, 3, 1, 2, 3]\n",
      "[1, 2, 3, 1, 2, 3, 1, 2, 3]\n"
     ]
    }
   ],
   "source": [
    "numbers = [1, 2, 3]\n",
    "print(numbers*3) # 곱한 수만큼 반복\n",
    "print(3*numbers)"
   ]
  },
  {
   "cell_type": "code",
   "execution_count": 98,
   "id": "01860436",
   "metadata": {},
   "outputs": [
    {
     "data": {
      "text/plain": [
       "[1, 2, 3, 4, 4]"
      ]
     },
     "execution_count": 98,
     "metadata": {},
     "output_type": "execute_result"
    }
   ],
   "source": [
    "numbers.append(4) # 맨 뒤에 4추가\n",
    "numbers"
   ]
  },
  {
   "cell_type": "code",
   "execution_count": 99,
   "id": "7155c091",
   "metadata": {},
   "outputs": [
    {
     "data": {
      "text/plain": [
       "[1, 2, 3, 4, 4, [5, 6, 7]]"
      ]
     },
     "execution_count": 99,
     "metadata": {},
     "output_type": "execute_result"
    }
   ],
   "source": [
    "numbers.append([5,6,7]) # 맨 뒤 요소에 [5,6,7] 추가\n",
    "numbers"
   ]
  },
  {
   "cell_type": "code",
   "execution_count": 102,
   "id": "d7010bae",
   "metadata": {},
   "outputs": [
    {
     "data": {
      "text/plain": [
       "[1, 2, 3, 4, 5, 6]"
      ]
     },
     "execution_count": 102,
     "metadata": {},
     "output_type": "execute_result"
    }
   ],
   "source": [
    "numbers = [1, 2, 3]\n",
    "numbers.extend([4,5,6]) # 맨 뒤에 요소별로 4, 5, 6 각각 추가\n",
    "numbers"
   ]
  },
  {
   "cell_type": "code",
   "execution_count": 103,
   "id": "5abd4b19",
   "metadata": {},
   "outputs": [
    {
     "data": {
      "text/plain": [
       "['a', 'b', 'c', 'd']"
      ]
     },
     "execution_count": 103,
     "metadata": {},
     "output_type": "execute_result"
    }
   ],
   "source": [
    "lst = ['a', 'b', 'c']\n",
    "lst.append('d')\n",
    "lst"
   ]
  },
  {
   "cell_type": "code",
   "execution_count": 104,
   "id": "ba46b1bf",
   "metadata": {},
   "outputs": [
    {
     "data": {
      "text/plain": [
       "['a', 'b', 'c', 'd', 'hello']"
      ]
     },
     "execution_count": 104,
     "metadata": {},
     "output_type": "execute_result"
    }
   ],
   "source": [
    "lst.append('hello')\n",
    "lst"
   ]
  },
  {
   "cell_type": "code",
   "execution_count": 105,
   "id": "22b7af91",
   "metadata": {},
   "outputs": [
    {
     "data": {
      "text/plain": [
       "['a', 'b', 'c', 'd', 'hello', 'h', 'e', 'l', 'l', 'o']"
      ]
     },
     "execution_count": 105,
     "metadata": {},
     "output_type": "execute_result"
    }
   ],
   "source": [
    "lst.extend('hello')\n",
    "lst"
   ]
  },
  {
   "cell_type": "code",
   "execution_count": 109,
   "id": "cac311e2",
   "metadata": {},
   "outputs": [
    {
     "data": {
      "text/plain": [
       "[1, 'xx', 2, 3, 4, 5]"
      ]
     },
     "execution_count": 109,
     "metadata": {},
     "output_type": "execute_result"
    }
   ],
   "source": [
    "numbers = [1, 2, 3, 4, 5]\n",
    "numbers.insert(1, 'xx') # 1번째 인덱스에 'xx' 추가\n",
    "numbers"
   ]
  },
  {
   "cell_type": "markdown",
   "id": "6dbe18d4",
   "metadata": {},
   "source": [
    "## 1.4 인덱싱과 요소 갯수\n",
    "- list변수[index] : 인덱스를 이용한 접근\n",
    "- index(찾을데이터) : 해당 찾을 데이터가 있는 요소의 index를 반환\n",
    "- 찾을데이터 in list변수 : 찾을데이터가 리스트변수의 요소인지 여부\n",
    "- count(찾을데이터) : 리스트에서 해당 찾을데이터의 갯수 반환"
   ]
  },
  {
   "cell_type": "code",
   "execution_count": 2,
   "id": "7a6b76e1",
   "metadata": {},
   "outputs": [
    {
     "data": {
      "text/plain": [
       "(2, 1)"
      ]
     },
     "execution_count": 2,
     "metadata": {},
     "output_type": "execute_result"
    }
   ],
   "source": [
    "numbers = [1, 2, 3, [1, 2, 3], 1, 2, 3]\n",
    "numbers.count(2), numbers.count([1,2,3])"
   ]
  },
  {
   "cell_type": "code",
   "execution_count": 112,
   "id": "20621596",
   "metadata": {},
   "outputs": [
    {
     "data": {
      "text/plain": [
       "0"
      ]
     },
     "execution_count": 112,
     "metadata": {},
     "output_type": "execute_result"
    }
   ],
   "source": [
    "numbers.count(5)"
   ]
  },
  {
   "cell_type": "code",
   "execution_count": 114,
   "id": "f5d11a79",
   "metadata": {},
   "outputs": [
    {
     "name": "stdout",
     "output_type": "stream",
     "text": [
      "True\n",
      "False\n"
     ]
    }
   ],
   "source": [
    "print(2 in numbers) # 2가 numbers의 요소인지 여부\n",
    "print(5 in numbers)"
   ]
  },
  {
   "cell_type": "code",
   "execution_count": 4,
   "id": "3c16b3f8",
   "metadata": {},
   "outputs": [
    {
     "ename": "ValueError",
     "evalue": "5 is not in list",
     "output_type": "error",
     "traceback": [
      "\u001b[1;31m---------------------------------------------------------------------------\u001b[0m",
      "\u001b[1;31mValueError\u001b[0m                                Traceback (most recent call last)",
      "Cell \u001b[1;32mIn[4], line 1\u001b[0m\n\u001b[1;32m----> 1\u001b[0m \u001b[43mnumbers\u001b[49m\u001b[38;5;241;43m.\u001b[39;49m\u001b[43mindex\u001b[49m\u001b[43m(\u001b[49m\u001b[38;5;241;43m5\u001b[39;49m\u001b[43m)\u001b[49m\n",
      "\u001b[1;31mValueError\u001b[0m: 5 is not in list"
     ]
    }
   ],
   "source": [
    "numbers.index(5)"
   ]
  },
  {
   "cell_type": "code",
   "execution_count": 6,
   "id": "603975ac",
   "metadata": {},
   "outputs": [
    {
     "name": "stdout",
     "output_type": "stream",
     "text": [
      "5가 요소에 포함되지 않습니다\n"
     ]
    }
   ],
   "source": [
    "if 5 in numbers:\n",
    "    print(numbers.index(5))\n",
    "else:\n",
    "    print('5가 요소에 포함되지 않습니다')"
   ]
  },
  {
   "cell_type": "code",
   "execution_count": 7,
   "id": "7383fd18",
   "metadata": {},
   "outputs": [
    {
     "name": "stdout",
     "output_type": "stream",
     "text": [
      "5가 요소에 포함되지 않습니다\n"
     ]
    }
   ],
   "source": [
    "if numbers.count(5):\n",
    "    print(numbers.index(5))\n",
    "else:\n",
    "    print('5가 요소에 포함되지 않습니다')"
   ]
  },
  {
   "cell_type": "code",
   "execution_count": 17,
   "id": "5f2d76e4",
   "metadata": {},
   "outputs": [],
   "source": [
    "def safe_index(lst, item):\n",
    "    \"\"\"첫번째 매개변수 lst에서 item 요소가 있는 index를 반환. \n",
    "    item 요소가 없으면 -1 반환\"\"\"\n",
    "    if item in lst:\n",
    "        return lst.index(item)\n",
    "    return -1"
   ]
  },
  {
   "cell_type": "code",
   "execution_count": 4,
   "id": "e3fdeb42",
   "metadata": {},
   "outputs": [
    {
     "data": {
      "text/plain": [
       "(1, -1)"
      ]
     },
     "execution_count": 4,
     "metadata": {},
     "output_type": "execute_result"
    }
   ],
   "source": [
    "from lst import safe_index # lst.py(모듈)안의 safe_index를 메모리에 load\n",
    "numbers = [1, 2, 3]\n",
    "safe_index(numbers, 2), safe_index(numbers, 5)"
   ]
  },
  {
   "cell_type": "code",
   "execution_count": 7,
   "id": "c8424095",
   "metadata": {
    "collapsed": true
   },
   "outputs": [
    {
     "ename": "IndexError",
     "evalue": "list index out of range",
     "output_type": "error",
     "traceback": [
      "\u001b[1;31m---------------------------------------------------------------------------\u001b[0m",
      "\u001b[1;31mIndexError\u001b[0m                                Traceback (most recent call last)",
      "Cell \u001b[1;32mIn[7], line 1\u001b[0m\n\u001b[1;32m----> 1\u001b[0m \u001b[43mnumbers\u001b[49m\u001b[43m[\u001b[49m\u001b[38;5;241;43m5\u001b[39;49m\u001b[43m]\u001b[49m\n",
      "\u001b[1;31mIndexError\u001b[0m: list index out of range"
     ]
    }
   ],
   "source": [
    "numbers[5] #  벗어난 인덱스로 인덱싱 시 에러"
   ]
  },
  {
   "cell_type": "code",
   "execution_count": 10,
   "id": "8478b97a",
   "metadata": {},
   "outputs": [
    {
     "data": {
      "text/plain": [
       "[2, 3]"
      ]
     },
     "execution_count": 10,
     "metadata": {},
     "output_type": "execute_result"
    }
   ],
   "source": [
    "numbers[1:5] # 벗어난 인덱스로 슬라이싱 시 에러가 안 남"
   ]
  },
  {
   "cell_type": "markdown",
   "id": "2ef2f1e4",
   "metadata": {},
   "source": [
    "## 1.5 원하는 요소 추출\n",
    "1. 리스트 슬라이싱\n",
    "    - [from:to:step] from번째부터 to앞까지 step씩 증가하는 index값을 추출\n",
    "        * from 생략시 처음, to 생략시 끝, step생략시 1\n",
    "    - 인덱스의 범위를 벗어난 값도 에러나지 않음\n",
    "    - 인덱스는 음수 가능\n",
    "\n",
    "2. **리스트컴프리헨션** : 원하는 조건의 데이터 추출"
   ]
  },
  {
   "cell_type": "code",
   "execution_count": 15,
   "id": "4198c833",
   "metadata": {},
   "outputs": [
    {
     "name": "stdout",
     "output_type": "stream",
     "text": [
      "[20, 19, 18, 13, 12, 10, 9, 5, 3, 1]\n",
      "[1, 5, 10, 13, 19]\n",
      "[5, 9, 10, 12, 13, 18, 19, 20]\n"
     ]
    }
   ],
   "source": [
    "numbers = [1, 3, 5, 9, 10,12, 13, 18, 19, 20]\n",
    "print(numbers[::-1]) # 꺼꾸로 출력\n",
    "print(numbers[0::2]) # 짝수 index 값 출력\n",
    "print(numbers[2:100]) # 인덱스를 벗어난 슬라이싱 가능"
   ]
  },
  {
   "cell_type": "code",
   "execution_count": 17,
   "id": "12085075",
   "metadata": {},
   "outputs": [
    {
     "data": {
      "text/plain": [
       "[1, 3, 5, 9, 10, 12, 13, 18, 19, 20]"
      ]
     },
     "execution_count": 17,
     "metadata": {},
     "output_type": "execute_result"
    }
   ],
   "source": [
    "# 모든 데이터 추출\n",
    "numbers = [1, 3, 5, 9, 10,12, 13, 18, 19, 20]\n",
    "# for data in numbers:\n",
    "#     print(data, end=\"\\t\")\n",
    "[data for data in numbers]"
   ]
  },
  {
   "cell_type": "code",
   "execution_count": 19,
   "id": "609b8b59",
   "metadata": {},
   "outputs": [
    {
     "data": {
      "text/plain": [
       "[10, 12, 18, 20]"
      ]
     },
     "execution_count": 19,
     "metadata": {},
     "output_type": "execute_result"
    }
   ],
   "source": [
    "# 짝수 데이터 추출\n",
    "# for data in numbers:\n",
    "#     if data%2==0:\n",
    "#         print(data, end=\" \")\n",
    "[data for data in numbers if data%2==0]"
   ]
  },
  {
   "cell_type": "code",
   "execution_count": 23,
   "id": "b672dc58",
   "metadata": {},
   "outputs": [
    {
     "data": {
      "text/plain": [
       "[10, 12, 13, 18, 19, 20]"
      ]
     },
     "execution_count": 23,
     "metadata": {},
     "output_type": "execute_result"
    }
   ],
   "source": [
    "# ex1. numbers에서 10이상인 요소만 추출\n",
    "[item for item in numbers if item>=10]"
   ]
  },
  {
   "cell_type": "code",
   "execution_count": 25,
   "id": "f39a9f3f",
   "metadata": {},
   "outputs": [
    {
     "data": {
      "text/plain": [
       "['orange', 'apple', 'mango']"
      ]
     },
     "execution_count": 25,
     "metadata": {},
     "output_type": "execute_result"
    }
   ],
   "source": [
    "# ex2. fruits에서 과일의 글자가 5글자 이상인 과일만 추출\n",
    "fruits = ['orange', 'apple', 'mango', 'kiwi']\n",
    "[fruit for fruit in fruits if len(fruit)>=5]"
   ]
  },
  {
   "cell_type": "code",
   "execution_count": 26,
   "id": "a9a52923",
   "metadata": {},
   "outputs": [
    {
     "data": {
      "text/plain": [
       "[6, 5, 5, 4]"
      ]
     },
     "execution_count": 26,
     "metadata": {},
     "output_type": "execute_result"
    }
   ],
   "source": [
    "# ex2-1 fruits 리스트의 과일 글자수\n",
    "[len(fruit) for fruit in fruits]"
   ]
  },
  {
   "cell_type": "code",
   "execution_count": 28,
   "id": "68b3a55f",
   "metadata": {},
   "outputs": [
    {
     "data": {
      "text/plain": [
       "[9, 16, 25]"
      ]
     },
     "execution_count": 28,
     "metadata": {},
     "output_type": "execute_result"
    }
   ],
   "source": [
    "# ex3. 3이상인 요소들의 제곱을 추출\n",
    "L = [1,2,3,4,5]\n",
    "[l**2 for l in L if l>=3]"
   ]
  },
  {
   "cell_type": "code",
   "execution_count": 29,
   "id": "461ac771",
   "metadata": {},
   "outputs": [
    {
     "data": {
      "text/plain": [
       "[2, 4, 6, 8, 10]"
      ]
     },
     "execution_count": 29,
     "metadata": {},
     "output_type": "execute_result"
    }
   ],
   "source": [
    "# ex4. 리스트(L) 요소의 값의 2배를 추출\n",
    "[l*2 for l in L]"
   ]
  },
  {
   "cell_type": "markdown",
   "id": "a78929db",
   "metadata": {},
   "source": [
    "## 1.6 요소 수정하기\n",
    "- 인덱스, 슬라이싱을 이용해서 수정"
   ]
  },
  {
   "cell_type": "code",
   "execution_count": 30,
   "id": "e9a6172a",
   "metadata": {},
   "outputs": [
    {
     "data": {
      "text/plain": [
       "[0, 1, 222, 3, 4, 5, 6, 7, 8, 9]"
      ]
     },
     "execution_count": 30,
     "metadata": {},
     "output_type": "execute_result"
    }
   ],
   "source": [
    "numbers = [0,1,2,3,4,5,6,7,8,9]\n",
    "numbers[2] = 222\n",
    "numbers"
   ]
  },
  {
   "cell_type": "code",
   "execution_count": 31,
   "id": "a43fa813",
   "metadata": {},
   "outputs": [
    {
     "data": {
      "text/plain": [
       "['xx', 'xx', 'xx', 'xx', 'xx', 'xx', 'xx', 222, 3, 4, 5, 6, 7, 8, 9]"
      ]
     },
     "execution_count": 31,
     "metadata": {},
     "output_type": "execute_result"
    }
   ],
   "source": [
    "# 슬라이싱(step부분 미포함)을 이용하여 부분 리스트를 통째로 수정\n",
    "numbers[0:2] = ['xx','xx','xx','xx','xx','xx','xx']\n",
    "numbers"
   ]
  },
  {
   "cell_type": "code",
   "execution_count": 33,
   "id": "b41db322",
   "metadata": {},
   "outputs": [
    {
     "name": "stdout",
     "output_type": "stream",
     "text": [
      "수정전 : [0, 0, 0, 0, 0, 0, 0, 0, 0, 0]\n",
      "수정후 : [9, 0, 9, 0, 9, 0, 9, 0, 9, 0]\n"
     ]
    }
   ],
   "source": [
    "# 슬라이싱(step부분 포함)을 이용하여 부분 수정시 요소 갯수 맞아야 함\n",
    "numbers = [0]*10\n",
    "print('수정전 :', numbers)\n",
    "numbers[0::2] = [9,9,9,9,9]\n",
    "print('수정후 :', numbers)"
   ]
  },
  {
   "cell_type": "code",
   "execution_count": 34,
   "id": "cfd20be5",
   "metadata": {},
   "outputs": [
    {
     "ename": "ValueError",
     "evalue": "attempt to assign sequence of size 2 to extended slice of size 5",
     "output_type": "error",
     "traceback": [
      "\u001b[1;31m---------------------------------------------------------------------------\u001b[0m",
      "\u001b[1;31mValueError\u001b[0m                                Traceback (most recent call last)",
      "Cell \u001b[1;32mIn[34], line 1\u001b[0m\n\u001b[1;32m----> 1\u001b[0m numbers[::\u001b[38;5;241m2\u001b[39m] \u001b[38;5;241m=\u001b[39m [\u001b[38;5;241m1\u001b[39m,\u001b[38;5;241m1\u001b[39m]\n",
      "\u001b[1;31mValueError\u001b[0m: attempt to assign sequence of size 2 to extended slice of size 5"
     ]
    }
   ],
   "source": [
    "numbers[::2] = [1,1]"
   ]
  },
  {
   "cell_type": "markdown",
   "id": "d3ad5acc",
   "metadata": {},
   "source": [
    "## 1.7 요소삭제\n",
    "- pop() : 가장 마지막 인덱스의 요소가 반환되고 삭제\n",
    "- pop(idx) : idx번째 요소가 반환되고 삭제\n",
    "- remove(data) : list안의 data가 삭제\n",
    "- del 리스트변수[idx] : idx번째 요소가 삭제"
   ]
  },
  {
   "cell_type": "code",
   "execution_count": 43,
   "id": "4d554831",
   "metadata": {},
   "outputs": [
    {
     "name": "stdout",
     "output_type": "stream",
     "text": [
      "삭제한 데이터 : 5\n",
      "삭제 후 numbers : [1, 2, 3, 4]\n",
      "1번째 삭제한 데이터 : 2\n",
      "1번째 삭제 후 numbers : [1, 3, 4]\n",
      "데이터 1 삭제\n",
      "데이터 1 삭제 후 number : [3, 4]\n",
      "del numbers[1]\n",
      "[3]\n"
     ]
    }
   ],
   "source": [
    "numbers = [1,2,3,4,5]\n",
    "print(\"삭제한 데이터 :\", numbers.pop())\n",
    "print(\"삭제 후 numbers :\", numbers)\n",
    "print(\"1번째 삭제한 데이터 :\", numbers.pop(1))\n",
    "print(\"1번째 삭제 후 numbers :\", numbers)\n",
    "print(\"데이터 1 삭제\")\n",
    "numbers.remove(1)\n",
    "print(\"데이터 1 삭제 후 number :\", numbers)\n",
    "print(\"del numbers[1]\")\n",
    "del numbers[1]\n",
    "print(numbers)"
   ]
  },
  {
   "cell_type": "code",
   "execution_count": 45,
   "id": "0004a710",
   "metadata": {},
   "outputs": [
    {
     "name": "stdout",
     "output_type": "stream",
     "text": [
      "해당 데이터는 없는 item입니다\n"
     ]
    }
   ],
   "source": [
    "# numbers.remove(9)\n",
    "if 9 in numbers:\n",
    "    numbers.remove(9)\n",
    "else:\n",
    "    print(\"해당 데이터는 없는 item입니다\")"
   ]
  },
  {
   "cell_type": "code",
   "execution_count": 46,
   "id": "23bb288d",
   "metadata": {},
   "outputs": [
    {
     "data": {
      "text/plain": [
       "[]"
      ]
     },
     "execution_count": 46,
     "metadata": {},
     "output_type": "execute_result"
    }
   ],
   "source": [
    "numbers.clear() # 모든 요소를 삭제\n",
    "numbers"
   ]
  },
  {
   "cell_type": "markdown",
   "id": "41369d8e",
   "metadata": {},
   "source": [
    "## 1.8 정렬하기"
   ]
  },
  {
   "cell_type": "code",
   "execution_count": 50,
   "id": "19644ff1",
   "metadata": {},
   "outputs": [
    {
     "name": "stdout",
     "output_type": "stream",
     "text": [
      "numbers는 변경하지 않고, 정렬결과 : [0, 5, 6, 8, 9]\n",
      "numbers : [9, 5, 0, 8, 6]\n"
     ]
    }
   ],
   "source": [
    "numbers = [9, 5, 0, 8, 6]\n",
    "print(\"numbers는 변경하지 않고, 정렬결과 :\", sorted(numbers))\n",
    "print(\"numbers :\", numbers)"
   ]
  },
  {
   "cell_type": "code",
   "execution_count": 51,
   "id": "271251b8",
   "metadata": {},
   "outputs": [
    {
     "data": {
      "text/plain": [
       "[0, 5, 6, 8, 9]"
      ]
     },
     "execution_count": 51,
     "metadata": {},
     "output_type": "execute_result"
    }
   ],
   "source": [
    "numbers.sort() # numbers 자체가 오름차순 정렬한 결과로 바꿈\n",
    "numbers"
   ]
  },
  {
   "cell_type": "code",
   "execution_count": 52,
   "id": "9b50a9bf",
   "metadata": {},
   "outputs": [
    {
     "data": {
      "text/plain": [
       "[9, 8, 6, 5, 0]"
      ]
     },
     "execution_count": 52,
     "metadata": {},
     "output_type": "execute_result"
    }
   ],
   "source": [
    "numbers.sort(reverse=True) # numbers 자체가 내림차순 정렬한 결과로 바꿈\n",
    "numbers"
   ]
  },
  {
   "cell_type": "code",
   "execution_count": 53,
   "id": "e876ecb5",
   "metadata": {},
   "outputs": [
    {
     "data": {
      "text/plain": [
       "[0, 5, 6, 8, 9]"
      ]
     },
     "execution_count": 53,
     "metadata": {},
     "output_type": "execute_result"
    }
   ],
   "source": [
    "numbers.reverse() # 리스트를 역순으로 변경\n",
    "# numbers = numbers[::-1]\n",
    "numbers"
   ]
  },
  {
   "cell_type": "markdown",
   "id": "3f8e0428",
   "metadata": {},
   "source": [
    "## 1.9 리스트 복제"
   ]
  },
  {
   "cell_type": "code",
   "execution_count": 56,
   "id": "bce98123",
   "metadata": {},
   "outputs": [
    {
     "name": "stdout",
     "output_type": "stream",
     "text": [
      "원본i = 10, 복사본cp_i=10 / 원본주소=2466507850256, 복사본주소=2466507850256\n",
      "원본i = 10, 복사본cp_i=99 / 원본주소=2466507850256, 복사본주소=2466507853104\n"
     ]
    }
   ],
   "source": [
    "# 스칼라 데이터의 복제\n",
    "i = 10\n",
    "cp_i = i\n",
    "print(f\"원본i = {i}, 복사본cp_i={cp_i} / 원본주소={id(i)}, 복사본주소={id(cp_i)}\")\n",
    "cp_i = 99\n",
    "print(f\"원본i = {i}, 복사본cp_i={cp_i} / 원본주소={id(i)}, 복사본주소={id(cp_i)}\")"
   ]
  },
  {
   "cell_type": "code",
   "execution_count": 60,
   "id": "5c196f3e",
   "metadata": {},
   "outputs": [
    {
     "name": "stdout",
     "output_type": "stream",
     "text": [
      "원본 주소 : 2466625067776\n",
      "복제본 주소 : 2466625067776\n",
      "원본 내용 : [99, 6, 1, 9]\n",
      "복제본 내용 : [99, 6, 1, 9]\n",
      "원본 주소 : 2466625067776\n",
      "복제본 주소 : 2466625067776\n"
     ]
    }
   ],
   "source": [
    "# 데이터 구조의 할당\n",
    "numbers = [5, 6, 1, 9]\n",
    "new_numbers = numbers # 할당\n",
    "print('원본 주소 :', id(numbers))\n",
    "print('복제본 주소 :', id(new_numbers))\n",
    "new_numbers[0] = 99\n",
    "print(\"원본 내용 :\", numbers)\n",
    "print(\"복제본 내용 :\", new_numbers)\n",
    "print('원본 주소 :', id(numbers))\n",
    "print('복제본 주소 :', id(new_numbers))"
   ]
  },
  {
   "cell_type": "code",
   "execution_count": 62,
   "id": "70a165d5",
   "metadata": {},
   "outputs": [
    {
     "name": "stdout",
     "output_type": "stream",
     "text": [
      "원본 : [1, 5, 6, 9]\n",
      "복제본 : [1, 5, 6, 9]\n",
      "원본 주소 : 2466625062720\n",
      "복제본 주소 : 2466625062720\n"
     ]
    }
   ],
   "source": [
    "# 할당\n",
    "numbers = [5, 6, 1, 9]\n",
    "new_numbers = numbers\n",
    "new_numbers.sort()\n",
    "print(\"원본 :\", numbers)\n",
    "print(\"복제본 :\", new_numbers)\n",
    "print(\"원본 주소 :\", id(numbers))\n",
    "print(\"복제본 주소 :\", id(new_numbers))"
   ]
  },
  {
   "cell_type": "code",
   "execution_count": 65,
   "id": "a6060980",
   "metadata": {},
   "outputs": [
    {
     "name": "stdout",
     "output_type": "stream",
     "text": [
      "원본 : [5, 6, 1, 9]\n",
      "복제본 : [9, 6, 5, 1]\n",
      "원본 주소 : 2466633850112\n",
      "복제본 주소 : 2466633854912\n"
     ]
    }
   ],
   "source": [
    "# 리스트 복제(깊은 복사)\n",
    "numbers = [5, 6, 1, 9]\n",
    "new_numbers = numbers.copy() # numbers를 복제(깊은 복사)\n",
    "new_numbers.sort(reverse=True) # 내림차순 정렬\n",
    "print(\"원본 :\", numbers)\n",
    "print(\"복제본 :\", new_numbers)\n",
    "print(\"원본 주소 :\", id(numbers))\n",
    "print(\"복제본 주소 :\", id(new_numbers))"
   ]
  },
  {
   "cell_type": "code",
   "execution_count": 66,
   "id": "1ca3aa2e",
   "metadata": {},
   "outputs": [
    {
     "name": "stdout",
     "output_type": "stream",
     "text": [
      "정렬전 : ['서울', '대전', '대구', '부산', '하남', '수원', '제주']\n",
      "정렬후 : ['대구', '대전', '부산', '서울', '수원', '제주', '하남']\n"
     ]
    }
   ],
   "source": [
    "city = ['서울','대전','대구','부산','하남','수원','제주']\n",
    "temp = city.copy()\n",
    "temp.sort()\n",
    "print(\"정렬전 :\", city)\n",
    "print(\"정렬후 :\", temp)"
   ]
  },
  {
   "cell_type": "code",
   "execution_count": 68,
   "id": "903dad17",
   "metadata": {},
   "outputs": [
    {
     "name": "stdout",
     "output_type": "stream",
     "text": [
      "정렬전 : ['서울', '대전', '대구', '부산', '하남', '수원', '제주']\n",
      "정렬후 : []\n"
     ]
    }
   ],
   "source": [
    "temp.clear()\n",
    "print(\"정렬전 :\", city)\n",
    "print(\"정렬후 :\", temp)"
   ]
  },
  {
   "cell_type": "markdown",
   "id": "ee88c379",
   "metadata": {},
   "source": [
    "# 2절 튜플\n",
    "- 리스트([])와 유사하지만 읽기전용. 수정이 필요없는 데이터에서 사용\n",
    "- 수정이 불가하므로, 튜플에서 데이터 수정, 추가, 삭제 불가\n",
    "- 제공되는 함수도 많지 않음\n",
    "- ()이용해서 생성, tuple() 함수 이용"
   ]
  },
  {
   "cell_type": "code",
   "execution_count": 78,
   "id": "848db54f",
   "metadata": {},
   "outputs": [
    {
     "name": "stdout",
     "output_type": "stream",
     "text": [
      "<class 'tuple'>\n",
      "('서울', '대전', '대구', '부산', '하남')\n"
     ]
    }
   ],
   "source": [
    "# city = ('서울','대전','대구','부산','하남')\n",
    "# 파이썬은 여러개의 값이 전달될 때 튜플 타입으로 전달\n",
    "city = '서울','대전','대구','부산','하남'\n",
    "print(type(city))\n",
    "print(city)"
   ]
  },
  {
   "cell_type": "code",
   "execution_count": 73,
   "id": "c08617a5",
   "metadata": {},
   "outputs": [
    {
     "data": {
      "text/plain": [
       "'서울, 대전, 대구, 부산, 하남'"
      ]
     },
     "execution_count": 73,
     "metadata": {},
     "output_type": "execute_result"
    }
   ],
   "source": [
    "# 매개변수로 list가 오는 함수는 tuple 매개변수로 함수 사용\n",
    "\", \".join(city)"
   ]
  },
  {
   "cell_type": "code",
   "execution_count": 74,
   "id": "2ca3213a",
   "metadata": {},
   "outputs": [
    {
     "data": {
      "text/plain": [
       "1"
      ]
     },
     "execution_count": 74,
     "metadata": {},
     "output_type": "execute_result"
    }
   ],
   "source": [
    "from lst import safe_index\n",
    "safe_index(city, '대전')"
   ]
  },
  {
   "cell_type": "code",
   "execution_count": 2,
   "id": "bd851c6e",
   "metadata": {},
   "outputs": [
    {
     "name": "stdout",
     "output_type": "stream",
     "text": [
      "<class 'list'>\n",
      "['서울']\n",
      "1\n"
     ]
    }
   ],
   "source": [
    "l = ['서울'] # 요소가 하나 있는 리스트\n",
    "print(type(l))\n",
    "print(l)\n",
    "print(len(l))"
   ]
  },
  {
   "cell_type": "code",
   "execution_count": 83,
   "id": "d6668fe1",
   "metadata": {},
   "outputs": [
    {
     "name": "stdout",
     "output_type": "stream",
     "text": [
      "<class 'str'>\n",
      "서울\n",
      "2\n"
     ]
    }
   ],
   "source": [
    "city = ('서울') # 요소가 하나 있는 튜플(X) -> str\n",
    "print(type(city))\n",
    "print(city)\n",
    "print(len(city))"
   ]
  },
  {
   "cell_type": "code",
   "execution_count": 84,
   "id": "306e6fb4",
   "metadata": {},
   "outputs": [
    {
     "name": "stdout",
     "output_type": "stream",
     "text": [
      "<class 'tuple'>\n",
      "('서울',)\n",
      "1\n"
     ]
    }
   ],
   "source": [
    "city = ('서울', ) # 요소가 하나 있는 튜플(O)\n",
    "print(type(city))\n",
    "print(city)\n",
    "print(len(city))"
   ]
  },
  {
   "cell_type": "code",
   "execution_count": 3,
   "id": "f36b6363",
   "metadata": {},
   "outputs": [],
   "source": [
    "numbers = (1, 2, 3)\n",
    "# numbers.append(4) 수정하기 위한 함수는 제공되지 않음"
   ]
  },
  {
   "cell_type": "code",
   "execution_count": 88,
   "id": "75de0f2f",
   "metadata": {},
   "outputs": [
    {
     "data": {
      "text/plain": [
       "(1, 3, 6)"
      ]
     },
     "execution_count": 88,
     "metadata": {},
     "output_type": "execute_result"
    }
   ],
   "source": [
    "min(numbers), max(numbers), sum(numbers)"
   ]
  },
  {
   "cell_type": "code",
   "execution_count": 4,
   "id": "2b772821",
   "metadata": {},
   "outputs": [
    {
     "data": {
      "text/plain": [
       "[1, 2, 3]"
      ]
     },
     "execution_count": 4,
     "metadata": {},
     "output_type": "execute_result"
    }
   ],
   "source": [
    "sorted(numbers)"
   ]
  },
  {
   "cell_type": "code",
   "execution_count": 5,
   "id": "a91fc3b8",
   "metadata": {},
   "outputs": [
    {
     "data": {
      "text/plain": [
       "0"
      ]
     },
     "execution_count": 5,
     "metadata": {},
     "output_type": "execute_result"
    }
   ],
   "source": [
    "numbers.count(4)"
   ]
  },
  {
   "cell_type": "code",
   "execution_count": 8,
   "id": "db3c57e3",
   "metadata": {},
   "outputs": [
    {
     "data": {
      "text/plain": [
       "2"
      ]
     },
     "execution_count": 8,
     "metadata": {},
     "output_type": "execute_result"
    }
   ],
   "source": [
    "numbers.index(3)"
   ]
  },
  {
   "cell_type": "code",
   "execution_count": 6,
   "id": "b7afd6dd",
   "metadata": {},
   "outputs": [
    {
     "name": "stdout",
     "output_type": "stream",
     "text": [
      "해당 데이터 없음\n"
     ]
    }
   ],
   "source": [
    "# numbers.index(4)\n",
    "if 4 in numbers:\n",
    "    numbers.index(4)\n",
    "else:\n",
    "    print('해당 데이터 없음')"
   ]
  },
  {
   "cell_type": "code",
   "execution_count": 7,
   "id": "118f164f",
   "metadata": {},
   "outputs": [
    {
     "data": {
      "text/plain": [
       "-1"
      ]
     },
     "execution_count": 7,
     "metadata": {},
     "output_type": "execute_result"
    }
   ],
   "source": [
    "from lst import safe_index\n",
    "safe_index(numbers, 4)"
   ]
  },
  {
   "cell_type": "code",
   "execution_count": 19,
   "id": "c8de568d",
   "metadata": {},
   "outputs": [
    {
     "name": "stdout",
     "output_type": "stream",
     "text": [
      "데이터가 없습니다\n"
     ]
    }
   ],
   "source": [
    "numbers = (1, 4, 3, 2)\n",
    "if 4 in numbers[2:]:\n",
    "    numbers.index(4, 2) # index(찾을데이터, 찾기시작할index=0)\n",
    "else:\n",
    "    print(\"데이터가 없습니다\")"
   ]
  },
  {
   "cell_type": "code",
   "execution_count": 29,
   "id": "c85636f0",
   "metadata": {},
   "outputs": [],
   "source": [
    "def safe_index(lst, item, start=0):\n",
    "    \"\"\"\n",
    "    첫번째 매개변수 lst : 리스트, 튜플\n",
    "    두번째 매개변수 item : 리스트나 튜플에서 찾을 데이터\n",
    "    세번째 매개변수 start : 몇번째 index부터 찾을지 index 수(기본값:0)\n",
    "    \"\"\"\n",
    "    return lst.index(item, start) if item in lst[start:] else -1\n",
    "#     if item in lst[start:]:\n",
    "#         return lst.index(item, start) # start번째부터 item이 있는 index를 반환\n",
    "#     else:\n",
    "#         return -1"
   ]
  },
  {
   "cell_type": "code",
   "execution_count": 32,
   "id": "e972822d",
   "metadata": {},
   "outputs": [
    {
     "data": {
      "text/plain": [
       "1"
      ]
     },
     "execution_count": 32,
     "metadata": {},
     "output_type": "execute_result"
    }
   ],
   "source": [
    "safe_index(numbers, 4)"
   ]
  },
  {
   "cell_type": "code",
   "execution_count": 28,
   "id": "f19f9598",
   "metadata": {},
   "outputs": [
    {
     "data": {
      "text/plain": [
       "10"
      ]
     },
     "execution_count": 28,
     "metadata": {},
     "output_type": "execute_result"
    }
   ],
   "source": [
    "# 위의 if문을 조건식을 이용하여 한줄 코드\n",
    "def diff(x, y):\n",
    "    return x-y if x>y else y-x # if문이참일때값 if 조건 else if문거짓일때값\n",
    "#     if x>y:\n",
    "#         return x-y\n",
    "#     else:\n",
    "#         return y-x\n",
    "diff(10, 20)"
   ]
  },
  {
   "cell_type": "code",
   "execution_count": 34,
   "id": "6b667ae6",
   "metadata": {},
   "outputs": [
    {
     "name": "stdout",
     "output_type": "stream",
     "text": [
      "(1, 2, 3, 1, 2, 3)\n",
      "(1, 2, 3, 1, 2, 3, 1, 2, 3)\n",
      "(1, 2, 3, 1, 2, 3, 1, 2, 3)\n"
     ]
    }
   ],
   "source": [
    "numbers = (1, 2, 3)\n",
    "print(numbers + numbers)  # 연결\n",
    "print(3 * numbers) # 반복\n",
    "print(numbers * 3) # 반복"
   ]
  },
  {
   "cell_type": "code",
   "execution_count": 38,
   "id": "afa29305",
   "metadata": {},
   "outputs": [
    {
     "data": {
      "text/plain": [
       "(4, 16, 36)"
      ]
     },
     "execution_count": 38,
     "metadata": {},
     "output_type": "execute_result"
    }
   ],
   "source": [
    "# ex. 짝수 요소들을 추출하여 제곱한 데이터를 튜플로 출력하시오\n",
    "numbers = (11, 2, 3, 4, 5, 6)\n",
    "tuple(num**2 for num in numbers if num%2==0)"
   ]
  },
  {
   "cell_type": "markdown",
   "id": "fb1d672d",
   "metadata": {},
   "source": [
    "# 3절 딕셔너리\n",
    "- {}를 이용해서 키(key)-값(value)의 쌍으로 구성된 자료구조\n",
    "- 키는 유일한 값(중복 허용 안함). 키에 list는 사용 불가. 키에 tuple은 사용 가능\n",
    "- 값은 중복 가능. 모든 데이터 타입 가능\n",
    "- 인덱스를 이용한 참조는 지원 안 함"
   ]
  },
  {
   "cell_type": "code",
   "execution_count": 42,
   "id": "4b960c91",
   "metadata": {},
   "outputs": [
    {
     "name": "stdout",
     "output_type": "stream",
     "text": [
      "<class 'dict'>\n",
      "{'name': '홍길동', 1: 22, (1, 2): [1, 2]}\n"
     ]
    }
   ],
   "source": [
    "dic = {'name':'홍길동', 1:22, (1, 2):[1,2]}\n",
    "print(type(dic))\n",
    "print(dic)"
   ]
  },
  {
   "cell_type": "code",
   "execution_count": 43,
   "id": "3f594d68",
   "metadata": {},
   "outputs": [
    {
     "data": {
      "text/plain": [
       "3"
      ]
     },
     "execution_count": 43,
     "metadata": {},
     "output_type": "execute_result"
    }
   ],
   "source": [
    "len(dic) # 데이터 요소의 갯수"
   ]
  },
  {
   "cell_type": "code",
   "execution_count": 48,
   "id": "f0e4a871",
   "metadata": {},
   "outputs": [
    {
     "data": {
      "text/plain": [
       "{'fruit': 'apple', 'number': 12, 'sport': 'yoga'}"
      ]
     },
     "execution_count": 48,
     "metadata": {},
     "output_type": "execute_result"
    }
   ],
   "source": [
    "my_favorite = {'fruit':'apple', 'number':12, 'sport':'yoga'}\n",
    "my_favorite"
   ]
  },
  {
   "cell_type": "code",
   "execution_count": 50,
   "id": "7af52fcd",
   "metadata": {},
   "outputs": [
    {
     "name": "stdout",
     "output_type": "stream",
     "text": [
      "12\n",
      "12\n"
     ]
    }
   ],
   "source": [
    "# 변수[키] / 변수.get(키)\n",
    "print(my_favorite['number'])\n",
    "print(my_favorite.get('number'))"
   ]
  },
  {
   "cell_type": "code",
   "execution_count": 57,
   "id": "9234a678",
   "metadata": {},
   "outputs": [
    {
     "name": "stdout",
     "output_type": "stream",
     "text": [
      "None\n",
      "-\n"
     ]
    }
   ],
   "source": [
    "# print(my_favorite['people']) # 키목록에 없는 데이터를 참조시 에러\n",
    "print(my_favorite.get('people')) # 없는 키를 get함수로 참조시 None\n",
    "print(my_favorite.get('people', '-')) # 없는 키를 get함수로 참조시 '-'"
   ]
  },
  {
   "cell_type": "markdown",
   "id": "4851466b",
   "metadata": {},
   "source": [
    "## 딕셔너리 item 수정, 추가, 삭제"
   ]
  },
  {
   "cell_type": "code",
   "execution_count": 74,
   "id": "2e9f1173",
   "metadata": {},
   "outputs": [
    {
     "name": "stdout",
     "output_type": "stream",
     "text": [
      "people 추가후 : {'fruit': 'apple', 'number': 12, 'sport': 'yoga', 'people': '홍길동'}\n",
      "한꺼번에 추가후 : {'fruit': 'apple', 'number': 12, 'sport': 'yoga', 'people': '홍길동', 'subject': '수학', 'major': 'AI'}\n",
      "하나씩 수정 후 : {'fruit': 'mango', 'number': -9, 'sport': 'yoga', 'people': '홍길동', 'subject': '수학', 'major': 'AI'}\n",
      "한꺼번에 수정 후 : {'fruit': 'kiwi', 'number': -99, 'sport': 'yoga', 'people': '홍길동', 'subject': '수학', 'major': 'AI'}\n",
      "subject 키가 존재하지 않습니다\n",
      "del 제거(1) 후 : {'fruit': 'kiwi', 'number': -99, 'sport': 'yoga', 'people': '홍길동', 'major': 'AI'}\n",
      "제거한 데이터 : AI\n",
      "major 키가 존재하지 않습니다\n",
      "{'fruit': 'kiwi', 'number': -99, 'sport': 'yoga', 'people': '홍길동'}\n"
     ]
    }
   ],
   "source": [
    "my_favorite = {'fruit':'apple', 'number':12, 'sport':'yoga'}\n",
    "# 한 item씩 추가\n",
    "my_favorite['people'] = '홍길동'\n",
    "print('people 추가후 :', my_favorite)\n",
    "# 여러 item을 한꺼번에 추가\n",
    "my_favorite.update({'subject':'수학', 'major':'AI'})\n",
    "print('한꺼번에 추가후 :', my_favorite)\n",
    "\n",
    "# 한 item씩 수정\n",
    "my_favorite['fruit'] = 'mango'\n",
    "my_favorite['number'] = -9\n",
    "print('하나씩 수정 후 :', my_favorite)\n",
    "# 여러 item을 한꺼번 수정\n",
    "# my_favorite.update({'fruit':'kiwi', 'number':-99})\n",
    "my_favorite.update(fruit='kiwi', number=-99)\n",
    "print(\"한꺼번에 수정 후 :\", my_favorite)\n",
    "# item 제거(1)\n",
    "del my_favorite['subject'] # subject item 제거\n",
    "if 'subject' in my_favorite:\n",
    "    del my_favorite['subject']\n",
    "else:\n",
    "    print('subject 키가 존재하지 않습니다')\n",
    "print(\"del 제거(1) 후 :\", my_favorite)\n",
    "# item 제거(2)\n",
    "print('제거한 데이터 :', my_favorite.pop('major')) # major키 값을 반환하고 제거\n",
    "if 'major' in my_favorite:\n",
    "    print('제거한 데이터 :', my_favorite.pop('major'))\n",
    "else:\n",
    "    print('major 키가 존재하지 않습니다')\n",
    "print(my_favorite)"
   ]
  },
  {
   "cell_type": "markdown",
   "id": "4196a4af",
   "metadata": {},
   "source": [
    "## 출력하기"
   ]
  },
  {
   "cell_type": "code",
   "execution_count": 75,
   "id": "80232b07",
   "metadata": {},
   "outputs": [],
   "source": [
    "# for문을 이용한 튜플 출력\n",
    "my_tuple = ('홍길동', 30, '010-9999-9999')"
   ]
  },
  {
   "cell_type": "code",
   "execution_count": 82,
   "id": "d6d2576c",
   "metadata": {},
   "outputs": [
    {
     "name": "stdout",
     "output_type": "stream",
     "text": [
      "홍길동\t30\t010-9999-9999\t\n",
      "0번째 : 홍길동\t1번째 : 30\t2번째 : 010-9999-9999\t\n",
      "0번째 : 홍길동\t1번째 : 30\t2번째 : 010-9999-9999\t"
     ]
    }
   ],
   "source": [
    "for data in my_tuple:\n",
    "    print(data, end='\\t')\n",
    "print() # 개행\n",
    "for idx in range(len(my_tuple)):\n",
    "    print(\"{}번째 : {}\".format(idx, my_tuple[idx]), end=\"\\t\")\n",
    "    #print(idx,\"번째 : \", my_tuple[idx], sep='', end='\\t')\n",
    "print() # 개행\n",
    "for idx, data in enumerate(my_tuple):\n",
    "    print(f\"{idx}번째 : {data}\", end=\"\\t\")"
   ]
  },
  {
   "cell_type": "code",
   "execution_count": 83,
   "id": "e53c186d",
   "metadata": {},
   "outputs": [],
   "source": [
    "my_dic = {'name':'홍길동', 'age':30, 'tel':'010-9999-999'}"
   ]
  },
  {
   "cell_type": "code",
   "execution_count": 88,
   "id": "b90dfbbd",
   "metadata": {},
   "outputs": [
    {
     "name": "stdout",
     "output_type": "stream",
     "text": [
      "name : 홍길동\tage : 30\ttel : 010-9999-999\t"
     ]
    }
   ],
   "source": [
    "for key in my_dic: # 비추\n",
    "    print(\"{} : {}\".format(key, my_dic[key]), end=\"\\t\")"
   ]
  },
  {
   "cell_type": "code",
   "execution_count": 89,
   "id": "e84ce0f1",
   "metadata": {},
   "outputs": [
    {
     "data": {
      "text/plain": [
       "dict_keys(['name', 'age', 'tel'])"
      ]
     },
     "execution_count": 89,
     "metadata": {},
     "output_type": "execute_result"
    }
   ],
   "source": [
    "my_dic.keys() # 키 목록"
   ]
  },
  {
   "cell_type": "code",
   "execution_count": 90,
   "id": "3d1e124c",
   "metadata": {},
   "outputs": [
    {
     "data": {
      "text/plain": [
       "dict_values(['홍길동', 30, '010-9999-999'])"
      ]
     },
     "execution_count": 90,
     "metadata": {},
     "output_type": "execute_result"
    }
   ],
   "source": [
    "my_dic.values() # 값들 목록"
   ]
  },
  {
   "cell_type": "code",
   "execution_count": 91,
   "id": "b6dd9c56",
   "metadata": {},
   "outputs": [
    {
     "data": {
      "text/plain": [
       "dict_items([('name', '홍길동'), ('age', 30), ('tel', '010-9999-999')])"
      ]
     },
     "execution_count": 91,
     "metadata": {},
     "output_type": "execute_result"
    }
   ],
   "source": [
    "my_dic.items() # 키-값 쌍 목록"
   ]
  },
  {
   "cell_type": "code",
   "execution_count": 92,
   "id": "248b69df",
   "metadata": {},
   "outputs": [
    {
     "name": "stdout",
     "output_type": "stream",
     "text": [
      "name:홍길동\tage:30\ttel:010-9999-999\t"
     ]
    }
   ],
   "source": [
    "for key, value in my_dic.items():\n",
    "    print(\"{}:{}\".format(key, value), end=\"\\t\")"
   ]
  },
  {
   "cell_type": "code",
   "execution_count": 93,
   "id": "a8ed7717",
   "metadata": {},
   "outputs": [
    {
     "name": "stdout",
     "output_type": "stream",
     "text": [
      "홍길동\t30\t010-9999-999\t"
     ]
    }
   ],
   "source": [
    "for value in my_dic.values():\n",
    "    print(value, end=\"\\t\")"
   ]
  },
  {
   "cell_type": "code",
   "execution_count": 96,
   "id": "966ae721",
   "metadata": {},
   "outputs": [
    {
     "data": {
      "text/plain": [
       "[(0, ('name', '홍길동')), (1, ('age', 30)), (2, ('tel', '010-9999-999'))]"
      ]
     },
     "execution_count": 96,
     "metadata": {},
     "output_type": "execute_result"
    }
   ],
   "source": [
    "list(enumerate(my_dic.items()))"
   ]
  },
  {
   "cell_type": "code",
   "execution_count": 98,
   "id": "4efdb5d0",
   "metadata": {},
   "outputs": [
    {
     "name": "stdout",
     "output_type": "stream",
     "text": [
      "1. name : 홍길동\n",
      "2. age : 30\n",
      "3. tel : 010-9999-999\n"
     ]
    }
   ],
   "source": [
    "for no, (key, value) in enumerate(my_dic.items()):\n",
    "    print(\"{}. {} : {}\".format(no+1, key, value))"
   ]
  },
  {
   "cell_type": "markdown",
   "id": "e9395f26",
   "metadata": {},
   "source": [
    "## in연산자"
   ]
  },
  {
   "cell_type": "code",
   "execution_count": 100,
   "id": "627f7ae9",
   "metadata": {},
   "outputs": [
    {
     "data": {
      "text/plain": [
       "True"
      ]
     },
     "execution_count": 100,
     "metadata": {},
     "output_type": "execute_result"
    }
   ],
   "source": [
    "# tuple, list, set\n",
    "t = (10, 20, 30)\n",
    "30 in t # list, tuple, set에서의 in연산자 : 요소(데이터, item)가 있는지 여부 반환"
   ]
  },
  {
   "cell_type": "code",
   "execution_count": 101,
   "id": "aac4239e",
   "metadata": {},
   "outputs": [
    {
     "data": {
      "text/plain": [
       "False"
      ]
     },
     "execution_count": 101,
     "metadata": {},
     "output_type": "execute_result"
    }
   ],
   "source": [
    "# dictionary\n",
    "dic = {'name':'홍길동', 'age':30}\n",
    "'홍길동' in dic # dictionary에서의 in연산자 : key가 있는지 여부 반환"
   ]
  },
  {
   "cell_type": "code",
   "execution_count": 102,
   "id": "44d9fd13",
   "metadata": {},
   "outputs": [
    {
     "data": {
      "text/plain": [
       "True"
      ]
     },
     "execution_count": 102,
     "metadata": {},
     "output_type": "execute_result"
    }
   ],
   "source": [
    "'홍길동' in dic.values()"
   ]
  },
  {
   "cell_type": "markdown",
   "id": "8350b17d",
   "metadata": {},
   "source": [
    "## 복제하기"
   ]
  },
  {
   "cell_type": "code",
   "execution_count": 103,
   "id": "84a4229e",
   "metadata": {},
   "outputs": [
    {
     "name": "stdout",
     "output_type": "stream",
     "text": [
      "my_favorite 주소 : 1557842206464\n",
      "new_favorite 주소 : 1557842206464\n"
     ]
    }
   ],
   "source": [
    "# 할당\n",
    "my_favorite = {'fruit':'apple', 'number':12}\n",
    "new_favorite = my_favorite\n",
    "print('my_favorite 주소 :', id(my_favorite))\n",
    "print('new_favorite 주소 :', id(new_favorite))"
   ]
  },
  {
   "cell_type": "code",
   "execution_count": 104,
   "id": "fe35fd68",
   "metadata": {},
   "outputs": [
    {
     "name": "stdout",
     "output_type": "stream",
     "text": [
      "원본 : {'fruit': '과일은 다 좋아', 'number': 12, 'people': '홍길동'}\n",
      "수정본 : {'fruit': '과일은 다 좋아', 'number': 12, 'people': '홍길동'}\n"
     ]
    }
   ],
   "source": [
    "new_favorite['fruit'] = '과일은 다 좋아'\n",
    "new_favorite['people'] = \"홍길동\"\n",
    "print('원본 :', my_favorite)\n",
    "print('수정본 :', new_favorite)"
   ]
  },
  {
   "cell_type": "code",
   "execution_count": 106,
   "id": "465e2854",
   "metadata": {},
   "outputs": [
    {
     "name": "stdout",
     "output_type": "stream",
     "text": [
      "my_favorite 주소 : 1557838569408\n",
      "new_favorite 주소 : 1557838569152\n",
      "원본 : {'fruit': 'apple', 'number': 12}\n",
      "수정본 : {'fruit': '과일은 다 좋아', 'number': 12, 'people': '홍길동'}\n"
     ]
    }
   ],
   "source": [
    "# 복제(깊은 복사)\n",
    "my_favorite = {'fruit':'apple', 'number':12}\n",
    "new_favorite = my_favorite.copy()\n",
    "print('my_favorite 주소 :', id(my_favorite))\n",
    "print('new_favorite 주소 :', id(new_favorite))\n",
    "new_favorite['fruit'] = '과일은 다 좋아'\n",
    "new_favorite['people'] = \"홍길동\"\n",
    "print('원본 :', my_favorite)\n",
    "print('수정본 :', new_favorite)"
   ]
  },
  {
   "cell_type": "markdown",
   "id": "d334a8d3",
   "metadata": {},
   "source": [
    "# 4절 셋\n",
    "- 중복을 허용하지 않는 집합(순서X)\n",
    "- {}나 set()함수를 이용해서 셋 생성 ex. set([1, 2, 1]), set({'name':'홍길동'})\n",
    "- 추가 : add(), update()\n",
    "- 삭제 : remove()\n",
    "- 집합연산자 : &교집합,   |합집합,    -차집합"
   ]
  },
  {
   "cell_type": "code",
   "execution_count": 108,
   "id": "84ba3b97",
   "metadata": {},
   "outputs": [
    {
     "data": {
      "text/plain": [
       "{'apple', 'banana', 'orange'}"
      ]
     },
     "execution_count": 108,
     "metadata": {},
     "output_type": "execute_result"
    }
   ],
   "source": [
    "fruits = {'banana', 'orange', 'apple', 'apple'}\n",
    "fruits"
   ]
  },
  {
   "cell_type": "code",
   "execution_count": 109,
   "id": "7376de95",
   "metadata": {},
   "outputs": [
    {
     "data": {
      "text/plain": [
       "{1, 2, 3}"
      ]
     },
     "execution_count": 109,
     "metadata": {},
     "output_type": "execute_result"
    }
   ],
   "source": [
    "s1 = set([1, 2, 3, 1, 1, 1, 1, 1, 1, 1, 1, 1, 1])\n",
    "s1"
   ]
  },
  {
   "cell_type": "code",
   "execution_count": 111,
   "id": "ebd84a8e",
   "metadata": {},
   "outputs": [
    {
     "data": {
      "text/plain": [
       "{1, 2, 3}"
      ]
     },
     "execution_count": 111,
     "metadata": {},
     "output_type": "execute_result"
    }
   ],
   "source": [
    "s1 = set((1, 2, 3, 1, 1, 1, 1, 1, 1, 1, 1, 1, 1))\n",
    "s1"
   ]
  },
  {
   "cell_type": "code",
   "execution_count": 112,
   "id": "ee7c3f34",
   "metadata": {},
   "outputs": [
    {
     "data": {
      "text/plain": [
       "{'address', 'age', 'name'}"
      ]
     },
     "execution_count": 112,
     "metadata": {},
     "output_type": "execute_result"
    }
   ],
   "source": [
    "# set함수를 이용해서 딕셔너리를 셋으로 전환할 때는 key만 적용\n",
    "s2 = set({'name':'홍길동', 'age':30, 'address':'서울'})\n",
    "s2"
   ]
  },
  {
   "cell_type": "markdown",
   "id": "7093602c",
   "metadata": {},
   "source": [
    "## 추가하기\n",
    "- add() : 기본자료형, 튜플 데이터 하나 추가. list, dic, set유형은 add()함수 사용 불가\n",
    "- update() : 리스트, 튜플, 딕셔너리, 셋 요소를 하나씩 따로 추가. dict사용시 key만 추가\n",
    "    cf list의 extend()"
   ]
  },
  {
   "cell_type": "code",
   "execution_count": 121,
   "id": "3c48cae8",
   "metadata": {},
   "outputs": [
    {
     "name": "stdout",
     "output_type": "stream",
     "text": [
      "add() 후 : {1, 2, 3, 4, '오', (6, 7)}\n"
     ]
    }
   ],
   "source": [
    "s = {1, 2, 3}\n",
    "s.add((6,7))\n",
    "s.add(4)\n",
    "s.add('오')\n",
    "print(\"add() 후 :\", s)"
   ]
  },
  {
   "cell_type": "code",
   "execution_count": 131,
   "id": "e86c3d17",
   "metadata": {},
   "outputs": [
    {
     "name": "stdout",
     "output_type": "stream",
     "text": [
      "True add후 : {1, 2, 3}\n"
     ]
    }
   ],
   "source": [
    "# 1이 set에 있는 상태에서 True 추가\n",
    "s = {1, 2, 3, 1, 1}\n",
    "s.add(True)\n",
    "print(\"True add후 :\", s)"
   ]
  },
  {
   "cell_type": "code",
   "execution_count": 133,
   "id": "6475b401",
   "metadata": {},
   "outputs": [
    {
     "name": "stdout",
     "output_type": "stream",
     "text": [
      "1 add 후 : {False, 1, 2}\n"
     ]
    }
   ],
   "source": [
    "# 0이 set에 있는 상태에서 False 추가\n",
    "s = {False, 1, 2}\n",
    "s.add(0)\n",
    "print(\"0 add 후 :\", s)"
   ]
  },
  {
   "cell_type": "code",
   "execution_count": 126,
   "id": "49bfb1e6",
   "metadata": {},
   "outputs": [
    {
     "name": "stdout",
     "output_type": "stream",
     "text": [
      "update() 후 : {'age', 1, 2, 3, 4, 5, 6, 'name'}\n"
     ]
    }
   ],
   "source": [
    "s = {1, 2, 3}\n",
    "# s.update([4,5,6])\n",
    "# s.update( (4,5,6) )\n",
    "s.update( {4,5,6} )\n",
    "s.update({'name':'홍', 'age':20})\n",
    "print(\"update() 후 :\", s)"
   ]
  },
  {
   "cell_type": "markdown",
   "id": "2bdaba4c",
   "metadata": {},
   "source": [
    "## 삭제하기\n",
    "    remove()"
   ]
  },
  {
   "cell_type": "code",
   "execution_count": 134,
   "id": "e786ab43",
   "metadata": {},
   "outputs": [
    {
     "data": {
      "text/plain": [
       "{1, 3}"
      ]
     },
     "execution_count": 134,
     "metadata": {},
     "output_type": "execute_result"
    }
   ],
   "source": [
    "s = {1, 2, 3, 1, 1}\n",
    "s.remove(2)\n",
    "s"
   ]
  },
  {
   "cell_type": "code",
   "execution_count": 136,
   "id": "294db3c5",
   "metadata": {},
   "outputs": [
    {
     "name": "stdout",
     "output_type": "stream",
     "text": [
      "해당 데이터는 없습니다\n"
     ]
    }
   ],
   "source": [
    "# 없는 요소를 삭제할 경우 에러\n",
    "if 5 in s:\n",
    "    s.remove(5)\n",
    "else:\n",
    "    print(\"해당 데이터는 없습니다\")"
   ]
  },
  {
   "cell_type": "markdown",
   "id": "fabc7983",
   "metadata": {},
   "source": [
    "## 집합연산자\n",
    "    &(교집합), |(합집합), -(차집합)"
   ]
  },
  {
   "cell_type": "code",
   "execution_count": 140,
   "id": "42115c38",
   "metadata": {},
   "outputs": [
    {
     "name": "stdout",
     "output_type": "stream",
     "text": [
      "s1 = {1, 2, 3, 4, 5}\n",
      "s2 = {3, 4, 5, 6, 7}\n",
      "s1&s2 = {3, 4, 5}\n",
      "s1|s2 = {1, 2, 3, 4, 5, 6, 7}\n",
      "s1-s2 = {1, 2}\n",
      "s2-s1 = {6, 7}\n"
     ]
    }
   ],
   "source": [
    "s1 = {1, 2, 3, 4, 5}\n",
    "s2 = {3, 4, 5, 6, 7}\n",
    "print(\"s1 =\", s1)\n",
    "print(\"s2 =\", s2)\n",
    "print(\"s1&s2 =\", s1&s2)\n",
    "print(\"s1|s2 =\", s1|s2)\n",
    "print(\"s1-s2 =\", s1-s2)\n",
    "print(\"s2-s1 =\", s2-s1)"
   ]
  },
  {
   "cell_type": "code",
   "execution_count": 2,
   "id": "1d3ac480",
   "metadata": {},
   "outputs": [
    {
     "name": "stdout",
     "output_type": "stream",
     "text": [
      "길숙\n",
      "길동\n",
      "길자\n"
     ]
    }
   ],
   "source": [
    "names = {'길동', \"길숙\", \"길자\"}\n",
    "for name in names:\n",
    "    print(name)"
   ]
  },
  {
   "cell_type": "markdown",
   "id": "e67b8c9e",
   "metadata": {},
   "source": [
    "# 5절 enumerate\n",
    "- 반복자. 반복문을 처리할 때 사용할 순서객체를 생성하는 함수\n",
    "- 리스트, 튜플, 딕셔너리, 셋을 for문에 사용시"
   ]
  },
  {
   "cell_type": "code",
   "execution_count": 3,
   "id": "b34a0f68",
   "metadata": {},
   "outputs": [
    {
     "data": {
      "text/plain": [
       "[(0, '길숙'), (1, '길동'), (2, '길자')]"
      ]
     },
     "execution_count": 3,
     "metadata": {},
     "output_type": "execute_result"
    }
   ],
   "source": [
    "list(enumerate(names))"
   ]
  },
  {
   "cell_type": "code",
   "execution_count": 4,
   "id": "0edff817",
   "metadata": {},
   "outputs": [
    {
     "name": "stdout",
     "output_type": "stream",
     "text": [
      "1. 길숙\n",
      "2. 길동\n",
      "3. 길자\n"
     ]
    }
   ],
   "source": [
    "for no, name in enumerate(names):\n",
    "    print(\"{}. {}\".format(no+1, name))"
   ]
  },
  {
   "cell_type": "code",
   "execution_count": 6,
   "id": "c7f07900",
   "metadata": {},
   "outputs": [],
   "source": [
    "names = ['길동', '길자', '길숙']\n",
    "tels = ['02-999-9999', '02-888-8888', '02-777-7777']\n",
    "adds = ['서울', '판교', '하남']"
   ]
  },
  {
   "cell_type": "code",
   "execution_count": 16,
   "id": "92c3463a",
   "metadata": {},
   "outputs": [
    {
     "name": "stdout",
     "output_type": "stream",
     "text": [
      "1. 길동님의 연락처는 02-999-9999이고, 서울 살아요\n",
      "2. 길자님의 연락처는 02-888-8888이고, 판교 살아요\n",
      "3. 길숙님의 연락처는 02-777-7777이고, 하남 살아요\n"
     ]
    }
   ],
   "source": [
    "for idx in range(len(names)):\n",
    "    print(\"{}. {}님의 연락처는 {}이고, {} 살아요\".format(idx+1, \n",
    "                          names[idx], \n",
    "                          tels[idx],\n",
    "                          adds[idx]))"
   ]
  },
  {
   "cell_type": "code",
   "execution_count": 18,
   "id": "21a40983",
   "metadata": {},
   "outputs": [
    {
     "data": {
      "text/plain": [
       "[('길동', '02-999-9999', '서울'),\n",
       " ('길자', '02-888-8888', '판교'),\n",
       " ('길숙', '02-777-7777', '하남')]"
      ]
     },
     "execution_count": 18,
     "metadata": {},
     "output_type": "execute_result"
    }
   ],
   "source": [
    "list(zip(names, tels, adds))"
   ]
  },
  {
   "cell_type": "code",
   "execution_count": 19,
   "id": "0be6651e",
   "metadata": {},
   "outputs": [
    {
     "name": "stdout",
     "output_type": "stream",
     "text": [
      "길동님의 연락처는 02-999-9999이고, 서울 살아요\n",
      "길자님의 연락처는 02-888-8888이고, 판교 살아요\n",
      "길숙님의 연락처는 02-777-7777이고, 하남 살아요\n"
     ]
    }
   ],
   "source": [
    "for name, tel, add in zip(names, tels, adds):\n",
    "    print(f\"{name}님의 연락처는 {tel}이고, {add} 살아요\")"
   ]
  },
  {
   "cell_type": "code",
   "execution_count": 21,
   "id": "aab05334",
   "metadata": {},
   "outputs": [
    {
     "data": {
      "text/plain": [
       "[(0, ('길동', '02-999-9999', '서울')),\n",
       " (1, ('길자', '02-888-8888', '판교')),\n",
       " (2, ('길숙', '02-777-7777', '하남'))]"
      ]
     },
     "execution_count": 21,
     "metadata": {},
     "output_type": "execute_result"
    }
   ],
   "source": [
    "list(enumerate(zip(names, tels, adds)))"
   ]
  },
  {
   "cell_type": "code",
   "execution_count": 27,
   "id": "5f4f2468",
   "metadata": {},
   "outputs": [
    {
     "name": "stdout",
     "output_type": "stream",
     "text": [
      "0. 길동님의 연락처는 02-999-9999이고, 서울 살아요\n",
      "1. 길자님의 연락처는 02-888-8888이고, 판교 살아요\n",
      "2. 길숙님의 연락처는 02-777-7777이고, 하남 살아요\n"
     ]
    }
   ],
   "source": [
    "for idx, (name, tel, add) in enumerate(zip(names, tels, adds)):\n",
    "    # print(f\"{idx}. {name}님의 연락처는 {tel}이고, {add} 살아요\")\n",
    "    print(\"{}. {}님의 연락처는 {}이고, {} 살아요\".format(idx, name, tel, add))"
   ]
  },
  {
   "cell_type": "code",
   "execution_count": 33,
   "id": "5600db77",
   "metadata": {},
   "outputs": [
    {
     "data": {
      "text/plain": [
       "[{'name': '길동', 'tel': '02-999-9999', 'add': '서울'},\n",
       " {'name': '길자', 'tel': '02-888-8888', 'add': '판교'},\n",
       " {'name': '길숙', 'tel': '02-777-7777', 'add': '하남'}]"
      ]
     },
     "execution_count": 33,
     "metadata": {},
     "output_type": "execute_result"
    }
   ],
   "source": [
    "names = ['길동', '길자', '길숙']\n",
    "tels = ['02-999-9999', '02-888-8888', '02-777-7777']\n",
    "adds = ['서울', '판교', '하남']\n",
    "members = [] # 딕셔너리 리스트\n",
    "for name, tel, add in zip(names, tels, adds):\n",
    "    member = {'name': name, 'tel':tel, 'add':add}\n",
    "    members.append(member)\n",
    "members"
   ]
  },
  {
   "cell_type": "code",
   "execution_count": 35,
   "id": "2951588d",
   "metadata": {},
   "outputs": [
    {
     "data": {
      "text/plain": [
       "[{'rank': 1, 'name': '길동', 'tel': '02-999-9999', 'add': '서울'},\n",
       " {'rank': 2, 'name': '길자', 'tel': '02-888-8888', 'add': '판교'},\n",
       " {'rank': 3, 'name': '길숙', 'tel': '02-777-7777', 'add': '하남'}]"
      ]
     },
     "execution_count": 35,
     "metadata": {},
     "output_type": "execute_result"
    }
   ],
   "source": [
    "members = [] # 딕셔너리 리스트\n",
    "for idx, (name, tel, add) in enumerate(zip(names, tels, adds)):\n",
    "    member = {'rank':idx+1, 'name': name, 'tel':tel, 'add':add}\n",
    "    members.append(member)\n",
    "members"
   ]
  },
  {
   "cell_type": "markdown",
   "id": "2eb92d36",
   "metadata": {},
   "source": [
    "# 6절 연습문제\n",
    "## 실습형 연습문제"
   ]
  },
  {
   "cell_type": "code",
   "execution_count": 61,
   "id": "a24c804f",
   "metadata": {
    "scrolled": true
   },
   "outputs": [
    {
     "name": "stdout",
     "output_type": "stream",
     "text": [
      "1번 결과 : [1, 2, 3, 4, 5, 6, 7, 8, 9, 10, 100]\n",
      "2번 결과 : [1, 2, 3, 4, 5, 6, 7, 8, 9, 10, 100, 200, 300, 400, 500]\n",
      "3번 결과 : [1, 2, 3, 4, 5]\n",
      "4번 결과 : [1, 3, 5, 7, 9, 100, 300, 500]\n"
     ]
    }
   ],
   "source": [
    "numbers = [1,2,3,4,5,6,7,8,9,10]\n",
    "# 1.숫자 100을 맨뒤에 추가\n",
    "numbers.append(100)\n",
    "print('1번 결과 :',numbers)\n",
    "\n",
    "# 2. 다음 리스트를 numbers 리스트 맨뒤에 추가\n",
    "data = [200,300,400,500]\n",
    "# numbers.extend(data)\n",
    "numbers += data\n",
    "print('2번 결과 :',numbers)\n",
    "\n",
    "# 3. 처음 다섯개 숫자만 출력(0~4번 index까지)\n",
    "print('3번 결과 :',numbers[:5])\n",
    "\n",
    "# 4. 짝수번째 데이터만 출력\n",
    "print('4번 결과 :', numbers[::2])"
   ]
  },
  {
   "cell_type": "code",
   "execution_count": 62,
   "id": "df6c2435",
   "metadata": {},
   "outputs": [
    {
     "name": "stdout",
     "output_type": "stream",
     "text": [
      "5번 후 결과 : [0, 2, 0, 4, 0, 6, 0, 8, 0, 10, 0, 200, 0, 400, 0]\n",
      "5번 출력만 : [0, 2, 0, 4, 0, 6, 0, 8, 0, 10, 0, 200, 0, 400, 0]\n",
      "6번 결과 : [0, 400, 0, 200, 0, 10, 0, 8, 0, 6, 0, 4, 0, 2, 0]\n"
     ]
    }
   ],
   "source": [
    "# 5. 짝수번째 데이터를 모두 0으로 바꿔\n",
    "numbers[1::2] = [0] * len(numbers[1::2])\n",
    "print('5번 후 결과 :', numbers)\n",
    "# 5-1. 짝수번째 데이터를 모두 0으로 바꾸는게 아니고 출력만 하려면\n",
    "print('5번 출력만 :',\n",
    "      [numbers[idx] if idx%2!=0 else 0 for idx in range(len(numbers))])\n",
    "\n",
    "# 6. 데이터를 역순(sort가 아니고 단순 역순)으로 나열\n",
    "print('6번 결과 :', numbers[::-1])\n",
    "# numbers.reverse()\n",
    "# print('6번 결과 :', numbers)"
   ]
  },
  {
   "cell_type": "code",
   "execution_count": 60,
   "id": "48f629fe",
   "metadata": {},
   "outputs": [
    {
     "name": "stdout",
     "output_type": "stream",
     "text": [
      "7번 결과 : 서울시 마포구\n",
      "7번 결과 : 서울시 마포구\n",
      "5번 후 결과 : [0, 2, 0, 4, 0, 6, 0, 8, 0, 10, 0, 200, 0, 400, 0]\n",
      "5번 출력만 : [0, 2, 0, 4, 0, 6, 0, 8, 0, 10, 0, 200, 0, 400, 0]\n",
      "6번 결과 : [0, 400, 0, 200, 0, 10, 0, 8, 0, 6, 0, 4, 0, 2, 0]\n",
      "6번 결과 : [0, 400, 0, 200, 0, 10, 0, 8, 0, 6, 0, 4, 0, 2, 0]\n",
      "8번 score 삭제  90\n",
      "8번 삭제 확인 :  {'name': '홍길동', 'age': 20, 'address': '서울시 마포구'}\n",
      "9번 확인 : {'name': '홍길동', 'age': 20, 'address': '서울시 서대문구'}\n",
      "10번 결과 : ['홍길동', 20, '서울시 서대문구']\n"
     ]
    }
   ],
   "source": [
    "member = {'name':\"홍길동\",\"age\":20,\"address\":\"서울시 마포구\", 'score':90}\n",
    "# 7번 address값 출력\n",
    "print('7번 결과 :', member['address']) # 비추\n",
    "print('7번 결과 :', member.get('address')) # 추천\n",
    "                # ★-------------------★ #\n",
    "    \n",
    "# 8 score를 출력하고 딕셔너리에서 삭제 방법1# 5. 짝수번째 데이터를 모두 0으로 바꿔\n",
    "if 'score' in member:\n",
    "    # print(member['score'])\n",
    "    # del member['score'] del은 삭제만 되고 pop는 출력되고 삭제됨\n",
    "    print('8번 score 삭제 ', member.pop('score'))\n",
    "    print('8번 삭제 확인 : ', member)\n",
    "else:\n",
    "    print(\"score 키가 없습니다\")\n",
    "#9. address변경\n",
    "member['address'] ='서울시 서대문구'\n",
    "print('9번 확인 :', member)\n",
    "# 10 데이터 값만 리스트로 출력\n",
    "print('10번 결과 :',list(member.values()))"
   ]
  },
  {
   "cell_type": "markdown",
   "id": "4c3128ae",
   "metadata": {},
   "source": [
    "## 서술형 연습문제"
   ]
  },
  {
   "cell_type": "code",
   "execution_count": 42,
   "id": "fc87200f",
   "metadata": {},
   "outputs": [
    {
     "name": "stdout",
     "output_type": "stream",
     "text": [
      "['orange', 'banana']\n"
     ]
    }
   ],
   "source": [
    "# 1 다음 코드를 실행했을 때 출력되는 것은?\n",
    "L1 = (\"orange\",\"apple\",\"banana\",\"kiwi\")\n",
    "new_list = [i for i in L1 if len(i)>5] # 리스트컴프리헨션\n",
    "print(new_list)"
   ]
  },
  {
   "cell_type": "code",
   "execution_count": 43,
   "id": "844f289c",
   "metadata": {},
   "outputs": [
    {
     "data": {
      "text/plain": [
       "[10, 9, 8, 7, 6, 5, 4, 3, 2, 1]"
      ]
     },
     "execution_count": 43,
     "metadata": {},
     "output_type": "execute_result"
    }
   ],
   "source": [
    "# 2다음 코드와 실행결과가 잘못 짝지어진 것은? (3)\n",
    "list(range(10,0,-1))"
   ]
  },
  {
   "cell_type": "code",
   "execution_count": 44,
   "id": "4c0f6999",
   "metadata": {},
   "outputs": [
    {
     "data": {
      "text/plain": [
       "1"
      ]
     },
     "execution_count": 44,
     "metadata": {},
     "output_type": "execute_result"
    }
   ],
   "source": [
    "# 3. 다음 구문에 의해 출력되는 것은? 1\n",
    "numbers_2d = [ [1,2,3,4,5], [10,20,30,40],[1,3,5],[2,] ]\n",
    "len(numbers_2d[3])"
   ]
  },
  {
   "cell_type": "code",
   "execution_count": 45,
   "id": "49186ee8",
   "metadata": {},
   "outputs": [
    {
     "data": {
      "text/plain": [
       "[1, 2, 3, 4, 5, 10, 20, 30, 40, 50]"
      ]
     },
     "execution_count": 45,
     "metadata": {},
     "output_type": "execute_result"
    }
   ],
   "source": [
    "# 4 extend\n",
    "numbers = [1,2,3,4,5]\n",
    "numbers.extend([10,20,30,40,50])\n",
    "      #────────#\n",
    "numbers"
   ]
  },
  {
   "cell_type": "code",
   "execution_count": 46,
   "id": "a83579db",
   "metadata": {},
   "outputs": [
    {
     "name": "stdout",
     "output_type": "stream",
     "text": [
      "[0, 1, 0, 3, 0, 5, 0, 7, 0, 9]\n"
     ]
    }
   ],
   "source": [
    "# 5. 다음 구문을 실행할 때 결과는 ? [0, 1, 0, 3, 0, 5, 0, 7, 0, 9]\n",
    "numbers = list(range(10))\n",
    "numbers[ : : 2]= [0] * len(numbers[ : : 2])\n",
    "                #─────────────────────────#\n",
    "print(numbers)"
   ]
  },
  {
   "cell_type": "code",
   "execution_count": 47,
   "id": "255850e9",
   "metadata": {},
   "outputs": [
    {
     "name": "stdout",
     "output_type": "stream",
     "text": [
      "[5, 1, 6, 3, 7, 5, 8, 7, 9, 9]\n"
     ]
    }
   ],
   "source": [
    "# 6. 다음 구문을 실행할 때 결과는 ?\n",
    "numbers = [0,1,2,3,4,5,6,7,8,9]\n",
    "                    #─────────#\n",
    "numbers[ : : 2]= numbers[5:]\n",
    "print(numbers)"
   ]
  },
  {
   "cell_type": "code",
   "execution_count": 49,
   "id": "01ea9f64",
   "metadata": {},
   "outputs": [
    {
     "name": "stdout",
     "output_type": "stream",
     "text": [
      "[0, 1, 1, 3, 2, 5, 3, 7, 4, 9]\n"
     ]
    }
   ],
   "source": [
    "# 7. 다음 구문을 실행할 때 결과는 ?\n",
    "numbers = [0, 1, 2, 3, 4, 5, 6, 7, 8, 9]\n",
    "numbers[ : : 2]= numbers[:5]\n",
    "print(numbers)"
   ]
  },
  {
   "cell_type": "code",
   "execution_count": 51,
   "id": "354ada29",
   "metadata": {},
   "outputs": [
    {
     "name": "stdout",
     "output_type": "stream",
     "text": [
      "10\n",
      "10\n",
      "10\n",
      "10\n"
     ]
    }
   ],
   "source": [
    "# 8. 다음 데이터에서 10을 출력할 수 없는 구문은? (1) my_dic[0]\n",
    "my_dic = {\"a\":10, \"b\":20, \"c\":30}\n",
    "print(my_dic['a']) # (2)\n",
    "print(list(my_dic.items())[0][1]) # (3)\n",
    "print(list(my_dic.values())[0]) # (4)\n",
    "print(my_dic.get('a')) # (5)"
   ]
  },
  {
   "cell_type": "code",
   "execution_count": 52,
   "id": "34f328f6",
   "metadata": {},
   "outputs": [
    {
     "name": "stdout",
     "output_type": "stream",
     "text": [
      "apple\n",
      "banana\n",
      "orange\n"
     ]
    }
   ],
   "source": [
    "# 9. 다음 프로그램의 결과를 출력하시오\n",
    "fruits = [ 'apple', 'banana', 'orange']\n",
    "x, y, z = fruits\n",
    "print(x) \n",
    "print(y) \n",
    "print(z) "
   ]
  },
  {
   "cell_type": "code",
   "execution_count": 53,
   "id": "be928684",
   "metadata": {},
   "outputs": [
    {
     "name": "stdout",
     "output_type": "stream",
     "text": [
      "3\n"
     ]
    }
   ],
   "source": [
    "# 10. 다음 프로그램의 결과를 출력하시오\n",
    "fruits = ['apple','banana','orange']\n",
    "print(len(fruits))"
   ]
  },
  {
   "cell_type": "code",
   "execution_count": 54,
   "id": "ccc1b9ca",
   "metadata": {},
   "outputs": [],
   "source": [
    "# 11. 파이썬에서 함수를 만들기 위해 선언하는 단어는? def"
   ]
  },
  {
   "cell_type": "markdown",
   "id": "385cdc7d",
   "metadata": {},
   "source": [
    "![변수타입들](https://pynative.com/wp-content/uploads/2021/02/python-data-types.jpg)"
   ]
  },
  {
   "cell_type": "markdown",
   "id": "450aaf22",
   "metadata": {},
   "source": [
    "<img src=\"https://pynative.com/wp-content/uploads/2021/02/python-data-types.jpg\"\n",
    "    style=\"float:left\"\n",
    "    width=\"500\">"
   ]
  }
 ],
 "metadata": {
  "kernelspec": {
   "display_name": "Python 3 (ipykernel)",
   "language": "python",
   "name": "python3"
  },
  "language_info": {
   "codemirror_mode": {
    "name": "ipython",
    "version": 3
   },
   "file_extension": ".py",
   "mimetype": "text/x-python",
   "name": "python",
   "nbconvert_exporter": "python",
   "pygments_lexer": "ipython3",
   "version": "3.10.9"
  },
  "toc": {
   "base_numbering": 1,
   "nav_menu": {},
   "number_sections": false,
   "sideBar": true,
   "skip_h1_title": false,
   "title_cell": "Table of Contents",
   "title_sidebar": "Contents",
   "toc_cell": false,
   "toc_position": {
    "height": "calc(100% - 180px)",
    "left": "10px",
    "top": "150px",
    "width": "165px"
   },
   "toc_section_display": true,
   "toc_window_display": true
  }
 },
 "nbformat": 4,
 "nbformat_minor": 5
}
